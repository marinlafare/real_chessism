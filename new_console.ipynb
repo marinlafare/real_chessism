{
 "cells": [
  {
   "cell_type": "code",
   "execution_count": 1,
   "id": "170a08a1-d403-4611-9c29-fc7426d85da2",
   "metadata": {},
   "outputs": [],
   "source": [
    "import os\n",
    "from dotenv import load_dotenv\n",
    "import json\n",
    "import requests\n",
    "import re\n",
    "from datetime import datetime\n",
    "import io\n",
    "from constants import *\n",
    "from database.operations.models import PlayerCreateData, GameCreateData, MoveCreateData,MonthCreateData\n",
    "from database.database.ask_db import open_request,get_ask_connection,delete_all_tables\n",
    "from database.operations.players import insert_player, read_player\n",
    "from database.operations.games import create_games\n",
    "from database.operations.format_dates import create_range\n",
    "import database.operations.chess_com_endpoints as chess_com_endpoints\n",
    "from database.operations.chess_com_api import download_months \n",
    "from database.operations.format_games import format_and_insert_games\n",
    "from database.operations.players import insert_player\n",
    "from database.operations.chess_com_api import get_profile"
   ]
  },
  {
   "cell_type": "code",
   "execution_count": 2,
   "id": "b92456f3-1e88-4ec8-be0d-ec31474f4b04",
   "metadata": {},
   "outputs": [],
   "source": [
    "from database.database.db_interface import DBInterface\n",
    "from database.database.models import Player, Game, Month, Move"
   ]
  },
  {
   "cell_type": "code",
   "execution_count": 3,
   "id": "f30741f9-77fa-49bc-a12d-bbc1d3324f15",
   "metadata": {},
   "outputs": [],
   "source": [
    "player_interface = DBInterface(Player)\n",
    "game_interface = DBInterface(Game)\n",
    "month_interface = DBInterface(Month)\n",
    "move_interface = DBInterface(Move)"
   ]
  },
  {
   "cell_type": "code",
   "execution_count": 4,
   "id": "ef04063e-73ae-4613-b1ed-9617a5c37a19",
   "metadata": {},
   "outputs": [
    {
     "data": {
      "text/plain": [
       "dict_keys(['link', 'year', 'month', 'day', 'hour', 'minute', 'second', 'white', 'black', 'white_elo', 'black_elo', 'white_result', 'black_result', 'white_str_result', 'black_str_result', 'time_control', 'eco', 'time_elapsed', 'n_moves'])"
      ]
     },
     "execution_count": 4,
     "metadata": {},
     "output_type": "execute_result"
    }
   ],
   "source": [
    "GameCreateData.__annotations__.keys()"
   ]
  },
  {
   "cell_type": "code",
   "execution_count": null,
   "id": "ac3976b3-04b7-4b3e-b461-7a8c5a5ef118",
   "metadata": {},
   "outputs": [],
   "source": []
  },
  {
   "cell_type": "code",
   "execution_count": null,
   "id": "bfbad56f-20dd-4e4a-8397-574d3317a68c",
   "metadata": {},
   "outputs": [],
   "source": []
  },
  {
   "cell_type": "code",
   "execution_count": null,
   "id": "d3bcc73c-78d0-4b76-a393-969916c3d7ec",
   "metadata": {},
   "outputs": [],
   "source": [
    "from database.database.engine import init_db\n",
    "init_db(CONN_STRING)"
   ]
  },
  {
   "cell_type": "code",
   "execution_count": 7,
   "id": "f14985a6-3c0a-4548-b91e-0dc71f298fca",
   "metadata": {},
   "outputs": [
    {
     "data": {
      "text/plain": [
       "True"
      ]
     },
     "execution_count": 7,
     "metadata": {},
     "output_type": "execute_result"
    }
   ],
   "source": [
    "load_dotenv('this_is_not_an_env.env')"
   ]
  },
  {
   "cell_type": "code",
   "execution_count": 11,
   "id": "07b5bf50-f2da-4127-bb48-f6a9f771d93d",
   "metadata": {},
   "outputs": [
    {
     "name": "stdout",
     "output_type": "stream",
     "text": [
      "2024 10\n",
      "2024 11\n",
      "2023 10\n",
      "2023 11\n",
      "GOT 4 games\n",
      "downloading over\n",
      "returned games = 4\n"
     ]
    }
   ],
   "source": [
    "parallel = download_months(\"hikaru\", [(2024,10),\n",
    "                           (2024,11),\n",
    "                           (2023,10),\n",
    "                           (2023,11)], parallel=True)"
   ]
  },
  {
   "cell_type": "code",
   "execution_count": 12,
   "id": "680aedcf-a3e1-4a3f-9e77-fcef0ad15831",
   "metadata": {},
   "outputs": [
    {
     "data": {
      "text/plain": [
       "dict"
      ]
     },
     "execution_count": 12,
     "metadata": {},
     "output_type": "execute_result"
    }
   ],
   "source": [
    "type(parallel)"
   ]
  },
  {
   "cell_type": "code",
   "execution_count": 13,
   "id": "e168e31c-c784-48b3-a966-a4ec08401324",
   "metadata": {},
   "outputs": [
    {
     "data": {
      "text/plain": [
       "344"
      ]
     },
     "execution_count": 13,
     "metadata": {},
     "output_type": "execute_result"
    }
   ],
   "source": [
    "len(parallel[2024][10])"
   ]
  },
  {
   "cell_type": "code",
   "execution_count": 14,
   "id": "84e5ab06-7e06-4721-a6c0-95838e6940dd",
   "metadata": {},
   "outputs": [
    {
     "data": {
      "text/plain": [
       "{'url': 'https://www.chess.com/game/live/121533668057',\n",
       " 'pgn': '[Event \"Live Chess\"]\\n[Site \"Chess.com\"]\\n[Date \"2024.10.01\"]\\n[Round \"-\"]\\n[White \"tetrix83\"]\\n[Black \"Hikaru\"]\\n[Result \"0-1\"]\\n[Tournament \"https://www.chess.com/tournament/live/early-titled-tuesday-blitz-october-01-2024-5099899\"]\\n[CurrentPosition \"5rk1/2q2bb1/1p5p/nPp1r3/2P4Q/4B1P1/5PBP/3RR1K1 w - -\"]\\n[Timezone \"UTC\"]\\n[ECO \"B40\"]\\n[ECOUrl \"https://www.chess.com/openings/Sicilian-Defense-French-Variation-3.g3\"]\\n[UTCDate \"2024.10.01\"]\\n[UTCTime \"15:00:00\"]\\n[WhiteElo \"2557\"]\\n[BlackElo \"3282\"]\\n[TimeControl \"180+1\"]\\n[Termination \"Hikaru won on time\"]\\n[StartTime \"15:00:00\"]\\n[EndDate \"2024.10.01\"]\\n[EndTime \"15:05:12\"]\\n[Link \"https://www.chess.com/game/live/121533668057\"]\\n\\n1. e4 {[%clk 0:02:17.6]} 1... c5 {[%clk 0:02:58.2]} 2. Nf3 {[%clk 0:02:17.5]} 2... e6 {[%clk 0:02:58.7]} 3. g3 {[%clk 0:02:17.5]} 3... g6 {[%clk 0:02:56.6]} 4. Bg2 {[%clk 0:02:16.8]} 4... Bg7 {[%clk 0:02:56.7]} 5. O-O {[%clk 0:02:17]} 5... Nc6 {[%clk 0:02:56.5]} 6. c3 {[%clk 0:02:16.9]} 6... e5 {[%clk 0:02:46.8]} 7. d3 {[%clk 0:02:08.7]} 7... d6 {[%clk 0:02:46.6]} 8. a3 {[%clk 0:02:08.3]} 8... Nge7 {[%clk 0:02:46.2]} 9. b4 {[%clk 0:02:08.5]} 9... O-O {[%clk 0:02:46.7]} 10. Be3 {[%clk 0:02:03.9]} 10... b6 {[%clk 0:02:46.5]} 11. Nbd2 {[%clk 0:02:02.7]} 11... h6 {[%clk 0:02:46.1]} 12. b5 {[%clk 0:01:46.8]} 12... Na5 {[%clk 0:02:44]} 13. d4 {[%clk 0:01:44.5]} 13... a6 {[%clk 0:02:41.8]} 14. a4 {[%clk 0:01:34.8]} 14... Qc7 {[%clk 0:02:34.6]} 15. dxe5 {[%clk 0:01:13]} 15... dxe5 {[%clk 0:02:35.5]} 16. c4 {[%clk 0:01:09.6]} 16... Be6 {[%clk 0:02:27.2]} 17. Qc2 {[%clk 0:01:03.4]} 17... axb5 {[%clk 0:02:25.5]} 18. axb5 {[%clk 0:01:00.1]} 18... f5 {[%clk 0:02:25.7]} 19. exf5 {[%clk 0:00:45]} 19... gxf5 {[%clk 0:02:26.6]} 20. Rfe1 {[%clk 0:00:39]} 20... Ng6 {[%clk 0:02:15.3]} 21. Rad1 {[%clk 0:00:05.6]} 21... e4 {[%clk 0:02:12.3]} 22. Nxe4 {[%clk 0:00:03.2]} 22... fxe4 {[%clk 0:02:12.1]} 23. Qxe4 {[%clk 0:00:03.7]} 23... Bf7 {[%clk 0:02:12.7]} 24. Nh4 {[%clk 0:00:02.8]} 24... Rae8 {[%clk 0:02:12.2]} 25. Qg4 {[%clk 0:00:01.9]} 25... Nxh4 {[%clk 0:02:12.5]} 26. Qxh4 {[%clk 0:00:01.9]} 26... Re5 {[%clk 0:01:51.5]} 0-1\\n',\n",
       " 'time_control': '180+1',\n",
       " 'end_time': 1727795112,\n",
       " 'rated': True,\n",
       " 'accuracies': {'white': 86.11, 'black': 88.98},\n",
       " 'tcn': 'mCYIgv0Sow2Ufo92eg5QksSKltZRiq!0jz8!cuXPbl3VzHQGtBWOqy7YBKRKsA6SdkOHyH1LCLULfe0UadKClCLCkCS1vF48CEUFEF8K',\n",
       " 'uuid': 'd4aaa6c8-8005-11ef-8a2a-6cfe544c0428',\n",
       " 'initial_setup': 'rnbqkbnr/pppppppp/8/8/8/8/PPPPPPPP/RNBQKBNR w KQkq - 0 1',\n",
       " 'fen': '5rk1/2q2bb1/1p5p/nPp1r3/2P4Q/4B1P1/5PBP/3RR1K1 w - -',\n",
       " 'time_class': 'blitz',\n",
       " 'rules': 'chess',\n",
       " 'white': {'rating': 2557,\n",
       "  'result': 'timeout',\n",
       "  '@id': 'https://api.chess.com/pub/player/tetrix83',\n",
       "  'username': 'tetrix83',\n",
       "  'uuid': '5fbbfd8e-c351-11e7-8014-000000000000'},\n",
       " 'black': {'rating': 3282,\n",
       "  'result': 'win',\n",
       "  '@id': 'https://api.chess.com/pub/player/hikaru',\n",
       "  'username': 'Hikaru',\n",
       "  'uuid': '6f4deb88-7718-11e3-8016-000000000000'},\n",
       " 'eco': 'https://www.chess.com/openings/Sicilian-Defense-French-Variation-3.g3',\n",
       " 'tournament': 'https://api.chess.com/pub/tournament/early-titled-tuesday-blitz-october-01-2024-5099899'}"
      ]
     },
     "execution_count": 14,
     "metadata": {},
     "output_type": "execute_result"
    }
   ],
   "source": [
    "parallel[2024][10][0]"
   ]
  },
  {
   "cell_type": "code",
   "execution_count": 3,
   "id": "811d29f3-c9be-4d32-867b-6df864c07e57",
   "metadata": {},
   "outputs": [
    {
     "name": "stdout",
     "output_type": "stream",
     "text": [
      "2016 10\n",
      "2024 10\n",
      "2024 11\n",
      "2023 10\n",
      "2023 11\n"
     ]
    }
   ],
   "source": [
    "player_name = \"hikaru\"\n",
    "no_parallel = download_months(player_name, [(2016,10),(2024,10),\n",
    "                           (2024,11),\n",
    "                           (2023,10),\n",
    "                           (2023,11)], parallel=False)"
   ]
  },
  {
   "cell_type": "code",
   "execution_count": 6,
   "id": "4cfb7285-18bb-4d5f-817d-896ace1366a6",
   "metadata": {},
   "outputs": [
    {
     "data": {
      "text/plain": [
       "dict"
      ]
     },
     "execution_count": 6,
     "metadata": {},
     "output_type": "execute_result"
    }
   ],
   "source": [
    "type(no_parallel)"
   ]
  },
  {
   "cell_type": "code",
   "execution_count": 7,
   "id": "edf9eba4-dd06-4024-84da-997526678df3",
   "metadata": {},
   "outputs": [
    {
     "data": {
      "text/plain": [
       "286"
      ]
     },
     "execution_count": 7,
     "metadata": {},
     "output_type": "execute_result"
    }
   ],
   "source": [
    "len(no_parallel[2016][10])"
   ]
  },
  {
   "cell_type": "code",
   "execution_count": 8,
   "id": "9583a5cd-9e39-4455-bd8f-797655e34842",
   "metadata": {},
   "outputs": [
    {
     "data": {
      "text/plain": [
       "dict_keys([2016, 2024, 2023])"
      ]
     },
     "execution_count": 8,
     "metadata": {},
     "output_type": "execute_result"
    }
   ],
   "source": [
    "no_parallel.keys()"
   ]
  },
  {
   "cell_type": "code",
   "execution_count": 9,
   "id": "3a614727-0e60-4fb7-bd31-374a112a8faa",
   "metadata": {},
   "outputs": [
    {
     "data": {
      "text/plain": [
       "{'url': 'https://www.chess.com/game/live/121533668057',\n",
       " 'pgn': '[Event \"Live Chess\"]\\n[Site \"Chess.com\"]\\n[Date \"2024.10.01\"]\\n[Round \"-\"]\\n[White \"tetrix83\"]\\n[Black \"Hikaru\"]\\n[Result \"0-1\"]\\n[Tournament \"https://www.chess.com/tournament/live/early-titled-tuesday-blitz-october-01-2024-5099899\"]\\n[CurrentPosition \"5rk1/2q2bb1/1p5p/nPp1r3/2P4Q/4B1P1/5PBP/3RR1K1 w - -\"]\\n[Timezone \"UTC\"]\\n[ECO \"B40\"]\\n[ECOUrl \"https://www.chess.com/openings/Sicilian-Defense-French-Variation-3.g3\"]\\n[UTCDate \"2024.10.01\"]\\n[UTCTime \"15:00:00\"]\\n[WhiteElo \"2557\"]\\n[BlackElo \"3282\"]\\n[TimeControl \"180+1\"]\\n[Termination \"Hikaru won on time\"]\\n[StartTime \"15:00:00\"]\\n[EndDate \"2024.10.01\"]\\n[EndTime \"15:05:12\"]\\n[Link \"https://www.chess.com/game/live/121533668057\"]\\n\\n1. e4 {[%clk 0:02:17.6]} 1... c5 {[%clk 0:02:58.2]} 2. Nf3 {[%clk 0:02:17.5]} 2... e6 {[%clk 0:02:58.7]} 3. g3 {[%clk 0:02:17.5]} 3... g6 {[%clk 0:02:56.6]} 4. Bg2 {[%clk 0:02:16.8]} 4... Bg7 {[%clk 0:02:56.7]} 5. O-O {[%clk 0:02:17]} 5... Nc6 {[%clk 0:02:56.5]} 6. c3 {[%clk 0:02:16.9]} 6... e5 {[%clk 0:02:46.8]} 7. d3 {[%clk 0:02:08.7]} 7... d6 {[%clk 0:02:46.6]} 8. a3 {[%clk 0:02:08.3]} 8... Nge7 {[%clk 0:02:46.2]} 9. b4 {[%clk 0:02:08.5]} 9... O-O {[%clk 0:02:46.7]} 10. Be3 {[%clk 0:02:03.9]} 10... b6 {[%clk 0:02:46.5]} 11. Nbd2 {[%clk 0:02:02.7]} 11... h6 {[%clk 0:02:46.1]} 12. b5 {[%clk 0:01:46.8]} 12... Na5 {[%clk 0:02:44]} 13. d4 {[%clk 0:01:44.5]} 13... a6 {[%clk 0:02:41.8]} 14. a4 {[%clk 0:01:34.8]} 14... Qc7 {[%clk 0:02:34.6]} 15. dxe5 {[%clk 0:01:13]} 15... dxe5 {[%clk 0:02:35.5]} 16. c4 {[%clk 0:01:09.6]} 16... Be6 {[%clk 0:02:27.2]} 17. Qc2 {[%clk 0:01:03.4]} 17... axb5 {[%clk 0:02:25.5]} 18. axb5 {[%clk 0:01:00.1]} 18... f5 {[%clk 0:02:25.7]} 19. exf5 {[%clk 0:00:45]} 19... gxf5 {[%clk 0:02:26.6]} 20. Rfe1 {[%clk 0:00:39]} 20... Ng6 {[%clk 0:02:15.3]} 21. Rad1 {[%clk 0:00:05.6]} 21... e4 {[%clk 0:02:12.3]} 22. Nxe4 {[%clk 0:00:03.2]} 22... fxe4 {[%clk 0:02:12.1]} 23. Qxe4 {[%clk 0:00:03.7]} 23... Bf7 {[%clk 0:02:12.7]} 24. Nh4 {[%clk 0:00:02.8]} 24... Rae8 {[%clk 0:02:12.2]} 25. Qg4 {[%clk 0:00:01.9]} 25... Nxh4 {[%clk 0:02:12.5]} 26. Qxh4 {[%clk 0:00:01.9]} 26... Re5 {[%clk 0:01:51.5]} 0-1\\n',\n",
       " 'time_control': '180+1',\n",
       " 'end_time': 1727795112,\n",
       " 'rated': True,\n",
       " 'accuracies': {'white': 86.11, 'black': 88.98},\n",
       " 'tcn': 'mCYIgv0Sow2Ufo92eg5QksSKltZRiq!0jz8!cuXPbl3VzHQGtBWOqy7YBKRKsA6SdkOHyH1LCLULfe0UadKClCLCkCS1vF48CEUFEF8K',\n",
       " 'uuid': 'd4aaa6c8-8005-11ef-8a2a-6cfe544c0428',\n",
       " 'initial_setup': 'rnbqkbnr/pppppppp/8/8/8/8/PPPPPPPP/RNBQKBNR w KQkq - 0 1',\n",
       " 'fen': '5rk1/2q2bb1/1p5p/nPp1r3/2P4Q/4B1P1/5PBP/3RR1K1 w - -',\n",
       " 'time_class': 'blitz',\n",
       " 'rules': 'chess',\n",
       " 'white': {'rating': 2557,\n",
       "  'result': 'timeout',\n",
       "  '@id': 'https://api.chess.com/pub/player/tetrix83',\n",
       "  'username': 'tetrix83',\n",
       "  'uuid': '5fbbfd8e-c351-11e7-8014-000000000000'},\n",
       " 'black': {'rating': 3282,\n",
       "  'result': 'win',\n",
       "  '@id': 'https://api.chess.com/pub/player/hikaru',\n",
       "  'username': 'Hikaru',\n",
       "  'uuid': '6f4deb88-7718-11e3-8016-000000000000'},\n",
       " 'eco': 'https://www.chess.com/openings/Sicilian-Defense-French-Variation-3.g3',\n",
       " 'tournament': 'https://api.chess.com/pub/tournament/early-titled-tuesday-blitz-october-01-2024-5099899'}"
      ]
     },
     "execution_count": 9,
     "metadata": {},
     "output_type": "execute_result"
    }
   ],
   "source": [
    "no_parallel[2024][10][0]"
   ]
  },
  {
   "cell_type": "code",
   "execution_count": 7,
   "id": "19bacd09-520f-49a2-a3f0-6afba6a80753",
   "metadata": {},
   "outputs": [
    {
     "name": "stdout",
     "output_type": "stream",
     "text": [
      "klendi\n",
      "arminmusovic\n",
      "artooon\n",
      "flachess10\n",
      "christopheryoo\n",
      "ritual2003\n",
      "thesilmarils\n",
      "chess123456s\n",
      "klassimo18\n",
      "sammydaddyy\n",
      "frederiksvane\n",
      "unfandepupilochess\n",
      "i_now_know_my_name\n",
      "mfberna\n",
      "hristos03\n",
      "pe0la\n"
     ]
    },
    {
     "ename": "TimeoutError",
     "evalue": "QueuePool limit of size 5 overflow 10 reached, connection timed out, timeout 30.00 (Background on this error at: https://sqlalche.me/e/20/3o7r)",
     "output_type": "error",
     "traceback": [
      "\u001b[31m---------------------------------------------------------------------------\u001b[39m",
      "\u001b[31mTimeoutError\u001b[39m                              Traceback (most recent call last)",
      "\u001b[36mCell\u001b[39m\u001b[36m \u001b[39m\u001b[32mIn[7]\u001b[39m\u001b[32m, line 1\u001b[39m\n\u001b[32m----> \u001b[39m\u001b[32m1\u001b[39m games_list, moves_list, months_list =format_and_insert_games(no_parallel,player_name)\n",
      "\u001b[36mFile \u001b[39m\u001b[32m~/workshop/chessism/real_chessism/database/operations/format_games.py:286\u001b[39m, in \u001b[36mformat_and_insert_games\u001b[39m\u001b[34m(games, player_name)\u001b[39m\n\u001b[32m    284\u001b[39m                 moves_list.extend(moves_format)\n\u001b[32m    285\u001b[39m             games_list.append(GameCreateData(**game).model_dump())\n\u001b[32m--> \u001b[39m\u001b[32m286\u001b[39m insert_players(games_list)\n\u001b[32m    288\u001b[39m \u001b[38;5;28;01mreturn\u001b[39;00m games_list, moves_list, months_list\n",
      "\u001b[36mFile \u001b[39m\u001b[32m~/workshop/chessism/real_chessism/database/operations/format_games.py:264\u001b[39m, in \u001b[36minsert_players\u001b[39m\u001b[34m(games_list)\u001b[39m\n\u001b[32m    262\u001b[39m \u001b[38;5;28;01mfor\u001b[39;00m player \u001b[38;5;129;01min\u001b[39;00m players_set:\n\u001b[32m    263\u001b[39m     \u001b[38;5;28mprint\u001b[39m(player)\n\u001b[32m--> \u001b[39m\u001b[32m264\u001b[39m     inserted_player = insert_player({\u001b[33m\"\u001b[39m\u001b[33mplayer_name\u001b[39m\u001b[33m\"\u001b[39m:player})\n\u001b[32m    265\u001b[39m     \u001b[38;5;28;01mif\u001b[39;00m \u001b[38;5;28mtype\u001b[39m(inserted_player) == \u001b[38;5;28mstr\u001b[39m:\n\u001b[32m    266\u001b[39m         \u001b[38;5;28mprint\u001b[39m(player)\n",
      "\u001b[36mFile \u001b[39m\u001b[32m~/workshop/chessism/real_chessism/database/operations/format_games.py:31\u001b[39m, in \u001b[36minsert_player\u001b[39m\u001b[34m(data)\u001b[39m\n\u001b[32m     29\u001b[39m profile[\u001b[33m'\u001b[39m\u001b[33mplayer_name\u001b[39m\u001b[33m'\u001b[39m] = player_name\n\u001b[32m     30\u001b[39m player_data = PlayerCreateData(**profile)\n\u001b[32m---> \u001b[39m\u001b[32m31\u001b[39m player_interface.create(player_data.model_dump())\n\u001b[32m     32\u001b[39m \u001b[38;5;28;01mreturn\u001b[39;00m\n",
      "\u001b[36mFile \u001b[39m\u001b[32m~/workshop/chessism/real_chessism/database/database/db_interface.py:32\u001b[39m, in \u001b[36mDBInterface.create\u001b[39m\u001b[34m(self, data)\u001b[39m\n\u001b[32m     30\u001b[39m item: Base = \u001b[38;5;28mself\u001b[39m.db_class(**data)\n\u001b[32m     31\u001b[39m session.add(item)\n\u001b[32m---> \u001b[39m\u001b[32m32\u001b[39m session.commit()\n\u001b[32m     33\u001b[39m result = to_dict(item)\n\u001b[32m     34\u001b[39m session.close()\n",
      "\u001b[36mFile \u001b[39m\u001b[32m~/anaconda3/envs/chessism/lib/python3.13/site-packages/sqlalchemy/orm/session.py:2032\u001b[39m, in \u001b[36mSession.commit\u001b[39m\u001b[34m(self)\u001b[39m\n\u001b[32m   2029\u001b[39m \u001b[38;5;28;01mif\u001b[39;00m trans \u001b[38;5;129;01mis\u001b[39;00m \u001b[38;5;28;01mNone\u001b[39;00m:\n\u001b[32m   2030\u001b[39m     trans = \u001b[38;5;28mself\u001b[39m._autobegin_t()\n\u001b[32m-> \u001b[39m\u001b[32m2032\u001b[39m trans.commit(_to_root=\u001b[38;5;28;01mTrue\u001b[39;00m)\n",
      "\u001b[36mFile \u001b[39m\u001b[32m<string>:2\u001b[39m, in \u001b[36mcommit\u001b[39m\u001b[34m(self, _to_root)\u001b[39m\n",
      "\u001b[36mFile \u001b[39m\u001b[32m~/anaconda3/envs/chessism/lib/python3.13/site-packages/sqlalchemy/orm/state_changes.py:139\u001b[39m, in \u001b[36m_StateChange.declare_states.<locals>._go\u001b[39m\u001b[34m(fn, self, *arg, **kw)\u001b[39m\n\u001b[32m    137\u001b[39m \u001b[38;5;28mself\u001b[39m._next_state = _StateChangeStates.CHANGE_IN_PROGRESS\n\u001b[32m    138\u001b[39m \u001b[38;5;28;01mtry\u001b[39;00m:\n\u001b[32m--> \u001b[39m\u001b[32m139\u001b[39m     ret_value = fn(\u001b[38;5;28mself\u001b[39m, *arg, **kw)\n\u001b[32m    140\u001b[39m \u001b[38;5;28;01mexcept\u001b[39;00m:\n\u001b[32m    141\u001b[39m     \u001b[38;5;28;01mraise\u001b[39;00m\n",
      "\u001b[36mFile \u001b[39m\u001b[32m~/anaconda3/envs/chessism/lib/python3.13/site-packages/sqlalchemy/orm/session.py:1313\u001b[39m, in \u001b[36mSessionTransaction.commit\u001b[39m\u001b[34m(self, _to_root)\u001b[39m\n\u001b[32m   1311\u001b[39m \u001b[38;5;28;01mif\u001b[39;00m \u001b[38;5;28mself\u001b[39m._state \u001b[38;5;129;01mis\u001b[39;00m \u001b[38;5;129;01mnot\u001b[39;00m SessionTransactionState.PREPARED:\n\u001b[32m   1312\u001b[39m     \u001b[38;5;28;01mwith\u001b[39;00m \u001b[38;5;28mself\u001b[39m._expect_state(SessionTransactionState.PREPARED):\n\u001b[32m-> \u001b[39m\u001b[32m1313\u001b[39m         \u001b[38;5;28mself\u001b[39m._prepare_impl()\n\u001b[32m   1315\u001b[39m \u001b[38;5;28;01mif\u001b[39;00m \u001b[38;5;28mself\u001b[39m._parent \u001b[38;5;129;01mis\u001b[39;00m \u001b[38;5;28;01mNone\u001b[39;00m \u001b[38;5;129;01mor\u001b[39;00m \u001b[38;5;28mself\u001b[39m.nested:\n\u001b[32m   1316\u001b[39m     \u001b[38;5;28;01mfor\u001b[39;00m conn, trans, should_commit, autoclose \u001b[38;5;129;01min\u001b[39;00m \u001b[38;5;28mset\u001b[39m(\n\u001b[32m   1317\u001b[39m         \u001b[38;5;28mself\u001b[39m._connections.values()\n\u001b[32m   1318\u001b[39m     ):\n",
      "\u001b[36mFile \u001b[39m\u001b[32m<string>:2\u001b[39m, in \u001b[36m_prepare_impl\u001b[39m\u001b[34m(self)\u001b[39m\n",
      "\u001b[36mFile \u001b[39m\u001b[32m~/anaconda3/envs/chessism/lib/python3.13/site-packages/sqlalchemy/orm/state_changes.py:139\u001b[39m, in \u001b[36m_StateChange.declare_states.<locals>._go\u001b[39m\u001b[34m(fn, self, *arg, **kw)\u001b[39m\n\u001b[32m    137\u001b[39m \u001b[38;5;28mself\u001b[39m._next_state = _StateChangeStates.CHANGE_IN_PROGRESS\n\u001b[32m    138\u001b[39m \u001b[38;5;28;01mtry\u001b[39;00m:\n\u001b[32m--> \u001b[39m\u001b[32m139\u001b[39m     ret_value = fn(\u001b[38;5;28mself\u001b[39m, *arg, **kw)\n\u001b[32m    140\u001b[39m \u001b[38;5;28;01mexcept\u001b[39;00m:\n\u001b[32m    141\u001b[39m     \u001b[38;5;28;01mraise\u001b[39;00m\n",
      "\u001b[36mFile \u001b[39m\u001b[32m~/anaconda3/envs/chessism/lib/python3.13/site-packages/sqlalchemy/orm/session.py:1288\u001b[39m, in \u001b[36mSessionTransaction._prepare_impl\u001b[39m\u001b[34m(self)\u001b[39m\n\u001b[32m   1286\u001b[39m     \u001b[38;5;28;01mif\u001b[39;00m \u001b[38;5;28mself\u001b[39m.session._is_clean():\n\u001b[32m   1287\u001b[39m         \u001b[38;5;28;01mbreak\u001b[39;00m\n\u001b[32m-> \u001b[39m\u001b[32m1288\u001b[39m     \u001b[38;5;28mself\u001b[39m.session.flush()\n\u001b[32m   1289\u001b[39m \u001b[38;5;28;01melse\u001b[39;00m:\n\u001b[32m   1290\u001b[39m     \u001b[38;5;28;01mraise\u001b[39;00m exc.FlushError(\n\u001b[32m   1291\u001b[39m         \u001b[33m\"\u001b[39m\u001b[33mOver 100 subsequent flushes have occurred within \u001b[39m\u001b[33m\"\u001b[39m\n\u001b[32m   1292\u001b[39m         \u001b[33m\"\u001b[39m\u001b[33msession.commit() - is an after_flush() hook \u001b[39m\u001b[33m\"\u001b[39m\n\u001b[32m   1293\u001b[39m         \u001b[33m\"\u001b[39m\u001b[33mcreating new objects?\u001b[39m\u001b[33m\"\u001b[39m\n\u001b[32m   1294\u001b[39m     )\n",
      "\u001b[36mFile \u001b[39m\u001b[32m~/anaconda3/envs/chessism/lib/python3.13/site-packages/sqlalchemy/orm/session.py:4353\u001b[39m, in \u001b[36mSession.flush\u001b[39m\u001b[34m(self, objects)\u001b[39m\n\u001b[32m   4351\u001b[39m \u001b[38;5;28;01mtry\u001b[39;00m:\n\u001b[32m   4352\u001b[39m     \u001b[38;5;28mself\u001b[39m._flushing = \u001b[38;5;28;01mTrue\u001b[39;00m\n\u001b[32m-> \u001b[39m\u001b[32m4353\u001b[39m     \u001b[38;5;28mself\u001b[39m._flush(objects)\n\u001b[32m   4354\u001b[39m \u001b[38;5;28;01mfinally\u001b[39;00m:\n\u001b[32m   4355\u001b[39m     \u001b[38;5;28mself\u001b[39m._flushing = \u001b[38;5;28;01mFalse\u001b[39;00m\n",
      "\u001b[36mFile \u001b[39m\u001b[32m~/anaconda3/envs/chessism/lib/python3.13/site-packages/sqlalchemy/orm/session.py:4488\u001b[39m, in \u001b[36mSession._flush\u001b[39m\u001b[34m(self, objects)\u001b[39m\n\u001b[32m   4485\u001b[39m     transaction.commit()\n\u001b[32m   4487\u001b[39m \u001b[38;5;28;01mexcept\u001b[39;00m:\n\u001b[32m-> \u001b[39m\u001b[32m4488\u001b[39m     \u001b[38;5;28;01mwith\u001b[39;00m util.safe_reraise():\n\u001b[32m   4489\u001b[39m         transaction.rollback(_capture_exception=\u001b[38;5;28;01mTrue\u001b[39;00m)\n",
      "\u001b[36mFile \u001b[39m\u001b[32m~/anaconda3/envs/chessism/lib/python3.13/site-packages/sqlalchemy/util/langhelpers.py:146\u001b[39m, in \u001b[36msafe_reraise.__exit__\u001b[39m\u001b[34m(self, type_, value, traceback)\u001b[39m\n\u001b[32m    144\u001b[39m     \u001b[38;5;28;01massert\u001b[39;00m exc_value \u001b[38;5;129;01mis\u001b[39;00m \u001b[38;5;129;01mnot\u001b[39;00m \u001b[38;5;28;01mNone\u001b[39;00m\n\u001b[32m    145\u001b[39m     \u001b[38;5;28mself\u001b[39m._exc_info = \u001b[38;5;28;01mNone\u001b[39;00m  \u001b[38;5;66;03m# remove potential circular references\u001b[39;00m\n\u001b[32m--> \u001b[39m\u001b[32m146\u001b[39m     \u001b[38;5;28;01mraise\u001b[39;00m exc_value.with_traceback(exc_tb)\n\u001b[32m    147\u001b[39m \u001b[38;5;28;01melse\u001b[39;00m:\n\u001b[32m    148\u001b[39m     \u001b[38;5;28mself\u001b[39m._exc_info = \u001b[38;5;28;01mNone\u001b[39;00m  \u001b[38;5;66;03m# remove potential circular references\u001b[39;00m\n",
      "\u001b[36mFile \u001b[39m\u001b[32m~/anaconda3/envs/chessism/lib/python3.13/site-packages/sqlalchemy/orm/session.py:4449\u001b[39m, in \u001b[36mSession._flush\u001b[39m\u001b[34m(self, objects)\u001b[39m\n\u001b[32m   4447\u001b[39m \u001b[38;5;28mself\u001b[39m._warn_on_events = \u001b[38;5;28;01mTrue\u001b[39;00m\n\u001b[32m   4448\u001b[39m \u001b[38;5;28;01mtry\u001b[39;00m:\n\u001b[32m-> \u001b[39m\u001b[32m4449\u001b[39m     flush_context.execute()\n\u001b[32m   4450\u001b[39m \u001b[38;5;28;01mfinally\u001b[39;00m:\n\u001b[32m   4451\u001b[39m     \u001b[38;5;28mself\u001b[39m._warn_on_events = \u001b[38;5;28;01mFalse\u001b[39;00m\n",
      "\u001b[36mFile \u001b[39m\u001b[32m~/anaconda3/envs/chessism/lib/python3.13/site-packages/sqlalchemy/orm/unitofwork.py:466\u001b[39m, in \u001b[36mUOWTransaction.execute\u001b[39m\u001b[34m(self)\u001b[39m\n\u001b[32m    464\u001b[39m \u001b[38;5;28;01melse\u001b[39;00m:\n\u001b[32m    465\u001b[39m     \u001b[38;5;28;01mfor\u001b[39;00m rec \u001b[38;5;129;01min\u001b[39;00m topological.sort(\u001b[38;5;28mself\u001b[39m.dependencies, postsort_actions):\n\u001b[32m--> \u001b[39m\u001b[32m466\u001b[39m         rec.execute(\u001b[38;5;28mself\u001b[39m)\n",
      "\u001b[36mFile \u001b[39m\u001b[32m~/anaconda3/envs/chessism/lib/python3.13/site-packages/sqlalchemy/orm/unitofwork.py:642\u001b[39m, in \u001b[36mSaveUpdateAll.execute\u001b[39m\u001b[34m(self, uow)\u001b[39m\n\u001b[32m    640\u001b[39m \u001b[38;5;129m@util\u001b[39m.preload_module(\u001b[33m\"\u001b[39m\u001b[33msqlalchemy.orm.persistence\u001b[39m\u001b[33m\"\u001b[39m)\n\u001b[32m    641\u001b[39m \u001b[38;5;28;01mdef\u001b[39;00m\u001b[38;5;250m \u001b[39m\u001b[34mexecute\u001b[39m(\u001b[38;5;28mself\u001b[39m, uow):\n\u001b[32m--> \u001b[39m\u001b[32m642\u001b[39m     util.preloaded.orm_persistence.save_obj(\n\u001b[32m    643\u001b[39m         \u001b[38;5;28mself\u001b[39m.mapper,\n\u001b[32m    644\u001b[39m         uow.states_for_mapper_hierarchy(\u001b[38;5;28mself\u001b[39m.mapper, \u001b[38;5;28;01mFalse\u001b[39;00m, \u001b[38;5;28;01mFalse\u001b[39;00m),\n\u001b[32m    645\u001b[39m         uow,\n\u001b[32m    646\u001b[39m     )\n",
      "\u001b[36mFile \u001b[39m\u001b[32m~/anaconda3/envs/chessism/lib/python3.13/site-packages/sqlalchemy/orm/persistence.py:68\u001b[39m, in \u001b[36msave_obj\u001b[39m\u001b[34m(base_mapper, states, uowtransaction, single)\u001b[39m\n\u001b[32m     57\u001b[39m states_to_update = []\n\u001b[32m     58\u001b[39m states_to_insert = []\n\u001b[32m     60\u001b[39m \u001b[38;5;28;01mfor\u001b[39;00m (\n\u001b[32m     61\u001b[39m     state,\n\u001b[32m     62\u001b[39m     dict_,\n\u001b[32m     63\u001b[39m     mapper,\n\u001b[32m     64\u001b[39m     connection,\n\u001b[32m     65\u001b[39m     has_identity,\n\u001b[32m     66\u001b[39m     row_switch,\n\u001b[32m     67\u001b[39m     update_version_id,\n\u001b[32m---> \u001b[39m\u001b[32m68\u001b[39m ) \u001b[38;5;129;01min\u001b[39;00m _organize_states_for_save(base_mapper, states, uowtransaction):\n\u001b[32m     69\u001b[39m     \u001b[38;5;28;01mif\u001b[39;00m has_identity \u001b[38;5;129;01mor\u001b[39;00m row_switch:\n\u001b[32m     70\u001b[39m         states_to_update.append(\n\u001b[32m     71\u001b[39m             (state, dict_, mapper, connection, update_version_id)\n\u001b[32m     72\u001b[39m         )\n",
      "\u001b[36mFile \u001b[39m\u001b[32m~/anaconda3/envs/chessism/lib/python3.13/site-packages/sqlalchemy/orm/persistence.py:223\u001b[39m, in \u001b[36m_organize_states_for_save\u001b[39m\u001b[34m(base_mapper, states, uowtransaction)\u001b[39m\n\u001b[32m    211\u001b[39m \u001b[38;5;28;01mdef\u001b[39;00m\u001b[38;5;250m \u001b[39m\u001b[34m_organize_states_for_save\u001b[39m(base_mapper, states, uowtransaction):\n\u001b[32m    212\u001b[39m \u001b[38;5;250m    \u001b[39m\u001b[33;03m\"\"\"Make an initial pass across a set of states for INSERT or\u001b[39;00m\n\u001b[32m    213\u001b[39m \u001b[33;03m    UPDATE.\u001b[39;00m\n\u001b[32m    214\u001b[39m \n\u001b[32m   (...)\u001b[39m\u001b[32m    220\u001b[39m \n\u001b[32m    221\u001b[39m \u001b[33;03m    \"\"\"\u001b[39;00m\n\u001b[32m--> \u001b[39m\u001b[32m223\u001b[39m     \u001b[38;5;28;01mfor\u001b[39;00m state, dict_, mapper, connection \u001b[38;5;129;01min\u001b[39;00m _connections_for_states(\n\u001b[32m    224\u001b[39m         base_mapper, uowtransaction, states\n\u001b[32m    225\u001b[39m     ):\n\u001b[32m    226\u001b[39m         has_identity = \u001b[38;5;28mbool\u001b[39m(state.key)\n\u001b[32m    228\u001b[39m         instance_key = state.key \u001b[38;5;129;01mor\u001b[39;00m mapper._identity_key_from_state(state)\n",
      "\u001b[36mFile \u001b[39m\u001b[32m~/anaconda3/envs/chessism/lib/python3.13/site-packages/sqlalchemy/orm/persistence.py:1753\u001b[39m, in \u001b[36m_connections_for_states\u001b[39m\u001b[34m(base_mapper, uowtransaction, states)\u001b[39m\n\u001b[32m   1751\u001b[39m     connection_callable = uowtransaction.session.connection_callable\n\u001b[32m   1752\u001b[39m \u001b[38;5;28;01melse\u001b[39;00m:\n\u001b[32m-> \u001b[39m\u001b[32m1753\u001b[39m     connection = uowtransaction.transaction.connection(base_mapper)\n\u001b[32m   1754\u001b[39m     connection_callable = \u001b[38;5;28;01mNone\u001b[39;00m\n\u001b[32m   1756\u001b[39m \u001b[38;5;28;01mfor\u001b[39;00m state \u001b[38;5;129;01min\u001b[39;00m _sort_states(base_mapper, states):\n",
      "\u001b[36mFile \u001b[39m\u001b[32m<string>:2\u001b[39m, in \u001b[36mconnection\u001b[39m\u001b[34m(self, bindkey, execution_options, **kwargs)\u001b[39m\n",
      "\u001b[36mFile \u001b[39m\u001b[32m~/anaconda3/envs/chessism/lib/python3.13/site-packages/sqlalchemy/orm/state_changes.py:139\u001b[39m, in \u001b[36m_StateChange.declare_states.<locals>._go\u001b[39m\u001b[34m(fn, self, *arg, **kw)\u001b[39m\n\u001b[32m    137\u001b[39m \u001b[38;5;28mself\u001b[39m._next_state = _StateChangeStates.CHANGE_IN_PROGRESS\n\u001b[32m    138\u001b[39m \u001b[38;5;28;01mtry\u001b[39;00m:\n\u001b[32m--> \u001b[39m\u001b[32m139\u001b[39m     ret_value = fn(\u001b[38;5;28mself\u001b[39m, *arg, **kw)\n\u001b[32m    140\u001b[39m \u001b[38;5;28;01mexcept\u001b[39;00m:\n\u001b[32m    141\u001b[39m     \u001b[38;5;28;01mraise\u001b[39;00m\n",
      "\u001b[36mFile \u001b[39m\u001b[32m~/anaconda3/envs/chessism/lib/python3.13/site-packages/sqlalchemy/orm/session.py:1039\u001b[39m, in \u001b[36mSessionTransaction.connection\u001b[39m\u001b[34m(self, bindkey, execution_options, **kwargs)\u001b[39m\n\u001b[32m   1029\u001b[39m \u001b[38;5;129m@_StateChange\u001b[39m.declare_states(\n\u001b[32m   1030\u001b[39m     (SessionTransactionState.ACTIVE,), _StateChangeStates.NO_CHANGE\n\u001b[32m   1031\u001b[39m )\n\u001b[32m   (...)\u001b[39m\u001b[32m   1036\u001b[39m     **kwargs: Any,\n\u001b[32m   1037\u001b[39m ) -> Connection:\n\u001b[32m   1038\u001b[39m     bind = \u001b[38;5;28mself\u001b[39m.session.get_bind(bindkey, **kwargs)\n\u001b[32m-> \u001b[39m\u001b[32m1039\u001b[39m     \u001b[38;5;28;01mreturn\u001b[39;00m \u001b[38;5;28mself\u001b[39m._connection_for_bind(bind, execution_options)\n",
      "\u001b[36mFile \u001b[39m\u001b[32m<string>:2\u001b[39m, in \u001b[36m_connection_for_bind\u001b[39m\u001b[34m(self, bind, execution_options)\u001b[39m\n",
      "\u001b[36mFile \u001b[39m\u001b[32m~/anaconda3/envs/chessism/lib/python3.13/site-packages/sqlalchemy/orm/state_changes.py:139\u001b[39m, in \u001b[36m_StateChange.declare_states.<locals>._go\u001b[39m\u001b[34m(fn, self, *arg, **kw)\u001b[39m\n\u001b[32m    137\u001b[39m \u001b[38;5;28mself\u001b[39m._next_state = _StateChangeStates.CHANGE_IN_PROGRESS\n\u001b[32m    138\u001b[39m \u001b[38;5;28;01mtry\u001b[39;00m:\n\u001b[32m--> \u001b[39m\u001b[32m139\u001b[39m     ret_value = fn(\u001b[38;5;28mself\u001b[39m, *arg, **kw)\n\u001b[32m    140\u001b[39m \u001b[38;5;28;01mexcept\u001b[39;00m:\n\u001b[32m    141\u001b[39m     \u001b[38;5;28;01mraise\u001b[39;00m\n",
      "\u001b[36mFile \u001b[39m\u001b[32m~/anaconda3/envs/chessism/lib/python3.13/site-packages/sqlalchemy/orm/session.py:1175\u001b[39m, in \u001b[36mSessionTransaction._connection_for_bind\u001b[39m\u001b[34m(self, bind, execution_options)\u001b[39m\n\u001b[32m   1173\u001b[39m \u001b[38;5;28;01mtry\u001b[39;00m:\n\u001b[32m   1174\u001b[39m     \u001b[38;5;28;01mif\u001b[39;00m \u001b[38;5;28mself\u001b[39m._parent:\n\u001b[32m-> \u001b[39m\u001b[32m1175\u001b[39m         conn = \u001b[38;5;28mself\u001b[39m._parent._connection_for_bind(\n\u001b[32m   1176\u001b[39m             bind, execution_options\n\u001b[32m   1177\u001b[39m         )\n\u001b[32m   1178\u001b[39m         \u001b[38;5;28;01mif\u001b[39;00m \u001b[38;5;129;01mnot\u001b[39;00m \u001b[38;5;28mself\u001b[39m.nested:\n\u001b[32m   1179\u001b[39m             \u001b[38;5;28;01mreturn\u001b[39;00m conn\n",
      "\u001b[36mFile \u001b[39m\u001b[32m<string>:2\u001b[39m, in \u001b[36m_connection_for_bind\u001b[39m\u001b[34m(self, bind, execution_options)\u001b[39m\n",
      "\u001b[36mFile \u001b[39m\u001b[32m~/anaconda3/envs/chessism/lib/python3.13/site-packages/sqlalchemy/orm/state_changes.py:139\u001b[39m, in \u001b[36m_StateChange.declare_states.<locals>._go\u001b[39m\u001b[34m(fn, self, *arg, **kw)\u001b[39m\n\u001b[32m    137\u001b[39m \u001b[38;5;28mself\u001b[39m._next_state = _StateChangeStates.CHANGE_IN_PROGRESS\n\u001b[32m    138\u001b[39m \u001b[38;5;28;01mtry\u001b[39;00m:\n\u001b[32m--> \u001b[39m\u001b[32m139\u001b[39m     ret_value = fn(\u001b[38;5;28mself\u001b[39m, *arg, **kw)\n\u001b[32m    140\u001b[39m \u001b[38;5;28;01mexcept\u001b[39;00m:\n\u001b[32m    141\u001b[39m     \u001b[38;5;28;01mraise\u001b[39;00m\n",
      "\u001b[36mFile \u001b[39m\u001b[32m~/anaconda3/envs/chessism/lib/python3.13/site-packages/sqlalchemy/orm/session.py:1189\u001b[39m, in \u001b[36mSessionTransaction._connection_for_bind\u001b[39m\u001b[34m(self, bind, execution_options)\u001b[39m\n\u001b[32m   1184\u001b[39m             \u001b[38;5;28;01mraise\u001b[39;00m sa_exc.InvalidRequestError(\n\u001b[32m   1185\u001b[39m                 \u001b[33m\"\u001b[39m\u001b[33mSession already has a Connection associated \u001b[39m\u001b[33m\"\u001b[39m\n\u001b[32m   1186\u001b[39m                 \u001b[33m\"\u001b[39m\u001b[33mfor the given Connection\u001b[39m\u001b[33m'\u001b[39m\u001b[33ms Engine\u001b[39m\u001b[33m\"\u001b[39m\n\u001b[32m   1187\u001b[39m             )\n\u001b[32m   1188\u001b[39m     \u001b[38;5;28;01melse\u001b[39;00m:\n\u001b[32m-> \u001b[39m\u001b[32m1189\u001b[39m         conn = bind.connect()\n\u001b[32m   1190\u001b[39m         local_connect = \u001b[38;5;28;01mTrue\u001b[39;00m\n\u001b[32m   1192\u001b[39m \u001b[38;5;28;01mtry\u001b[39;00m:\n",
      "\u001b[36mFile \u001b[39m\u001b[32m~/anaconda3/envs/chessism/lib/python3.13/site-packages/sqlalchemy/engine/base.py:3274\u001b[39m, in \u001b[36mEngine.connect\u001b[39m\u001b[34m(self)\u001b[39m\n\u001b[32m   3251\u001b[39m \u001b[38;5;28;01mdef\u001b[39;00m\u001b[38;5;250m \u001b[39m\u001b[34mconnect\u001b[39m(\u001b[38;5;28mself\u001b[39m) -> Connection:\n\u001b[32m   3252\u001b[39m \u001b[38;5;250m    \u001b[39m\u001b[33;03m\"\"\"Return a new :class:`_engine.Connection` object.\u001b[39;00m\n\u001b[32m   3253\u001b[39m \n\u001b[32m   3254\u001b[39m \u001b[33;03m    The :class:`_engine.Connection` acts as a Python context manager, so\u001b[39;00m\n\u001b[32m   (...)\u001b[39m\u001b[32m   3271\u001b[39m \n\u001b[32m   3272\u001b[39m \u001b[33;03m    \"\"\"\u001b[39;00m\n\u001b[32m-> \u001b[39m\u001b[32m3274\u001b[39m     \u001b[38;5;28;01mreturn\u001b[39;00m \u001b[38;5;28mself\u001b[39m._connection_cls(\u001b[38;5;28mself\u001b[39m)\n",
      "\u001b[36mFile \u001b[39m\u001b[32m~/anaconda3/envs/chessism/lib/python3.13/site-packages/sqlalchemy/engine/base.py:146\u001b[39m, in \u001b[36mConnection.__init__\u001b[39m\u001b[34m(self, engine, connection, _has_events, _allow_revalidate, _allow_autobegin)\u001b[39m\n\u001b[32m    144\u001b[39m \u001b[38;5;28;01mif\u001b[39;00m connection \u001b[38;5;129;01mis\u001b[39;00m \u001b[38;5;28;01mNone\u001b[39;00m:\n\u001b[32m    145\u001b[39m     \u001b[38;5;28;01mtry\u001b[39;00m:\n\u001b[32m--> \u001b[39m\u001b[32m146\u001b[39m         \u001b[38;5;28mself\u001b[39m._dbapi_connection = engine.raw_connection()\n\u001b[32m    147\u001b[39m     \u001b[38;5;28;01mexcept\u001b[39;00m dialect.loaded_dbapi.Error \u001b[38;5;28;01mas\u001b[39;00m err:\n\u001b[32m    148\u001b[39m         Connection._handle_dbapi_exception_noconnection(\n\u001b[32m    149\u001b[39m             err, dialect, engine\n\u001b[32m    150\u001b[39m         )\n",
      "\u001b[36mFile \u001b[39m\u001b[32m~/anaconda3/envs/chessism/lib/python3.13/site-packages/sqlalchemy/engine/base.py:3298\u001b[39m, in \u001b[36mEngine.raw_connection\u001b[39m\u001b[34m(self)\u001b[39m\n\u001b[32m   3276\u001b[39m \u001b[38;5;28;01mdef\u001b[39;00m\u001b[38;5;250m \u001b[39m\u001b[34mraw_connection\u001b[39m(\u001b[38;5;28mself\u001b[39m) -> PoolProxiedConnection:\n\u001b[32m   3277\u001b[39m \u001b[38;5;250m    \u001b[39m\u001b[33;03m\"\"\"Return a \"raw\" DBAPI connection from the connection pool.\u001b[39;00m\n\u001b[32m   3278\u001b[39m \n\u001b[32m   3279\u001b[39m \u001b[33;03m    The returned object is a proxied version of the DBAPI\u001b[39;00m\n\u001b[32m   (...)\u001b[39m\u001b[32m   3296\u001b[39m \n\u001b[32m   3297\u001b[39m \u001b[33;03m    \"\"\"\u001b[39;00m\n\u001b[32m-> \u001b[39m\u001b[32m3298\u001b[39m     \u001b[38;5;28;01mreturn\u001b[39;00m \u001b[38;5;28mself\u001b[39m.pool.connect()\n",
      "\u001b[36mFile \u001b[39m\u001b[32m~/anaconda3/envs/chessism/lib/python3.13/site-packages/sqlalchemy/pool/base.py:449\u001b[39m, in \u001b[36mPool.connect\u001b[39m\u001b[34m(self)\u001b[39m\n\u001b[32m    441\u001b[39m \u001b[38;5;28;01mdef\u001b[39;00m\u001b[38;5;250m \u001b[39m\u001b[34mconnect\u001b[39m(\u001b[38;5;28mself\u001b[39m) -> PoolProxiedConnection:\n\u001b[32m    442\u001b[39m \u001b[38;5;250m    \u001b[39m\u001b[33;03m\"\"\"Return a DBAPI connection from the pool.\u001b[39;00m\n\u001b[32m    443\u001b[39m \n\u001b[32m    444\u001b[39m \u001b[33;03m    The connection is instrumented such that when its\u001b[39;00m\n\u001b[32m   (...)\u001b[39m\u001b[32m    447\u001b[39m \n\u001b[32m    448\u001b[39m \u001b[33;03m    \"\"\"\u001b[39;00m\n\u001b[32m--> \u001b[39m\u001b[32m449\u001b[39m     \u001b[38;5;28;01mreturn\u001b[39;00m _ConnectionFairy._checkout(\u001b[38;5;28mself\u001b[39m)\n",
      "\u001b[36mFile \u001b[39m\u001b[32m~/anaconda3/envs/chessism/lib/python3.13/site-packages/sqlalchemy/pool/base.py:1264\u001b[39m, in \u001b[36m_ConnectionFairy._checkout\u001b[39m\u001b[34m(cls, pool, threadconns, fairy)\u001b[39m\n\u001b[32m   1256\u001b[39m \u001b[38;5;129m@classmethod\u001b[39m\n\u001b[32m   1257\u001b[39m \u001b[38;5;28;01mdef\u001b[39;00m\u001b[38;5;250m \u001b[39m\u001b[34m_checkout\u001b[39m(\n\u001b[32m   1258\u001b[39m     \u001b[38;5;28mcls\u001b[39m,\n\u001b[32m   (...)\u001b[39m\u001b[32m   1261\u001b[39m     fairy: Optional[_ConnectionFairy] = \u001b[38;5;28;01mNone\u001b[39;00m,\n\u001b[32m   1262\u001b[39m ) -> _ConnectionFairy:\n\u001b[32m   1263\u001b[39m     \u001b[38;5;28;01mif\u001b[39;00m \u001b[38;5;129;01mnot\u001b[39;00m fairy:\n\u001b[32m-> \u001b[39m\u001b[32m1264\u001b[39m         fairy = _ConnectionRecord.checkout(pool)\n\u001b[32m   1266\u001b[39m         \u001b[38;5;28;01mif\u001b[39;00m threadconns \u001b[38;5;129;01mis\u001b[39;00m \u001b[38;5;129;01mnot\u001b[39;00m \u001b[38;5;28;01mNone\u001b[39;00m:\n\u001b[32m   1267\u001b[39m             threadconns.current = weakref.ref(fairy)\n",
      "\u001b[36mFile \u001b[39m\u001b[32m~/anaconda3/envs/chessism/lib/python3.13/site-packages/sqlalchemy/pool/base.py:713\u001b[39m, in \u001b[36m_ConnectionRecord.checkout\u001b[39m\u001b[34m(cls, pool)\u001b[39m\n\u001b[32m    711\u001b[39m     rec = cast(_ConnectionRecord, pool._do_get())\n\u001b[32m    712\u001b[39m \u001b[38;5;28;01melse\u001b[39;00m:\n\u001b[32m--> \u001b[39m\u001b[32m713\u001b[39m     rec = pool._do_get()\n\u001b[32m    715\u001b[39m \u001b[38;5;28;01mtry\u001b[39;00m:\n\u001b[32m    716\u001b[39m     dbapi_connection = rec.get_connection()\n",
      "\u001b[36mFile \u001b[39m\u001b[32m~/anaconda3/envs/chessism/lib/python3.13/site-packages/sqlalchemy/pool/impl.py:168\u001b[39m, in \u001b[36mQueuePool._do_get\u001b[39m\u001b[34m(self)\u001b[39m\n\u001b[32m    166\u001b[39m         \u001b[38;5;28;01mreturn\u001b[39;00m \u001b[38;5;28mself\u001b[39m._do_get()\n\u001b[32m    167\u001b[39m     \u001b[38;5;28;01melse\u001b[39;00m:\n\u001b[32m--> \u001b[39m\u001b[32m168\u001b[39m         \u001b[38;5;28;01mraise\u001b[39;00m exc.TimeoutError(\n\u001b[32m    169\u001b[39m             \u001b[33m\"\u001b[39m\u001b[33mQueuePool limit of size \u001b[39m\u001b[38;5;132;01m%d\u001b[39;00m\u001b[33m overflow \u001b[39m\u001b[38;5;132;01m%d\u001b[39;00m\u001b[33m reached, \u001b[39m\u001b[33m\"\u001b[39m\n\u001b[32m    170\u001b[39m             \u001b[33m\"\u001b[39m\u001b[33mconnection timed out, timeout \u001b[39m\u001b[38;5;132;01m%0.2f\u001b[39;00m\u001b[33m\"\u001b[39m\n\u001b[32m    171\u001b[39m             % (\u001b[38;5;28mself\u001b[39m.size(), \u001b[38;5;28mself\u001b[39m.overflow(), \u001b[38;5;28mself\u001b[39m._timeout),\n\u001b[32m    172\u001b[39m             code=\u001b[33m\"\u001b[39m\u001b[33m3o7r\u001b[39m\u001b[33m\"\u001b[39m,\n\u001b[32m    173\u001b[39m         )\n\u001b[32m    175\u001b[39m \u001b[38;5;28;01mif\u001b[39;00m \u001b[38;5;28mself\u001b[39m._inc_overflow():\n\u001b[32m    176\u001b[39m     \u001b[38;5;28;01mtry\u001b[39;00m:\n",
      "\u001b[31mTimeoutError\u001b[39m: QueuePool limit of size 5 overflow 10 reached, connection timed out, timeout 30.00 (Background on this error at: https://sqlalche.me/e/20/3o7r)"
     ]
    }
   ],
   "source": [
    "games_list, moves_list, months_list =format_and_insert_games(no_parallel,player_name)"
   ]
  },
  {
   "cell_type": "code",
   "execution_count": null,
   "id": "3927a475-361a-49b8-a716-bb53fbdfe4bd",
   "metadata": {},
   "outputs": [],
   "source": []
  },
  {
   "cell_type": "code",
   "execution_count": null,
   "id": "5ad2f099-28ef-440b-b233-834296024ff7",
   "metadata": {},
   "outputs": [],
   "source": []
  },
  {
   "cell_type": "code",
   "execution_count": 11,
   "id": "0ec4a550-e1b3-44ee-b655-7bc72a5b2e51",
   "metadata": {},
   "outputs": [
    {
     "data": {
      "text/plain": [
       "'PLAYER ALREADY EXISTS AT DB'"
      ]
     },
     "execution_count": 11,
     "metadata": {},
     "output_type": "execute_result"
    }
   ],
   "source": [
    "insert_player({\"player_name\":\"takate20\"})"
   ]
  },
  {
   "cell_type": "code",
   "execution_count": 12,
   "id": "7483a892-b736-4077-87ad-87f4311f5751",
   "metadata": {},
   "outputs": [
    {
     "data": {
      "text/plain": [
       "{'player_id': 47927846,\n",
       " 'url': 'https://www.chess.com/member/Takate20',\n",
       " 'name': 'Vladyslav Lukiianchuk',\n",
       " 'title': 'NM',\n",
       " 'followers': 19,\n",
       " 'joined': 1531770993,\n",
       " 'status': 'premium',\n",
       " 'is_streamer': False,\n",
       " 'verified': False,\n",
       " 'league': 'Champion',\n",
       " 'streaming_platforms': [],\n",
       " 'country': 'UA'}"
      ]
     },
     "execution_count": 12,
     "metadata": {},
     "output_type": "execute_result"
    }
   ],
   "source": [
    "get_profile(\"takate20\")"
   ]
  },
  {
   "cell_type": "code",
   "execution_count": null,
   "id": "e7549407-f23d-4fd7-becf-1f1930a230f0",
   "metadata": {},
   "outputs": [
    {
     "name": "stdout",
     "output_type": "stream",
     "text": [
      "##############\n",
      "##############\n",
      "##############\n",
      "##############\n",
      "##############\n",
      "##############\n",
      "##############\n",
      "##############\n",
      "##############\n",
      "##############\n",
      "##############\n",
      "##############\n",
      "##############\n",
      "##############\n",
      "##############\n",
      "##############\n",
      "##############\n",
      "##############\n",
      "##############\n",
      "##############\n",
      "##############\n",
      "##############\n",
      "##############\n",
      "##############\n",
      "##############\n",
      "##############\n",
      "##############\n",
      "##############\n",
      "##############\n",
      "##############\n",
      "##############\n",
      "##############\n",
      "##############\n",
      "takate20\n",
      "##############\n",
      "##############\n",
      "whitemirrorninja\n",
      "##############\n",
      "##############\n",
      "icecreamiscream\n",
      "##############\n",
      "##############\n",
      "tradjabov\n",
      "##############\n",
      "##############\n",
      "bartek_turski\n",
      "##############\n",
      "##############\n",
      "zgorl\n",
      "##############\n",
      "##############\n",
      "twofoxniel\n",
      "##############\n",
      "##############\n",
      "deenzerz\n",
      "##############\n",
      "##############\n"
     ]
    }
   ],
   "source": [
    "for player in players:\n",
    "    try:\n",
    "        insert_player({\"player_name\":player})\n",
    "    except:\n",
    "        print(player)"
   ]
  },
  {
   "cell_type": "code",
   "execution_count": null,
   "id": "594332b1-8749-4fa2-a4b5-dece3e36d82a",
   "metadata": {},
   "outputs": [],
   "source": []
  },
  {
   "cell_type": "code",
   "execution_count": null,
   "id": "ccce181f-d143-4e4e-aeea-785cc9530a69",
   "metadata": {},
   "outputs": [],
   "source": []
  },
  {
   "cell_type": "code",
   "execution_count": null,
   "id": "4cdf6796-d5a1-4244-92e9-554ea94d178d",
   "metadata": {},
   "outputs": [],
   "source": []
  },
  {
   "cell_type": "code",
   "execution_count": null,
   "id": "dae978f8-def5-49b1-8b0c-8f7c79a13f9b",
   "metadata": {},
   "outputs": [],
   "source": []
  },
  {
   "cell_type": "code",
   "execution_count": null,
   "id": "c86fdd2b-d120-483f-a6ff-11a29ca70c5b",
   "metadata": {},
   "outputs": [],
   "source": []
  },
  {
   "cell_type": "code",
   "execution_count": null,
   "id": "a31980ea-6650-4bd8-8c2f-88465ebed229",
   "metadata": {},
   "outputs": [],
   "source": [
    "insert_players(games_list)"
   ]
  },
  {
   "cell_type": "code",
   "execution_count": null,
   "id": "a4ee19c6-a77e-42ca-8023-7da996c01146",
   "metadata": {},
   "outputs": [],
   "source": [
    "game_interface.create_all(games_list)"
   ]
  },
  {
   "cell_type": "code",
   "execution_count": null,
   "id": "7d565e4b-f881-485e-9401-9b83544deca1",
   "metadata": {},
   "outputs": [],
   "source": []
  },
  {
   "cell_type": "code",
   "execution_count": 12,
   "id": "bbc7317e-63d5-4f3d-9faa-17bf82fa7397",
   "metadata": {},
   "outputs": [
    {
     "ename": "IntegrityError",
     "evalue": "(psycopg2.errors.ForeignKeyViolation) insert or update on table \"game\" violates foreign key constraint \"game_white_fkey\"\nDETAIL:  Key (white)=(pierrebl) is not present in table \"player\".\n\n[SQL: INSERT INTO game (link, white, black, year, month, day, hour, minute, second, white_elo, black_elo, white_result, black_result, white_str_result, black_str_result, time_control, eco, time_elapsed, n_moves) VALUES (%(link)s, %(white)s, %(black)s, %(year)s, %(month)s, %(day)s, %(hour)s, %(minute)s, %(second)s, %(white_elo)s, %(black_elo)s, %(white_result)s, %(black_result)s, %(white_str_result)s, %(black_str_result)s, %(time_control)s, %(eco)s, %(time_elapsed)s, %(n_moves)s)]\n[parameters: {'link': 1763967068, 'white': 'pierrebl', 'black': 'hikaru', 'year': 2016, 'month': 10, 'day': 11, 'hour': 15, 'minute': 31, 'second': 54, 'white_elo': 2497, 'black_elo': 2907, 'white_result': 0.0, 'black_result': 0.0, 'white_str_result': 'repetition', 'black_str_result': 'repetition', 'time_control': '180', 'eco': 'https://www.chess.com/openings/French-Defense-Tarrasch-Closed-Botvinnik-Variation', 'time_elapsed': 322, 'n_moves': 69}]\n(Background on this error at: https://sqlalche.me/e/20/gkpj)",
     "output_type": "error",
     "traceback": [
      "\u001b[31m---------------------------------------------------------------------------\u001b[39m",
      "\u001b[31mForeignKeyViolation\u001b[39m                       Traceback (most recent call last)",
      "\u001b[36mFile \u001b[39m\u001b[32m~/anaconda3/envs/chessism/lib/python3.13/site-packages/sqlalchemy/engine/base.py:1964\u001b[39m, in \u001b[36mConnection._exec_single_context\u001b[39m\u001b[34m(self, dialect, context, statement, parameters)\u001b[39m\n\u001b[32m   1963\u001b[39m     \u001b[38;5;28;01mif\u001b[39;00m \u001b[38;5;129;01mnot\u001b[39;00m evt_handled:\n\u001b[32m-> \u001b[39m\u001b[32m1964\u001b[39m         \u001b[38;5;28mself\u001b[39m.dialect.do_execute(\n\u001b[32m   1965\u001b[39m             cursor, str_statement, effective_parameters, context\n\u001b[32m   1966\u001b[39m         )\n\u001b[32m   1968\u001b[39m \u001b[38;5;28;01mif\u001b[39;00m \u001b[38;5;28mself\u001b[39m._has_events \u001b[38;5;129;01mor\u001b[39;00m \u001b[38;5;28mself\u001b[39m.engine._has_events:\n",
      "\u001b[36mFile \u001b[39m\u001b[32m~/anaconda3/envs/chessism/lib/python3.13/site-packages/sqlalchemy/engine/default.py:942\u001b[39m, in \u001b[36mDefaultDialect.do_execute\u001b[39m\u001b[34m(self, cursor, statement, parameters, context)\u001b[39m\n\u001b[32m    941\u001b[39m \u001b[38;5;28;01mdef\u001b[39;00m\u001b[38;5;250m \u001b[39m\u001b[34mdo_execute\u001b[39m(\u001b[38;5;28mself\u001b[39m, cursor, statement, parameters, context=\u001b[38;5;28;01mNone\u001b[39;00m):\n\u001b[32m--> \u001b[39m\u001b[32m942\u001b[39m     cursor.execute(statement, parameters)\n",
      "\u001b[31mForeignKeyViolation\u001b[39m: insert or update on table \"game\" violates foreign key constraint \"game_white_fkey\"\nDETAIL:  Key (white)=(pierrebl) is not present in table \"player\".\n",
      "\nThe above exception was the direct cause of the following exception:\n",
      "\u001b[31mIntegrityError\u001b[39m                            Traceback (most recent call last)",
      "\u001b[36mCell\u001b[39m\u001b[36m \u001b[39m\u001b[32mIn[12]\u001b[39m\u001b[32m, line 1\u001b[39m\n\u001b[32m----> \u001b[39m\u001b[32m1\u001b[39m game_interface.create(games_list[\u001b[32m0\u001b[39m])\n",
      "\u001b[36mFile \u001b[39m\u001b[32m~/workshop/chessism/real_chessism/database/database/db_interface.py:32\u001b[39m, in \u001b[36mDBInterface.create\u001b[39m\u001b[34m(self, data)\u001b[39m\n\u001b[32m     30\u001b[39m item: Base = \u001b[38;5;28mself\u001b[39m.db_class(**data)\n\u001b[32m     31\u001b[39m session.add(item)\n\u001b[32m---> \u001b[39m\u001b[32m32\u001b[39m session.commit()\n\u001b[32m     33\u001b[39m result = to_dict(item)\n\u001b[32m     34\u001b[39m session.close()\n",
      "\u001b[36mFile \u001b[39m\u001b[32m~/anaconda3/envs/chessism/lib/python3.13/site-packages/sqlalchemy/orm/session.py:2032\u001b[39m, in \u001b[36mSession.commit\u001b[39m\u001b[34m(self)\u001b[39m\n\u001b[32m   2029\u001b[39m \u001b[38;5;28;01mif\u001b[39;00m trans \u001b[38;5;129;01mis\u001b[39;00m \u001b[38;5;28;01mNone\u001b[39;00m:\n\u001b[32m   2030\u001b[39m     trans = \u001b[38;5;28mself\u001b[39m._autobegin_t()\n\u001b[32m-> \u001b[39m\u001b[32m2032\u001b[39m trans.commit(_to_root=\u001b[38;5;28;01mTrue\u001b[39;00m)\n",
      "\u001b[36mFile \u001b[39m\u001b[32m<string>:2\u001b[39m, in \u001b[36mcommit\u001b[39m\u001b[34m(self, _to_root)\u001b[39m\n",
      "\u001b[36mFile \u001b[39m\u001b[32m~/anaconda3/envs/chessism/lib/python3.13/site-packages/sqlalchemy/orm/state_changes.py:139\u001b[39m, in \u001b[36m_StateChange.declare_states.<locals>._go\u001b[39m\u001b[34m(fn, self, *arg, **kw)\u001b[39m\n\u001b[32m    137\u001b[39m \u001b[38;5;28mself\u001b[39m._next_state = _StateChangeStates.CHANGE_IN_PROGRESS\n\u001b[32m    138\u001b[39m \u001b[38;5;28;01mtry\u001b[39;00m:\n\u001b[32m--> \u001b[39m\u001b[32m139\u001b[39m     ret_value = fn(\u001b[38;5;28mself\u001b[39m, *arg, **kw)\n\u001b[32m    140\u001b[39m \u001b[38;5;28;01mexcept\u001b[39;00m:\n\u001b[32m    141\u001b[39m     \u001b[38;5;28;01mraise\u001b[39;00m\n",
      "\u001b[36mFile \u001b[39m\u001b[32m~/anaconda3/envs/chessism/lib/python3.13/site-packages/sqlalchemy/orm/session.py:1313\u001b[39m, in \u001b[36mSessionTransaction.commit\u001b[39m\u001b[34m(self, _to_root)\u001b[39m\n\u001b[32m   1311\u001b[39m \u001b[38;5;28;01mif\u001b[39;00m \u001b[38;5;28mself\u001b[39m._state \u001b[38;5;129;01mis\u001b[39;00m \u001b[38;5;129;01mnot\u001b[39;00m SessionTransactionState.PREPARED:\n\u001b[32m   1312\u001b[39m     \u001b[38;5;28;01mwith\u001b[39;00m \u001b[38;5;28mself\u001b[39m._expect_state(SessionTransactionState.PREPARED):\n\u001b[32m-> \u001b[39m\u001b[32m1313\u001b[39m         \u001b[38;5;28mself\u001b[39m._prepare_impl()\n\u001b[32m   1315\u001b[39m \u001b[38;5;28;01mif\u001b[39;00m \u001b[38;5;28mself\u001b[39m._parent \u001b[38;5;129;01mis\u001b[39;00m \u001b[38;5;28;01mNone\u001b[39;00m \u001b[38;5;129;01mor\u001b[39;00m \u001b[38;5;28mself\u001b[39m.nested:\n\u001b[32m   1316\u001b[39m     \u001b[38;5;28;01mfor\u001b[39;00m conn, trans, should_commit, autoclose \u001b[38;5;129;01min\u001b[39;00m \u001b[38;5;28mset\u001b[39m(\n\u001b[32m   1317\u001b[39m         \u001b[38;5;28mself\u001b[39m._connections.values()\n\u001b[32m   1318\u001b[39m     ):\n",
      "\u001b[36mFile \u001b[39m\u001b[32m<string>:2\u001b[39m, in \u001b[36m_prepare_impl\u001b[39m\u001b[34m(self)\u001b[39m\n",
      "\u001b[36mFile \u001b[39m\u001b[32m~/anaconda3/envs/chessism/lib/python3.13/site-packages/sqlalchemy/orm/state_changes.py:139\u001b[39m, in \u001b[36m_StateChange.declare_states.<locals>._go\u001b[39m\u001b[34m(fn, self, *arg, **kw)\u001b[39m\n\u001b[32m    137\u001b[39m \u001b[38;5;28mself\u001b[39m._next_state = _StateChangeStates.CHANGE_IN_PROGRESS\n\u001b[32m    138\u001b[39m \u001b[38;5;28;01mtry\u001b[39;00m:\n\u001b[32m--> \u001b[39m\u001b[32m139\u001b[39m     ret_value = fn(\u001b[38;5;28mself\u001b[39m, *arg, **kw)\n\u001b[32m    140\u001b[39m \u001b[38;5;28;01mexcept\u001b[39;00m:\n\u001b[32m    141\u001b[39m     \u001b[38;5;28;01mraise\u001b[39;00m\n",
      "\u001b[36mFile \u001b[39m\u001b[32m~/anaconda3/envs/chessism/lib/python3.13/site-packages/sqlalchemy/orm/session.py:1288\u001b[39m, in \u001b[36mSessionTransaction._prepare_impl\u001b[39m\u001b[34m(self)\u001b[39m\n\u001b[32m   1286\u001b[39m     \u001b[38;5;28;01mif\u001b[39;00m \u001b[38;5;28mself\u001b[39m.session._is_clean():\n\u001b[32m   1287\u001b[39m         \u001b[38;5;28;01mbreak\u001b[39;00m\n\u001b[32m-> \u001b[39m\u001b[32m1288\u001b[39m     \u001b[38;5;28mself\u001b[39m.session.flush()\n\u001b[32m   1289\u001b[39m \u001b[38;5;28;01melse\u001b[39;00m:\n\u001b[32m   1290\u001b[39m     \u001b[38;5;28;01mraise\u001b[39;00m exc.FlushError(\n\u001b[32m   1291\u001b[39m         \u001b[33m\"\u001b[39m\u001b[33mOver 100 subsequent flushes have occurred within \u001b[39m\u001b[33m\"\u001b[39m\n\u001b[32m   1292\u001b[39m         \u001b[33m\"\u001b[39m\u001b[33msession.commit() - is an after_flush() hook \u001b[39m\u001b[33m\"\u001b[39m\n\u001b[32m   1293\u001b[39m         \u001b[33m\"\u001b[39m\u001b[33mcreating new objects?\u001b[39m\u001b[33m\"\u001b[39m\n\u001b[32m   1294\u001b[39m     )\n",
      "\u001b[36mFile \u001b[39m\u001b[32m~/anaconda3/envs/chessism/lib/python3.13/site-packages/sqlalchemy/orm/session.py:4353\u001b[39m, in \u001b[36mSession.flush\u001b[39m\u001b[34m(self, objects)\u001b[39m\n\u001b[32m   4351\u001b[39m \u001b[38;5;28;01mtry\u001b[39;00m:\n\u001b[32m   4352\u001b[39m     \u001b[38;5;28mself\u001b[39m._flushing = \u001b[38;5;28;01mTrue\u001b[39;00m\n\u001b[32m-> \u001b[39m\u001b[32m4353\u001b[39m     \u001b[38;5;28mself\u001b[39m._flush(objects)\n\u001b[32m   4354\u001b[39m \u001b[38;5;28;01mfinally\u001b[39;00m:\n\u001b[32m   4355\u001b[39m     \u001b[38;5;28mself\u001b[39m._flushing = \u001b[38;5;28;01mFalse\u001b[39;00m\n",
      "\u001b[36mFile \u001b[39m\u001b[32m~/anaconda3/envs/chessism/lib/python3.13/site-packages/sqlalchemy/orm/session.py:4488\u001b[39m, in \u001b[36mSession._flush\u001b[39m\u001b[34m(self, objects)\u001b[39m\n\u001b[32m   4485\u001b[39m     transaction.commit()\n\u001b[32m   4487\u001b[39m \u001b[38;5;28;01mexcept\u001b[39;00m:\n\u001b[32m-> \u001b[39m\u001b[32m4488\u001b[39m     \u001b[38;5;28;01mwith\u001b[39;00m util.safe_reraise():\n\u001b[32m   4489\u001b[39m         transaction.rollback(_capture_exception=\u001b[38;5;28;01mTrue\u001b[39;00m)\n",
      "\u001b[36mFile \u001b[39m\u001b[32m~/anaconda3/envs/chessism/lib/python3.13/site-packages/sqlalchemy/util/langhelpers.py:146\u001b[39m, in \u001b[36msafe_reraise.__exit__\u001b[39m\u001b[34m(self, type_, value, traceback)\u001b[39m\n\u001b[32m    144\u001b[39m     \u001b[38;5;28;01massert\u001b[39;00m exc_value \u001b[38;5;129;01mis\u001b[39;00m \u001b[38;5;129;01mnot\u001b[39;00m \u001b[38;5;28;01mNone\u001b[39;00m\n\u001b[32m    145\u001b[39m     \u001b[38;5;28mself\u001b[39m._exc_info = \u001b[38;5;28;01mNone\u001b[39;00m  \u001b[38;5;66;03m# remove potential circular references\u001b[39;00m\n\u001b[32m--> \u001b[39m\u001b[32m146\u001b[39m     \u001b[38;5;28;01mraise\u001b[39;00m exc_value.with_traceback(exc_tb)\n\u001b[32m    147\u001b[39m \u001b[38;5;28;01melse\u001b[39;00m:\n\u001b[32m    148\u001b[39m     \u001b[38;5;28mself\u001b[39m._exc_info = \u001b[38;5;28;01mNone\u001b[39;00m  \u001b[38;5;66;03m# remove potential circular references\u001b[39;00m\n",
      "\u001b[36mFile \u001b[39m\u001b[32m~/anaconda3/envs/chessism/lib/python3.13/site-packages/sqlalchemy/orm/session.py:4449\u001b[39m, in \u001b[36mSession._flush\u001b[39m\u001b[34m(self, objects)\u001b[39m\n\u001b[32m   4447\u001b[39m \u001b[38;5;28mself\u001b[39m._warn_on_events = \u001b[38;5;28;01mTrue\u001b[39;00m\n\u001b[32m   4448\u001b[39m \u001b[38;5;28;01mtry\u001b[39;00m:\n\u001b[32m-> \u001b[39m\u001b[32m4449\u001b[39m     flush_context.execute()\n\u001b[32m   4450\u001b[39m \u001b[38;5;28;01mfinally\u001b[39;00m:\n\u001b[32m   4451\u001b[39m     \u001b[38;5;28mself\u001b[39m._warn_on_events = \u001b[38;5;28;01mFalse\u001b[39;00m\n",
      "\u001b[36mFile \u001b[39m\u001b[32m~/anaconda3/envs/chessism/lib/python3.13/site-packages/sqlalchemy/orm/unitofwork.py:466\u001b[39m, in \u001b[36mUOWTransaction.execute\u001b[39m\u001b[34m(self)\u001b[39m\n\u001b[32m    464\u001b[39m \u001b[38;5;28;01melse\u001b[39;00m:\n\u001b[32m    465\u001b[39m     \u001b[38;5;28;01mfor\u001b[39;00m rec \u001b[38;5;129;01min\u001b[39;00m topological.sort(\u001b[38;5;28mself\u001b[39m.dependencies, postsort_actions):\n\u001b[32m--> \u001b[39m\u001b[32m466\u001b[39m         rec.execute(\u001b[38;5;28mself\u001b[39m)\n",
      "\u001b[36mFile \u001b[39m\u001b[32m~/anaconda3/envs/chessism/lib/python3.13/site-packages/sqlalchemy/orm/unitofwork.py:642\u001b[39m, in \u001b[36mSaveUpdateAll.execute\u001b[39m\u001b[34m(self, uow)\u001b[39m\n\u001b[32m    640\u001b[39m \u001b[38;5;129m@util\u001b[39m.preload_module(\u001b[33m\"\u001b[39m\u001b[33msqlalchemy.orm.persistence\u001b[39m\u001b[33m\"\u001b[39m)\n\u001b[32m    641\u001b[39m \u001b[38;5;28;01mdef\u001b[39;00m\u001b[38;5;250m \u001b[39m\u001b[34mexecute\u001b[39m(\u001b[38;5;28mself\u001b[39m, uow):\n\u001b[32m--> \u001b[39m\u001b[32m642\u001b[39m     util.preloaded.orm_persistence.save_obj(\n\u001b[32m    643\u001b[39m         \u001b[38;5;28mself\u001b[39m.mapper,\n\u001b[32m    644\u001b[39m         uow.states_for_mapper_hierarchy(\u001b[38;5;28mself\u001b[39m.mapper, \u001b[38;5;28;01mFalse\u001b[39;00m, \u001b[38;5;28;01mFalse\u001b[39;00m),\n\u001b[32m    645\u001b[39m         uow,\n\u001b[32m    646\u001b[39m     )\n",
      "\u001b[36mFile \u001b[39m\u001b[32m~/anaconda3/envs/chessism/lib/python3.13/site-packages/sqlalchemy/orm/persistence.py:93\u001b[39m, in \u001b[36msave_obj\u001b[39m\u001b[34m(base_mapper, states, uowtransaction, single)\u001b[39m\n\u001b[32m     81\u001b[39m     update = _collect_update_commands(\n\u001b[32m     82\u001b[39m         uowtransaction, table, states_to_update\n\u001b[32m     83\u001b[39m     )\n\u001b[32m     85\u001b[39m     _emit_update_statements(\n\u001b[32m     86\u001b[39m         base_mapper,\n\u001b[32m     87\u001b[39m         uowtransaction,\n\u001b[32m   (...)\u001b[39m\u001b[32m     90\u001b[39m         update,\n\u001b[32m     91\u001b[39m     )\n\u001b[32m---> \u001b[39m\u001b[32m93\u001b[39m     _emit_insert_statements(\n\u001b[32m     94\u001b[39m         base_mapper,\n\u001b[32m     95\u001b[39m         uowtransaction,\n\u001b[32m     96\u001b[39m         mapper,\n\u001b[32m     97\u001b[39m         table,\n\u001b[32m     98\u001b[39m         insert,\n\u001b[32m     99\u001b[39m     )\n\u001b[32m    101\u001b[39m _finalize_insert_update_commands(\n\u001b[32m    102\u001b[39m     base_mapper,\n\u001b[32m    103\u001b[39m     uowtransaction,\n\u001b[32m   (...)\u001b[39m\u001b[32m    119\u001b[39m     ),\n\u001b[32m    120\u001b[39m )\n",
      "\u001b[36mFile \u001b[39m\u001b[32m~/anaconda3/envs/chessism/lib/python3.13/site-packages/sqlalchemy/orm/persistence.py:1048\u001b[39m, in \u001b[36m_emit_insert_statements\u001b[39m\u001b[34m(base_mapper, uowtransaction, mapper, table, insert, bookkeeping, use_orm_insert_stmt, execution_options)\u001b[39m\n\u001b[32m   1045\u001b[39m records = \u001b[38;5;28mlist\u001b[39m(records)\n\u001b[32m   1046\u001b[39m multiparams = [rec[\u001b[32m2\u001b[39m] \u001b[38;5;28;01mfor\u001b[39;00m rec \u001b[38;5;129;01min\u001b[39;00m records]\n\u001b[32m-> \u001b[39m\u001b[32m1048\u001b[39m result = connection.execute(\n\u001b[32m   1049\u001b[39m     statement, multiparams, execution_options=execution_options\n\u001b[32m   1050\u001b[39m )\n\u001b[32m   1051\u001b[39m \u001b[38;5;28;01mif\u001b[39;00m bookkeeping:\n\u001b[32m   1052\u001b[39m     \u001b[38;5;28;01mfor\u001b[39;00m (\n\u001b[32m   1053\u001b[39m         (\n\u001b[32m   1054\u001b[39m             state,\n\u001b[32m   (...)\u001b[39m\u001b[32m   1063\u001b[39m         last_inserted_params,\n\u001b[32m   1064\u001b[39m     ) \u001b[38;5;129;01min\u001b[39;00m \u001b[38;5;28mzip\u001b[39m(records, result.context.compiled_parameters):\n",
      "\u001b[36mFile \u001b[39m\u001b[32m~/anaconda3/envs/chessism/lib/python3.13/site-packages/sqlalchemy/engine/base.py:1416\u001b[39m, in \u001b[36mConnection.execute\u001b[39m\u001b[34m(self, statement, parameters, execution_options)\u001b[39m\n\u001b[32m   1414\u001b[39m     \u001b[38;5;28;01mraise\u001b[39;00m exc.ObjectNotExecutableError(statement) \u001b[38;5;28;01mfrom\u001b[39;00m\u001b[38;5;250m \u001b[39m\u001b[34;01merr\u001b[39;00m\n\u001b[32m   1415\u001b[39m \u001b[38;5;28;01melse\u001b[39;00m:\n\u001b[32m-> \u001b[39m\u001b[32m1416\u001b[39m     \u001b[38;5;28;01mreturn\u001b[39;00m meth(\n\u001b[32m   1417\u001b[39m         \u001b[38;5;28mself\u001b[39m,\n\u001b[32m   1418\u001b[39m         distilled_parameters,\n\u001b[32m   1419\u001b[39m         execution_options \u001b[38;5;129;01mor\u001b[39;00m NO_OPTIONS,\n\u001b[32m   1420\u001b[39m     )\n",
      "\u001b[36mFile \u001b[39m\u001b[32m~/anaconda3/envs/chessism/lib/python3.13/site-packages/sqlalchemy/sql/elements.py:523\u001b[39m, in \u001b[36mClauseElement._execute_on_connection\u001b[39m\u001b[34m(self, connection, distilled_params, execution_options)\u001b[39m\n\u001b[32m    521\u001b[39m     \u001b[38;5;28;01mif\u001b[39;00m TYPE_CHECKING:\n\u001b[32m    522\u001b[39m         \u001b[38;5;28;01massert\u001b[39;00m \u001b[38;5;28misinstance\u001b[39m(\u001b[38;5;28mself\u001b[39m, Executable)\n\u001b[32m--> \u001b[39m\u001b[32m523\u001b[39m     \u001b[38;5;28;01mreturn\u001b[39;00m connection._execute_clauseelement(\n\u001b[32m    524\u001b[39m         \u001b[38;5;28mself\u001b[39m, distilled_params, execution_options\n\u001b[32m    525\u001b[39m     )\n\u001b[32m    526\u001b[39m \u001b[38;5;28;01melse\u001b[39;00m:\n\u001b[32m    527\u001b[39m     \u001b[38;5;28;01mraise\u001b[39;00m exc.ObjectNotExecutableError(\u001b[38;5;28mself\u001b[39m)\n",
      "\u001b[36mFile \u001b[39m\u001b[32m~/anaconda3/envs/chessism/lib/python3.13/site-packages/sqlalchemy/engine/base.py:1638\u001b[39m, in \u001b[36mConnection._execute_clauseelement\u001b[39m\u001b[34m(self, elem, distilled_parameters, execution_options)\u001b[39m\n\u001b[32m   1626\u001b[39m compiled_cache: Optional[CompiledCacheType] = execution_options.get(\n\u001b[32m   1627\u001b[39m     \u001b[33m\"\u001b[39m\u001b[33mcompiled_cache\u001b[39m\u001b[33m\"\u001b[39m, \u001b[38;5;28mself\u001b[39m.engine._compiled_cache\n\u001b[32m   1628\u001b[39m )\n\u001b[32m   1630\u001b[39m compiled_sql, extracted_params, cache_hit = elem._compile_w_cache(\n\u001b[32m   1631\u001b[39m     dialect=dialect,\n\u001b[32m   1632\u001b[39m     compiled_cache=compiled_cache,\n\u001b[32m   (...)\u001b[39m\u001b[32m   1636\u001b[39m     linting=\u001b[38;5;28mself\u001b[39m.dialect.compiler_linting | compiler.WARN_LINTING,\n\u001b[32m   1637\u001b[39m )\n\u001b[32m-> \u001b[39m\u001b[32m1638\u001b[39m ret = \u001b[38;5;28mself\u001b[39m._execute_context(\n\u001b[32m   1639\u001b[39m     dialect,\n\u001b[32m   1640\u001b[39m     dialect.execution_ctx_cls._init_compiled,\n\u001b[32m   1641\u001b[39m     compiled_sql,\n\u001b[32m   1642\u001b[39m     distilled_parameters,\n\u001b[32m   1643\u001b[39m     execution_options,\n\u001b[32m   1644\u001b[39m     compiled_sql,\n\u001b[32m   1645\u001b[39m     distilled_parameters,\n\u001b[32m   1646\u001b[39m     elem,\n\u001b[32m   1647\u001b[39m     extracted_params,\n\u001b[32m   1648\u001b[39m     cache_hit=cache_hit,\n\u001b[32m   1649\u001b[39m )\n\u001b[32m   1650\u001b[39m \u001b[38;5;28;01mif\u001b[39;00m has_events:\n\u001b[32m   1651\u001b[39m     \u001b[38;5;28mself\u001b[39m.dispatch.after_execute(\n\u001b[32m   1652\u001b[39m         \u001b[38;5;28mself\u001b[39m,\n\u001b[32m   1653\u001b[39m         elem,\n\u001b[32m   (...)\u001b[39m\u001b[32m   1657\u001b[39m         ret,\n\u001b[32m   1658\u001b[39m     )\n",
      "\u001b[36mFile \u001b[39m\u001b[32m~/anaconda3/envs/chessism/lib/python3.13/site-packages/sqlalchemy/engine/base.py:1843\u001b[39m, in \u001b[36mConnection._execute_context\u001b[39m\u001b[34m(self, dialect, constructor, statement, parameters, execution_options, *args, **kw)\u001b[39m\n\u001b[32m   1841\u001b[39m     \u001b[38;5;28;01mreturn\u001b[39;00m \u001b[38;5;28mself\u001b[39m._exec_insertmany_context(dialect, context)\n\u001b[32m   1842\u001b[39m \u001b[38;5;28;01melse\u001b[39;00m:\n\u001b[32m-> \u001b[39m\u001b[32m1843\u001b[39m     \u001b[38;5;28;01mreturn\u001b[39;00m \u001b[38;5;28mself\u001b[39m._exec_single_context(\n\u001b[32m   1844\u001b[39m         dialect, context, statement, parameters\n\u001b[32m   1845\u001b[39m     )\n",
      "\u001b[36mFile \u001b[39m\u001b[32m~/anaconda3/envs/chessism/lib/python3.13/site-packages/sqlalchemy/engine/base.py:1983\u001b[39m, in \u001b[36mConnection._exec_single_context\u001b[39m\u001b[34m(self, dialect, context, statement, parameters)\u001b[39m\n\u001b[32m   1980\u001b[39m     result = context._setup_result_proxy()\n\u001b[32m   1982\u001b[39m \u001b[38;5;28;01mexcept\u001b[39;00m \u001b[38;5;167;01mBaseException\u001b[39;00m \u001b[38;5;28;01mas\u001b[39;00m e:\n\u001b[32m-> \u001b[39m\u001b[32m1983\u001b[39m     \u001b[38;5;28mself\u001b[39m._handle_dbapi_exception(\n\u001b[32m   1984\u001b[39m         e, str_statement, effective_parameters, cursor, context\n\u001b[32m   1985\u001b[39m     )\n\u001b[32m   1987\u001b[39m \u001b[38;5;28;01mreturn\u001b[39;00m result\n",
      "\u001b[36mFile \u001b[39m\u001b[32m~/anaconda3/envs/chessism/lib/python3.13/site-packages/sqlalchemy/engine/base.py:2352\u001b[39m, in \u001b[36mConnection._handle_dbapi_exception\u001b[39m\u001b[34m(self, e, statement, parameters, cursor, context, is_sub_exec)\u001b[39m\n\u001b[32m   2350\u001b[39m \u001b[38;5;28;01melif\u001b[39;00m should_wrap:\n\u001b[32m   2351\u001b[39m     \u001b[38;5;28;01massert\u001b[39;00m sqlalchemy_exception \u001b[38;5;129;01mis\u001b[39;00m \u001b[38;5;129;01mnot\u001b[39;00m \u001b[38;5;28;01mNone\u001b[39;00m\n\u001b[32m-> \u001b[39m\u001b[32m2352\u001b[39m     \u001b[38;5;28;01mraise\u001b[39;00m sqlalchemy_exception.with_traceback(exc_info[\u001b[32m2\u001b[39m]) \u001b[38;5;28;01mfrom\u001b[39;00m\u001b[38;5;250m \u001b[39m\u001b[34;01me\u001b[39;00m\n\u001b[32m   2353\u001b[39m \u001b[38;5;28;01melse\u001b[39;00m:\n\u001b[32m   2354\u001b[39m     \u001b[38;5;28;01massert\u001b[39;00m exc_info[\u001b[32m1\u001b[39m] \u001b[38;5;129;01mis\u001b[39;00m \u001b[38;5;129;01mnot\u001b[39;00m \u001b[38;5;28;01mNone\u001b[39;00m\n",
      "\u001b[36mFile \u001b[39m\u001b[32m~/anaconda3/envs/chessism/lib/python3.13/site-packages/sqlalchemy/engine/base.py:1964\u001b[39m, in \u001b[36mConnection._exec_single_context\u001b[39m\u001b[34m(self, dialect, context, statement, parameters)\u001b[39m\n\u001b[32m   1962\u001b[39m                 \u001b[38;5;28;01mbreak\u001b[39;00m\n\u001b[32m   1963\u001b[39m     \u001b[38;5;28;01mif\u001b[39;00m \u001b[38;5;129;01mnot\u001b[39;00m evt_handled:\n\u001b[32m-> \u001b[39m\u001b[32m1964\u001b[39m         \u001b[38;5;28mself\u001b[39m.dialect.do_execute(\n\u001b[32m   1965\u001b[39m             cursor, str_statement, effective_parameters, context\n\u001b[32m   1966\u001b[39m         )\n\u001b[32m   1968\u001b[39m \u001b[38;5;28;01mif\u001b[39;00m \u001b[38;5;28mself\u001b[39m._has_events \u001b[38;5;129;01mor\u001b[39;00m \u001b[38;5;28mself\u001b[39m.engine._has_events:\n\u001b[32m   1969\u001b[39m     \u001b[38;5;28mself\u001b[39m.dispatch.after_cursor_execute(\n\u001b[32m   1970\u001b[39m         \u001b[38;5;28mself\u001b[39m,\n\u001b[32m   1971\u001b[39m         cursor,\n\u001b[32m   (...)\u001b[39m\u001b[32m   1975\u001b[39m         context.executemany,\n\u001b[32m   1976\u001b[39m     )\n",
      "\u001b[36mFile \u001b[39m\u001b[32m~/anaconda3/envs/chessism/lib/python3.13/site-packages/sqlalchemy/engine/default.py:942\u001b[39m, in \u001b[36mDefaultDialect.do_execute\u001b[39m\u001b[34m(self, cursor, statement, parameters, context)\u001b[39m\n\u001b[32m    941\u001b[39m \u001b[38;5;28;01mdef\u001b[39;00m\u001b[38;5;250m \u001b[39m\u001b[34mdo_execute\u001b[39m(\u001b[38;5;28mself\u001b[39m, cursor, statement, parameters, context=\u001b[38;5;28;01mNone\u001b[39;00m):\n\u001b[32m--> \u001b[39m\u001b[32m942\u001b[39m     cursor.execute(statement, parameters)\n",
      "\u001b[31mIntegrityError\u001b[39m: (psycopg2.errors.ForeignKeyViolation) insert or update on table \"game\" violates foreign key constraint \"game_white_fkey\"\nDETAIL:  Key (white)=(pierrebl) is not present in table \"player\".\n\n[SQL: INSERT INTO game (link, white, black, year, month, day, hour, minute, second, white_elo, black_elo, white_result, black_result, white_str_result, black_str_result, time_control, eco, time_elapsed, n_moves) VALUES (%(link)s, %(white)s, %(black)s, %(year)s, %(month)s, %(day)s, %(hour)s, %(minute)s, %(second)s, %(white_elo)s, %(black_elo)s, %(white_result)s, %(black_result)s, %(white_str_result)s, %(black_str_result)s, %(time_control)s, %(eco)s, %(time_elapsed)s, %(n_moves)s)]\n[parameters: {'link': 1763967068, 'white': 'pierrebl', 'black': 'hikaru', 'year': 2016, 'month': 10, 'day': 11, 'hour': 15, 'minute': 31, 'second': 54, 'white_elo': 2497, 'black_elo': 2907, 'white_result': 0.0, 'black_result': 0.0, 'white_str_result': 'repetition', 'black_str_result': 'repetition', 'time_control': '180', 'eco': 'https://www.chess.com/openings/French-Defense-Tarrasch-Closed-Botvinnik-Variation', 'time_elapsed': 322, 'n_moves': 69}]\n(Background on this error at: https://sqlalche.me/e/20/gkpj)"
     ]
    }
   ],
   "source": [
    "game_interface.create(games_list[0])"
   ]
  },
  {
   "cell_type": "code",
   "execution_count": null,
   "id": "081e47ab-ac9d-46a2-a237-d54ac6d40d8e",
   "metadata": {},
   "outputs": [],
   "source": []
  },
  {
   "cell_type": "code",
   "execution_count": 7,
   "id": "e3d42c2d-a71f-4ed4-8f0c-02cfc120e152",
   "metadata": {},
   "outputs": [
    {
     "data": {
      "text/plain": [
       "[(2016, 10, 286),\n",
       " (2024, 10, 344),\n",
       " (2024, 11, 876),\n",
       " (2023, 10, 250),\n",
       " (2023, 11, 749)]"
      ]
     },
     "execution_count": 7,
     "metadata": {},
     "output_type": "execute_result"
    }
   ],
   "source": [
    "months_list"
   ]
  },
  {
   "cell_type": "code",
   "execution_count": 9,
   "id": "9d7915fe-2ad9-4580-83e5-bb6d49c2bed4",
   "metadata": {},
   "outputs": [
    {
     "data": {
      "text/plain": [
       "dict_keys(['player_name', 'year', 'month', 'n_games'])"
      ]
     },
     "execution_count": 9,
     "metadata": {},
     "output_type": "execute_result"
    }
   ],
   "source": [
    "MonthCreateData.__annotations__.keys()"
   ]
  },
  {
   "cell_type": "code",
   "execution_count": 11,
   "id": "e88c7c98-420a-4779-8454-b95865939ad9",
   "metadata": {},
   "outputs": [
    {
     "data": {
      "text/plain": [
       "dict_keys(['link', 'white_moves', 'white_reaction_times', 'white_time_left', 'black_moves', 'black_reaction_times', 'black_time_left'])"
      ]
     },
     "execution_count": 11,
     "metadata": {},
     "output_type": "execute_result"
    }
   ],
   "source": [
    "moves_list[0].keys()"
   ]
  },
  {
   "cell_type": "code",
   "execution_count": null,
   "id": "7d872705-0464-4387-8e94-e4f4eec9349d",
   "metadata": {},
   "outputs": [],
   "source": []
  },
  {
   "cell_type": "code",
   "execution_count": 17,
   "id": "ebd17379-2edb-43d3-96ff-9aa1e2c625f5",
   "metadata": {},
   "outputs": [
    {
     "data": {
      "text/plain": [
       "1763967068"
      ]
     },
     "execution_count": 17,
     "metadata": {},
     "output_type": "execute_result"
    }
   ],
   "source": [
    "int(games_list[0]['link'].split('/')[-1])"
   ]
  },
  {
   "cell_type": "code",
   "execution_count": 7,
   "id": "8386c6cc-bd4c-42d1-a216-bb0a7491acbb",
   "metadata": {},
   "outputs": [
    {
     "data": {
      "text/plain": [
       "dict_keys(['link', 'n_move', 'white_move', 'black_move', 'white_reaction_time', 'black_reaction_time', 'white_time_left', 'black_time_left'])"
      ]
     },
     "execution_count": 7,
     "metadata": {},
     "output_type": "execute_result"
    }
   ],
   "source": [
    "MoveCreateData.__annotations__.keys()"
   ]
  },
  {
   "cell_type": "code",
   "execution_count": 13,
   "id": "ba75c285-f77f-4149-9beb-491c4714cebd",
   "metadata": {},
   "outputs": [],
   "source": [
    "one_game_moves = moves_list[0]"
   ]
  },
  {
   "cell_type": "code",
   "execution_count": 14,
   "id": "1f2f75e6-28fa-4bf7-9739-52b34d539f98",
   "metadata": {},
   "outputs": [],
   "source": [
    "to_insert_moves = []"
   ]
  },
  {
   "cell_type": "code",
   "execution_count": 15,
   "id": "9ae8df7a-ce43-4b1d-9ab2-19e4d4e41609",
   "metadata": {},
   "outputs": [],
   "source": [
    "for ind, white_move in enumerate(one_game_moves['white_moves']):\n",
    "    data_dict = {}\n",
    "    data_dict['n_move'] = ind + 1\n",
    "    data_dict['link'] = one_game_moves['link']\n",
    "    data_dict['white_move'] = white_move\n",
    "    data_dict['black_move'] = one_game_moves['white_moves'][ind]\n",
    "    data_dict['white_reaction_time'] = round(one_game_moves['white_reaction_times'][ind],3)\n",
    "    data_dict['black_reaction_time'] = round(one_game_moves['black_reaction_times'][ind],3)\n",
    "    data_dict['white_time_left'] = round(one_game_moves['white_time_left'][ind],3)\n",
    "    data_dict['black_time_left'] = round(one_game_moves['black_time_left'][ind],3)\n",
    "    \n",
    "    MoveCreateData(**data_dict).model_dump()\n",
    "    "
   ]
  },
  {
   "cell_type": "code",
   "execution_count": null,
   "id": "028bc17d-ac4c-447b-bd03-80c11dbf93cd",
   "metadata": {},
   "outputs": [],
   "source": []
  },
  {
   "cell_type": "code",
   "execution_count": null,
   "id": "430fda92-c810-4934-94f1-55add2b2ff81",
   "metadata": {},
   "outputs": [],
   "source": []
  },
  {
   "cell_type": "code",
   "execution_count": null,
   "id": "7c15d59a-25bd-45f3-a725-5ee8e4fba933",
   "metadata": {},
   "outputs": [],
   "source": []
  },
  {
   "cell_type": "code",
   "execution_count": null,
   "id": "073273b9-76bb-4de0-bc63-f13db217c715",
   "metadata": {},
   "outputs": [],
   "source": []
  },
  {
   "cell_type": "code",
   "execution_count": null,
   "id": "e7999cf2-569d-4fa9-af35-57305fa476c2",
   "metadata": {},
   "outputs": [],
   "source": [
    "MonthCreateData(**moves_list[0]).model_dump()"
   ]
  },
  {
   "cell_type": "code",
   "execution_count": null,
   "id": "c0950226-5bed-4a2c-8d58-328bf6c0b61f",
   "metadata": {},
   "outputs": [],
   "source": []
  },
  {
   "cell_type": "code",
   "execution_count": 8,
   "id": "79216e6a-c862-439f-8d62-7c812f0506bc",
   "metadata": {},
   "outputs": [
    {
     "data": {
      "text/plain": [
       "{'link': 'https://www.chess.com/game/live/1763967068',\n",
       " 'time_control': '180',\n",
       " 'year': 2016,\n",
       " 'month': 10,\n",
       " 'day': 11,\n",
       " 'hour': 15,\n",
       " 'minute': 31,\n",
       " 'second': 54,\n",
       " 'end_year': 2016,\n",
       " 'end_month': 10,\n",
       " 'end_day': 11,\n",
       " 'end_hour': 15,\n",
       " 'end_minute': 37,\n",
       " 'end_second': 16,\n",
       " 'time_elapsed': 322,\n",
       " 'black': 'hikaru',\n",
       " 'black_elo': 2907,\n",
       " 'black_str_result': 'repetition',\n",
       " 'black_result': 0.0,\n",
       " 'white': 'pierrebl',\n",
       " 'white_elo': 2497,\n",
       " 'white_str_result': 'repetition',\n",
       " 'white_result': 0.0,\n",
       " 'n_moves': 69,\n",
       " 'eco': 'https://www.chess.com/openings/French-Defense-Tarrasch-Closed-Botvinnik-Variation'}"
      ]
     },
     "execution_count": 8,
     "metadata": {},
     "output_type": "execute_result"
    }
   ],
   "source": [
    "games_list[0]"
   ]
  },
  {
   "cell_type": "code",
   "execution_count": 11,
   "id": "d76653eb-5020-4ef3-9638-b7c8c6b23d46",
   "metadata": {},
   "outputs": [
    {
     "data": {
      "text/plain": [
       "2505"
      ]
     },
     "execution_count": 11,
     "metadata": {},
     "output_type": "execute_result"
    }
   ],
   "source": [
    "len(games_list)"
   ]
  },
  {
   "cell_type": "code",
   "execution_count": 12,
   "id": "40f67cb7-1c6a-4204-a849-a7433a873529",
   "metadata": {},
   "outputs": [
    {
     "name": "stdout",
     "output_type": "stream",
     "text": [
      "{'link': 'https://www.chess.com/game/live/1766900483', 'time_control': '180', 'black': 'hikaru', 'black_elo': 1999, 'black_str_result': 'resigned', 'black_result': -1.0, 'white': 'neoklassik', 'white_elo': 1734, 'white_str_result': 'win', 'white_result': 1.0, 'year': 0, 'month': 0, 'day': 0, 'hour': 0, 'minute': 0, 'second': 0, 'n_moves': 0, 'end_year': 0, 'end_month': 0, 'end_day': 0, 'end_hour': 0, 'end_minute': 0, 'end_second': 0, 'time_elapsed': 0, 'eco': 0}\n",
      "{'link': 'https://www.chess.com/game/live/1766951746', 'time_control': '180', 'black': 'hikaru', 'black_elo': 1999, 'black_str_result': 'resigned', 'black_result': -1.0, 'white': 'erikhozjan', 'white_elo': 2048, 'white_str_result': 'win', 'white_result': 1.0, 'year': 0, 'month': 0, 'day': 0, 'hour': 0, 'minute': 0, 'second': 0, 'n_moves': 0, 'end_year': 0, 'end_month': 0, 'end_day': 0, 'end_hour': 0, 'end_minute': 0, 'end_second': 0, 'time_elapsed': 0, 'eco': 0}\n"
     ]
    }
   ],
   "source": [
    "for game in games_list:\n",
    "    if game['year'] == 0:\n",
    "        print(game)"
   ]
  },
  {
   "cell_type": "code",
   "execution_count": null,
   "id": "d6e66353-ffc9-4c22-858c-9f58a79a4988",
   "metadata": {},
   "outputs": [],
   "source": []
  },
  {
   "cell_type": "code",
   "execution_count": null,
   "id": "bd28e606-6124-4c86-a4bb-af17ecb54d28",
   "metadata": {},
   "outputs": [],
   "source": []
  },
  {
   "cell_type": "code",
   "execution_count": null,
   "id": "0ca1c98c-a9a2-441d-a572-acfb637eff66",
   "metadata": {},
   "outputs": [],
   "source": []
  },
  {
   "cell_type": "code",
   "execution_count": null,
   "id": "7848a5ae-78ce-440e-9c9c-2f7add77c3a8",
   "metadata": {},
   "outputs": [],
   "source": []
  },
  {
   "cell_type": "code",
   "execution_count": 18,
   "id": "ab0c3e79-4c17-44f1-83ff-cd3f6672e0f7",
   "metadata": {},
   "outputs": [],
   "source": [
    "white_finals = [x['white_result'] for x in games_list]\n",
    "black_finals = [x['black_result'] for x in games_list]"
   ]
  },
  {
   "cell_type": "code",
   "execution_count": 17,
   "id": "97ebebd9-eef3-4743-ba99-233422ea028d",
   "metadata": {},
   "outputs": [
    {
     "data": {
      "text/plain": [
       "{'50move',\n",
       " 'abandoned',\n",
       " 'agreed',\n",
       " 'checkmated',\n",
       " 'insufficient',\n",
       " 'repetition',\n",
       " 'resigned',\n",
       " 'stalemate',\n",
       " 'timeout',\n",
       " 'timevsinsufficient',\n",
       " 'win'}"
      ]
     },
     "execution_count": 17,
     "metadata": {},
     "output_type": "execute_result"
    }
   ],
   "source": [
    "set(white_finals)"
   ]
  },
  {
   "cell_type": "code",
   "execution_count": 19,
   "id": "acc38dd4-ebe3-46d2-a188-7f4c463127c0",
   "metadata": {},
   "outputs": [
    {
     "data": {
      "text/plain": [
       "{'50move',\n",
       " 'agreed',\n",
       " 'checkmated',\n",
       " 'insufficient',\n",
       " 'repetition',\n",
       " 'resigned',\n",
       " 'stalemate',\n",
       " 'timeout',\n",
       " 'timevsinsufficient',\n",
       " 'win'}"
      ]
     },
     "execution_count": 19,
     "metadata": {},
     "output_type": "execute_result"
    }
   ],
   "source": [
    "set(black_finals)"
   ]
  },
  {
   "cell_type": "code",
   "execution_count": 9,
   "id": "7c7d73ff-399c-4fc6-8dea-3e3c3bc52638",
   "metadata": {},
   "outputs": [
    {
     "data": {
      "text/plain": [
       "{'link': 'https://www.chess.com/game/live/1763967068',\n",
       " 'year': 2016,\n",
       " 'month': 10,\n",
       " 'day': 11,\n",
       " 'hour': 15,\n",
       " 'minute': 31,\n",
       " 'second': 54,\n",
       " 'white': 'pierrebl',\n",
       " 'black': 'hikaru',\n",
       " 'white_elo': 2497,\n",
       " 'black_elo': 2907,\n",
       " 'white_result': 0.0,\n",
       " 'black_result': 0.0,\n",
       " 'white_str_result': 'repetition',\n",
       " 'black_str_result': 'repetition',\n",
       " 'time_control': '180',\n",
       " 'eco': 'https://www.chess.com/openings/French-Defense-Tarrasch-Closed-Botvinnik-Variation',\n",
       " 'time_elapsed': 322,\n",
       " 'n_moves': 69}"
      ]
     },
     "execution_count": 9,
     "metadata": {},
     "output_type": "execute_result"
    }
   ],
   "source": [
    "GameCreateData(**games_list[0]).model_dump()"
   ]
  },
  {
   "cell_type": "code",
   "execution_count": 12,
   "id": "a75ea3fa-5248-4761-bc1a-724502d1659c",
   "metadata": {},
   "outputs": [
    {
     "data": {
      "text/plain": [
       "2219"
      ]
     },
     "execution_count": 12,
     "metadata": {},
     "output_type": "execute_result"
    }
   ],
   "source": [
    "len(moves_list)"
   ]
  },
  {
   "cell_type": "code",
   "execution_count": 13,
   "id": "41581b61-b75b-4ff5-8a58-61e59ec8690b",
   "metadata": {},
   "outputs": [
    {
     "data": {
      "text/plain": [
       "{'link': 'https://www.chess.com/game/live/121533668057',\n",
       " 'white_moves': array(['e4', 'Nf3', 'g3', 'Bg2', 'O-O', 'c3', 'd3', 'a3', 'b4', 'Be3',\n",
       "        'Nbd2', 'b5', 'd4', 'a4', 'dxe5', 'c4', 'Qc2', 'axb5', 'exf5',\n",
       "        'Rfe1', 'Rad1', 'Nxe4', 'Qxe4', 'Nh4', 'Qg4', 'Qxh4'], dtype='<U4'),\n",
       " 'white_reaction_times': 0      1.1\n",
       " 1      1.0\n",
       " 2      1.7\n",
       " 3      0.8\n",
       " 4      1.1\n",
       " 5      9.2\n",
       " 6      1.4\n",
       " 7      0.8\n",
       " 8      5.6\n",
       " 9      2.2\n",
       " 10    16.9\n",
       " 11     3.3\n",
       " 12    10.7\n",
       " 13    22.8\n",
       " 14     4.4\n",
       " 15     7.2\n",
       " 16     4.3\n",
       " 17    16.1\n",
       " 18     7.0\n",
       " 19    34.4\n",
       " 20     3.4\n",
       " 21     0.5\n",
       " 22     1.9\n",
       " 23     1.9\n",
       " 24     1.0\n",
       " 25     NaN\n",
       " dtype: float64,\n",
       " 'white_time_left': 0     137.6\n",
       " 1     137.5\n",
       " 2     137.5\n",
       " 3     136.8\n",
       " 4     137.0\n",
       " 5     136.9\n",
       " 6     128.7\n",
       " 7     128.3\n",
       " 8     128.5\n",
       " 9     123.9\n",
       " 10    122.7\n",
       " 11    106.8\n",
       " 12    104.5\n",
       " 13     94.8\n",
       " 14     73.0\n",
       " 15     69.6\n",
       " 16     63.4\n",
       " 17     60.1\n",
       " 18     45.0\n",
       " 19     39.0\n",
       " 20      5.6\n",
       " 21      3.2\n",
       " 22      3.7\n",
       " 23      2.8\n",
       " 24      1.9\n",
       " 25      1.9\n",
       " dtype: float64,\n",
       " 'black_moves': array(['c5', 'e6', 'g6', 'Bg7', 'Nc6', 'e5', 'd6', 'Nge7', 'O-O', 'b6',\n",
       "        'h6', 'Na5', 'a6', 'Qc7', 'dxe5', 'Be6', 'axb5', 'f5', 'gxf5',\n",
       "        'Ng6', 'e4', 'fxe4', 'Bf7', 'Rae8', 'Nxh4', 'Re5'], dtype='<U4'),\n",
       " 'black_reaction_times': 0      0.5\n",
       " 1      3.1\n",
       " 2      0.9\n",
       " 3      1.2\n",
       " 4     10.7\n",
       " 5      1.2\n",
       " 6      1.4\n",
       " 7      0.5\n",
       " 8      1.2\n",
       " 9      1.4\n",
       " 10     3.1\n",
       " 11     3.2\n",
       " 12     8.2\n",
       " 13     0.1\n",
       " 14     9.3\n",
       " 15     2.7\n",
       " 16     0.8\n",
       " 17     0.1\n",
       " 18    12.3\n",
       " 19     4.0\n",
       " 20     1.2\n",
       " 21     0.4\n",
       " 22     1.5\n",
       " 23     0.7\n",
       " 24    22.0\n",
       " 25     NaN\n",
       " dtype: float64,\n",
       " 'black_time_left': 0     178.2\n",
       " 1     178.7\n",
       " 2     176.6\n",
       " 3     176.7\n",
       " 4     176.5\n",
       " 5     166.8\n",
       " 6     166.6\n",
       " 7     166.2\n",
       " 8     166.7\n",
       " 9     166.5\n",
       " 10    166.1\n",
       " 11    164.0\n",
       " 12    161.8\n",
       " 13    154.6\n",
       " 14    155.5\n",
       " 15    147.2\n",
       " 16    145.5\n",
       " 17    145.7\n",
       " 18    146.6\n",
       " 19    135.3\n",
       " 20    132.3\n",
       " 21    132.1\n",
       " 22    132.7\n",
       " 23    132.2\n",
       " 24    132.5\n",
       " 25    111.5\n",
       " dtype: float64}"
      ]
     },
     "execution_count": 13,
     "metadata": {},
     "output_type": "execute_result"
    }
   ],
   "source": [
    "moves_list[0]"
   ]
  },
  {
   "cell_type": "code",
   "execution_count": 137,
   "id": "35ddf997-0dd0-45db-8b47-4e897d656c48",
   "metadata": {},
   "outputs": [
    {
     "data": {
      "text/plain": [
       "322"
      ]
     },
     "execution_count": 137,
     "metadata": {},
     "output_type": "execute_result"
    }
   ],
   "source": [
    "(end - start).seconds"
   ]
  },
  {
   "cell_type": "code",
   "execution_count": 125,
   "id": "c6fa5602-bd08-4bab-81c8-f5bc650ab938",
   "metadata": {},
   "outputs": [
    {
     "data": {
      "text/plain": [
       "datetime.datetime(2016, 10, 11, 10, 37, 16)"
      ]
     },
     "execution_count": 125,
     "metadata": {},
     "output_type": "execute_result"
    }
   ],
   "source": [
    "end"
   ]
  },
  {
   "cell_type": "code",
   "execution_count": null,
   "id": "bc6cc3d2-7488-421d-b955-399281017c7c",
   "metadata": {},
   "outputs": [],
   "source": []
  },
  {
   "cell_type": "code",
   "execution_count": 216,
   "id": "38121b44-ec05-41a5-bc9f-1610a250fef6",
   "metadata": {},
   "outputs": [],
   "source": [
    "def get_start_and_end_date(game,game_for_db):\n",
    "    game_date = get_pgn_item(game['pgn'], item='Date').split('.')\n",
    "    \n",
    "    game_for_db['year'] = int(game_date[0])\n",
    "    game_for_db['month'] = int(game_date[1])\n",
    "    game_for_db['day'] = int(game_date[2])\n",
    "    \n",
    "    game_start = get_pgn_item(game['pgn'], item='StartTime').split(':')\n",
    "    game_for_db['hour'] =  int(game_start[0])\n",
    "    game_for_db['minute'] = int(game_start[1])\n",
    "    game_for_db['second'] = int(game_start[2])\n",
    "\n",
    "    game_start = datetime(year = game_for_db['year'],\n",
    "                         month = game_for_db['month'],\n",
    "                         day = game_for_db['day'],\n",
    "                         hour = game_for_db['hour'],\n",
    "                         minute = game_for_db['minute'],\n",
    "                         second = game_for_db['second'])\n",
    "    \n",
    "    game_end_date = get_pgn_item(game['pgn'], item='EndDate').split('.')\n",
    "    game_for_db['end_year'] = int(game_end_date[0])\n",
    "    game_for_db['end_month'] = int(game_end_date[1])\n",
    "    game_for_db['end_day'] = int(game_end_date[2])\n",
    "    game_end_time = get_pgn_item(game['pgn'], item='EndTime').split(':')\n",
    "    game_for_db['end_hour'] = int(game_end_time[0])\n",
    "    game_for_db['end_minute'] = int(game_end_time[1])\n",
    "    game_for_db['end_second'] = int(game_end_time[2])\n",
    "\n",
    "    game_end = datetime(\n",
    "                year= game_for_db['end_year'],\n",
    "        month = game_for_db['end_month'],\n",
    "        day = game_for_db['end_day'],\n",
    "        hour = game_for_db['end_hour'],\n",
    "        minute = game_for_db['end_minute'],\n",
    "        second =game_for_db['end_second']\n",
    "    )\n",
    "\n",
    "    game_for_db['time_elapsed'] = (game_end - game_start).seconds\n",
    "    return game_for_db\n",
    "def get_black_and_white_data(game, game_for_db):\n",
    "    game_for_db['black'] = game['black']['username'].lower()\n",
    "    game_for_db['black_elo'] = int(game['black']['rating'])\n",
    "    game_for_db['black_result'] = game['black']['result'].lower()\n",
    "    \n",
    "    game_for_db['white'] = game['white']['username'].lower()\n",
    "    game_for_db['white_elo'] = int(game['white']['rating'])\n",
    "    game_for_db['white_result'] = game['white']['result'].lower()\n",
    "    return game_for_db\n",
    "def create_game_dict(game):\n",
    "    n_moves, moves_data = get_moves_data(game)\n",
    "    \n",
    "    game_for_db = dict()\n",
    "    game_for_db['link'] = game['url']   \n",
    "    \n",
    "    game_for_db = get_start_and_end_date(game, game_for_db)\n",
    "    game_for_db = get_black_and_white_data(game, game_for_db)\n",
    "    \n",
    "    \n",
    "    game_for_db['time_control']  = game['time_control']\n",
    "    game_for_db['eco']  = game['eco']\n",
    "    game_for_db['n_moves']  = n_moves\n",
    "    game_for_db['moves_data']  = moves_data\n",
    "    return game_for_db"
   ]
  },
  {
   "cell_type": "code",
   "execution_count": 220,
   "id": "932b62dc-046b-4b92-b4e6-5527fefa5a14",
   "metadata": {},
   "outputs": [],
   "source": [
    "def get_time_bonus(game):\n",
    "    time_control = game['time_control']\n",
    "    if \"+\" in time_control:\n",
    "        return int(time_control.split(\"+\")[-1])\n",
    "    return 0\n",
    "def get_n_moves(raw_moves):\n",
    "    return max(\n",
    "        [\n",
    "            int(x.replace(\".\", \"\"))\n",
    "            for x in raw_moves.split()\n",
    "            if x.replace(\".\", \"\").isnumeric()\n",
    "        ]\n",
    "    )\n",
    "def create_moves_table(\n",
    "                times: list,\n",
    "                clean_moves: list,\n",
    "                n_moves: int,\n",
    "                time_bonus: int) -> dict[str]:\n",
    "\n",
    "    ordered_times = np.array(times).reshape((-1, 2))\n",
    "    ordered_moves = np.array(clean_moves).reshape((-1, 2))\n",
    "    white_times = pd.Series(\n",
    "        [\n",
    "            pd.Timedelta(str(str_time)).total_seconds()\n",
    "            for str_time in ordered_times[:, 0]\n",
    "        ]\n",
    "    )\n",
    "    black_times = pd.Series(\n",
    "        [\n",
    "            pd.Timedelta(str(str_time)).total_seconds()\n",
    "            for str_time in ordered_times[:, 1]\n",
    "            if str_time != \"-\"\n",
    "        ]\n",
    "    )\n",
    "    white_cumsub = white_times.sub(white_times.shift(-1)) + time_bonus\n",
    "    black_cumsub = black_times.sub(black_times.shift(-1)) + time_bonus\n",
    "\n",
    "    result = {\n",
    "        \n",
    "        \"white_moves\": ordered_moves[:, 0],\n",
    "        \"white_reaction_times\": white_cumsub,\n",
    "        \"white_time_left\": white_times,\n",
    "        \"black_moves\": ordered_moves[:, 1],\n",
    "        \"black_reaction_times\": black_cumsub,\n",
    "        \"black_time_left\": black_times,\n",
    "\n",
    "        # \"moves\": \"\".join([str(x) + \" \" for x in range(1, n_moves + 1)])[:-1],\n",
    "        # \"white_moves\": \"\".join([str(x) + \" \" for x in ordered_moves[:, 0]])[:-1],\n",
    "        # \"white_reaction_times\": \"\".join([str(x) + \" \" for x in white_cumsub])[:-1],\n",
    "        # \"white_time_left\": \"\".join([str(x) + \" \" for x in white_times])[:-1],\n",
    "        # \"black_moves\": \"\".join([str(x) + \" \" for x in ordered_moves[:, 1]])[:-1],\n",
    "        # \"black_reaction_times\": \"\".join([str(x) + \" \" for x in black_cumsub])[:-1],\n",
    "        # \"black_time_left\": \"\".join([str(x) + \" \" for x in black_times])[:-1],\n",
    "    }\n",
    "    return result\n",
    "def get_moves_data(game: str) -> tuple:\n",
    "    time_bonus = get_time_bonus(game)\n",
    "    raw_moves = (\n",
    "        game['pgn'].split(\"\\n\\n\")[1]\n",
    "        .replace(\"1/2-1/2\", \"\")\n",
    "        .replace(\"1-0\", \"\")\n",
    "        .replace(\"0-1\", \"\")\n",
    "    )\n",
    "    n_moves = get_n_moves(raw_moves)\n",
    "    times = [x.replace(\"]\", \"\").replace(\"}\", \"\") for x in raw_moves.split() if \":\" in x]\n",
    "    just_moves = re.sub(r\"{[^}]*}*\", \"\", raw_moves)\n",
    "    clean_moves = [x for x in just_moves.split() if \".\" not in x]\n",
    "    if not f\"{n_moves}...\" in raw_moves:\n",
    "        clean_moves.append(\"-\")\n",
    "        times.append(\"-\")\n",
    "    moves_data = create_moves_table(times,\n",
    "                                    clean_moves,\n",
    "                                    n_moves,\n",
    "                                    time_bonus,\n",
    "                                    )\n",
    "    return n_moves, moves_data\n",
    "    #return times, clean_moves, n_moves, time_bonus, just_moves"
   ]
  },
  {
   "cell_type": "code",
   "execution_count": 223,
   "id": "b20b240f-207e-43dc-8065-4a2b2b4b2db9",
   "metadata": {},
   "outputs": [
    {
     "ename": "NameError",
     "evalue": "name 'format_and_insert_games' is not defined",
     "output_type": "error",
     "traceback": [
      "\u001b[31m---------------------------------------------------------------------------\u001b[39m",
      "\u001b[31mNameError\u001b[39m                                 Traceback (most recent call last)",
      "\u001b[36mCell\u001b[39m\u001b[36m \u001b[39m\u001b[32mIn[223]\u001b[39m\u001b[32m, line 1\u001b[39m\n\u001b[32m----> \u001b[39m\u001b[32m1\u001b[39m games_list, moves_list, months_list = format_and_insert_games(no_parallel)\n",
      "\u001b[31mNameError\u001b[39m: name 'format_and_insert_games' is not defined"
     ]
    }
   ],
   "source": [
    "games_list, moves_list, months_list = format_and_insert_games(no_parallel)"
   ]
  },
  {
   "cell_type": "code",
   "execution_count": null,
   "id": "625a6a0d-e7e2-4c7b-b0e0-e369d44566db",
   "metadata": {},
   "outputs": [],
   "source": []
  },
  {
   "cell_type": "code",
   "execution_count": null,
   "id": "ea312e94-8044-4c1b-807c-3d442c95df78",
   "metadata": {},
   "outputs": [],
   "source": []
  },
  {
   "cell_type": "code",
   "execution_count": null,
   "id": "9a75ae8b-7848-4daf-a70d-f77cf6d748a8",
   "metadata": {},
   "outputs": [],
   "source": []
  },
  {
   "cell_type": "code",
   "execution_count": 221,
   "id": "42cc639e-2c0f-413a-a3e2-1e207e0eec19",
   "metadata": {},
   "outputs": [],
   "source": [
    "w = create_game_dict(one)"
   ]
  },
  {
   "cell_type": "code",
   "execution_count": 222,
   "id": "fc530e07-37ff-4dbd-be51-4febee1cb002",
   "metadata": {},
   "outputs": [
    {
     "data": {
      "text/plain": [
       "{'link': 'https://www.chess.com/game/live/1763967068',\n",
       " 'year': 2016,\n",
       " 'month': 10,\n",
       " 'day': 11,\n",
       " 'hour': 15,\n",
       " 'minute': 31,\n",
       " 'second': 54,\n",
       " 'end_year': 2016,\n",
       " 'end_month': 10,\n",
       " 'end_day': 11,\n",
       " 'end_hour': 15,\n",
       " 'end_minute': 37,\n",
       " 'end_second': 16,\n",
       " 'time_elapsed': 322,\n",
       " 'black': 'hikaru',\n",
       " 'black_elo': 2907,\n",
       " 'black_result': 'repetition',\n",
       " 'white': 'pierrebl',\n",
       " 'white_elo': 2497,\n",
       " 'white_result': 'repetition',\n",
       " 'time_control': '180',\n",
       " 'eco': 'https://www.chess.com/openings/French-Defense-Tarrasch-Closed-Botvinnik-Variation',\n",
       " 'n_moves': 69,\n",
       " 'moves_data': {'white_moves': array(['e4', 'd4', 'Nd2', 'e5', 'Bd3', 'c3', 'Ngf3', 'Bxa6', 'O-O', 'Ne1',\n",
       "         'Qg4', 'Ndf3', 'exf6', 'Qh3', 'Bg5', 'Bxf6', 'Nd3', 'Nfe5', 'Nxe5',\n",
       "         'Nd7', 'dxc5', 'Nxc5', 'Nxe6', 'Nxc7', 'Qe6+', 'Qxd5', 'Rfd1',\n",
       "         'Rac1', 'Qd2', 'c4', 'Rxc4', 'g3', 'Qd8+', 'Qd3+', 'Qd8+', 'Qd3+',\n",
       "         'Qd8+', 'Qd3+', 'Qd8+', 'Qd5+', 'Qxf7+', 'Rd7+', 'Rxa7', 'a4',\n",
       "         'a5', 'Kg2', 'a6', 'Ra8', 'a7', 'h3', 'hxg4', 'Kf1', 'Ke1', 'Kd1',\n",
       "         'Kc1', 'Kb1', 'Kc2', 'Kd3', 'Kc3', 'Kb3', 'Kc4', 'Kd5', 'Ke5',\n",
       "         'Kf5', 'Kg5', 'Kf5', 'Kg5', 'Kf5', 'Kg5'], dtype='<U5'),\n",
       "  'white_reaction_times': 0     13.2\n",
       "  1      1.2\n",
       "  2      3.0\n",
       "  3      1.5\n",
       "  4      0.6\n",
       "        ... \n",
       "  64     0.9\n",
       "  65     1.2\n",
       "  66     0.5\n",
       "  67     0.5\n",
       "  68     NaN\n",
       "  Length: 69, dtype: float64,\n",
       "  'white_time_left': 0     176.7\n",
       "  1     163.5\n",
       "  2     162.3\n",
       "  3     159.3\n",
       "  4     157.8\n",
       "        ...  \n",
       "  64     19.3\n",
       "  65     18.4\n",
       "  66     17.2\n",
       "  67     16.7\n",
       "  68     16.2\n",
       "  Length: 69, dtype: float64,\n",
       "  'black_moves': array(['e6', 'd5', 'Nf6', 'Nfd7', 'c5', 'b6', 'Ba6', 'Nxa6', 'Be7', 'O-O',\n",
       "         'Nc7', 'f5', 'Nxf6', 'Bd6', 'Qe8', 'Rxf6', 'Qg6', 'Bxe5', 'Qc2',\n",
       "         'Rf5', 'bxc5', 'Qxb2', 'Rf7', 'Rxc7', 'Kh8', 'Rac8', 'h6', 'Rc5',\n",
       "         'Qa3', 'Rxc4', 'Rxc4', 'Qc5', 'Kh7', 'Kh8', 'Kh7', 'Kh8', 'Kh7',\n",
       "         'Kg8', 'Qf8', 'Qf7', 'Kxf7', 'Kf6', 'g5', 'g4', 'Ra4', 'Ra2', 'h5',\n",
       "         'Kf7', 'Kg7', 'Kf7', 'hxg4', 'Kg7', 'Kh7', 'Kg7', 'Kh7', 'Ra6',\n",
       "         'Kg7', 'Ra4', 'Kh7', 'Ra1', 'Kg7', 'Ra2', 'Kh7', 'Ra4', 'Kg7',\n",
       "         'Kh7', 'Kg7', 'Kh7', 'Kg7'], dtype='<U5'),\n",
       "  'black_reaction_times': 0     0.1\n",
       "  1     0.6\n",
       "  2     0.4\n",
       "  3     0.1\n",
       "  4     8.6\n",
       "       ... \n",
       "  64    1.2\n",
       "  65    0.7\n",
       "  66    0.3\n",
       "  67    0.4\n",
       "  68    NaN\n",
       "  Length: 69, dtype: float64,\n",
       "  'black_time_left': 0     153.8\n",
       "  1     153.7\n",
       "  2     153.1\n",
       "  3     152.7\n",
       "  4     152.6\n",
       "        ...  \n",
       "  64     59.8\n",
       "  65     58.6\n",
       "  66     57.9\n",
       "  67     57.6\n",
       "  68     57.2\n",
       "  Length: 69, dtype: float64}}"
      ]
     },
     "execution_count": 222,
     "metadata": {},
     "output_type": "execute_result"
    }
   ],
   "source": [
    "w"
   ]
  },
  {
   "cell_type": "code",
   "execution_count": null,
   "id": "80387abb-f11f-460b-981c-022d602d514e",
   "metadata": {},
   "outputs": [],
   "source": []
  },
  {
   "cell_type": "code",
   "execution_count": 141,
   "id": "3fdcd07b-a15a-42f0-a27a-fcd4631a1a8a",
   "metadata": {},
   "outputs": [
    {
     "data": {
      "text/plain": [
       "dict_keys(['url', 'pgn', 'time_control', 'end_time', 'rated', 'tcn', 'uuid', 'initial_setup', 'fen', 'time_class', 'rules', 'white', 'black', 'eco'])"
      ]
     },
     "execution_count": 141,
     "metadata": {},
     "output_type": "execute_result"
    }
   ],
   "source": [
    "one.keys()"
   ]
  },
  {
   "cell_type": "code",
   "execution_count": 142,
   "id": "f6321e28-b328-4f70-97c8-1c81ed3622ec",
   "metadata": {},
   "outputs": [
    {
     "data": {
      "text/plain": [
       "{'rating': 2497,\n",
       " 'result': 'repetition',\n",
       " '@id': 'https://api.chess.com/pub/player/pierrebl',\n",
       " 'username': 'Pierrebl',\n",
       " 'uuid': 'd62a7b08-4314-11e6-8056-000000000000'}"
      ]
     },
     "execution_count": 142,
     "metadata": {},
     "output_type": "execute_result"
    }
   ],
   "source": [
    "one['white']"
   ]
  },
  {
   "cell_type": "code",
   "execution_count": null,
   "id": "95d44abb-3e43-4e70-9930-736935927027",
   "metadata": {},
   "outputs": [],
   "source": []
  },
  {
   "cell_type": "code",
   "execution_count": 139,
   "id": "bf342c84-62d7-441c-bcd8-de80ffa736d7",
   "metadata": {},
   "outputs": [],
   "source": []
  },
  {
   "cell_type": "code",
   "execution_count": 140,
   "id": "757aefd2-44d3-4476-b916-1cafa4288bbd",
   "metadata": {},
   "outputs": [
    {
     "data": {
      "text/plain": [
       "{'link': 'https://www.chess.com/game/live/1763967068',\n",
       " 'year': 2016,\n",
       " 'month': 10,\n",
       " 'day': 11,\n",
       " 'hour': 15,\n",
       " 'minute': 31,\n",
       " 'second': 54,\n",
       " 'end_year': 2016,\n",
       " 'end_month': 10,\n",
       " 'end_day': 11,\n",
       " 'end_hour': 15,\n",
       " 'end_minute': 37,\n",
       " 'end_second': 16,\n",
       " 'time_elapsed': 322,\n",
       " 'black': 'Hikaru',\n",
       " 'black_elo': 2907,\n",
       " 'white': 'Pierrebl',\n",
       " 'white_elo': 2497,\n",
       " 'time_control': '180',\n",
       " 'eco': 'https://www.chess.com/openings/French-Defense-Tarrasch-Closed-Botvinnik-Variation'}"
      ]
     },
     "execution_count": 140,
     "metadata": {},
     "output_type": "execute_result"
    }
   ],
   "source": [
    "w"
   ]
  },
  {
   "cell_type": "code",
   "execution_count": null,
   "id": "6b4e8856-65b4-442f-9826-92f1d6542f95",
   "metadata": {},
   "outputs": [],
   "source": []
  },
  {
   "cell_type": "code",
   "execution_count": 104,
   "id": "e03e6e4c-b1bc-4106-854c-9190cb2effe8",
   "metadata": {},
   "outputs": [
    {
     "data": {
      "text/plain": [
       "1476200236"
      ]
     },
     "execution_count": 104,
     "metadata": {},
     "output_type": "execute_result"
    }
   ],
   "source": [
    "one['end_time']"
   ]
  },
  {
   "cell_type": "code",
   "execution_count": null,
   "id": "916cad45-0e18-4209-84ef-ddf4aa467a2e",
   "metadata": {},
   "outputs": [],
   "source": []
  },
  {
   "cell_type": "code",
   "execution_count": null,
   "id": "5e0e52d7-1a93-4019-83b1-0b062c84e9ac",
   "metadata": {},
   "outputs": [],
   "source": []
  },
  {
   "cell_type": "code",
   "execution_count": 97,
   "id": "36e44bba-96b7-4193-b80e-5844d38ac269",
   "metadata": {},
   "outputs": [
    {
     "data": {
      "text/plain": [
       "dict_keys(['url', 'pgn', 'time_control', 'end_time', 'rated', 'tcn', 'uuid', 'initial_setup', 'fen', 'time_class', 'rules', 'white', 'black', 'eco'])"
      ]
     },
     "execution_count": 97,
     "metadata": {},
     "output_type": "execute_result"
    }
   ],
   "source": [
    "one.keys()"
   ]
  },
  {
   "cell_type": "code",
   "execution_count": 98,
   "id": "abced867-8abb-40c2-ac4d-56e11ce82d52",
   "metadata": {},
   "outputs": [
    {
     "data": {
      "text/plain": [
       "{'rating': 2907,\n",
       " 'result': 'repetition',\n",
       " '@id': 'https://api.chess.com/pub/player/hikaru',\n",
       " 'username': 'Hikaru',\n",
       " 'uuid': '6f4deb88-7718-11e3-8016-000000000000'}"
      ]
     },
     "execution_count": 98,
     "metadata": {},
     "output_type": "execute_result"
    }
   ],
   "source": [
    "one['black']"
   ]
  },
  {
   "cell_type": "code",
   "execution_count": 100,
   "id": "0bb7db54-7d3f-4f0d-9998-73f67cbe5112",
   "metadata": {},
   "outputs": [
    {
     "data": {
      "text/plain": [
       "{'rating': 2497,\n",
       " 'result': 'repetition',\n",
       " '@id': 'https://api.chess.com/pub/player/pierrebl',\n",
       " 'username': 'Pierrebl',\n",
       " 'uuid': 'd62a7b08-4314-11e6-8056-000000000000'}"
      ]
     },
     "execution_count": 100,
     "metadata": {},
     "output_type": "execute_result"
    }
   ],
   "source": [
    "one['white']"
   ]
  },
  {
   "cell_type": "code",
   "execution_count": 103,
   "id": "83855d33-35bb-4c17-a4c9-db6db483dc61",
   "metadata": {},
   "outputs": [
    {
     "data": {
      "text/plain": [
       "'https://www.chess.com/openings/French-Defense-Tarrasch-Closed-Botvinnik-Variation'"
      ]
     },
     "execution_count": 103,
     "metadata": {},
     "output_type": "execute_result"
    }
   ],
   "source": [
    "one['eco']"
   ]
  },
  {
   "cell_type": "code",
   "execution_count": null,
   "id": "33e8f927-dd96-4071-af5e-c376650879b4",
   "metadata": {},
   "outputs": [],
   "source": []
  },
  {
   "cell_type": "code",
   "execution_count": 46,
   "id": "c4a4240a-ec58-4b9a-8a3d-5d162393705c",
   "metadata": {},
   "outputs": [
    {
     "data": {
      "text/plain": [
       "dict_keys(['url', 'pgn', 'time_control', 'end_time', 'rated', 'tcn', 'uuid', 'initial_setup', 'fen', 'time_class', 'rules', 'white', 'black', 'eco'])"
      ]
     },
     "execution_count": 46,
     "metadata": {},
     "output_type": "execute_result"
    }
   ],
   "source": [
    "one.keys()"
   ]
  },
  {
   "cell_type": "code",
   "execution_count": 105,
   "id": "e0e4b2b0-d59b-4ebc-9dee-6030c78e6642",
   "metadata": {},
   "outputs": [
    {
     "data": {
      "text/plain": [
       "'11 October 2016 10:37:16'"
      ]
     },
     "execution_count": 105,
     "metadata": {},
     "output_type": "execute_result"
    }
   ],
   "source": [
    "datetime.fromtimestamp(one['end_time']).strftime(\"%d %B %Y %H:%M:%S\")"
   ]
  },
  {
   "cell_type": "code",
   "execution_count": null,
   "id": "166f330e-d830-41b3-aaad-f7a677c92aa6",
   "metadata": {},
   "outputs": [],
   "source": []
  },
  {
   "cell_type": "code",
   "execution_count": 57,
   "id": "d766b073-9251-4eeb-9e26-64e4cc654aa4",
   "metadata": {},
   "outputs": [
    {
     "data": {
      "text/plain": [
       "'[Event \"Live Chess\"]\\n[Site \"Chess.com\"]\\n[Date \"2016.10.11\"]\\n[Round \"-\"]\\n[White \"Pierrebl\"]\\n[Black \"Hikaru\"]\\n[Result \"1/2-1/2\"]\\n[CurrentPosition \"R7/P5k1/8/6K1/r5p1/6P1/5P2/8 w - -\"]\\n[Timezone \"UTC\"]\\n[ECO \"C05\"]\\n[ECOUrl \"https://www.chess.com/openings/French-Defense-Tarrasch-Closed-Botvinnik-Variation\"]\\n[UTCDate \"2016.10.11\"]\\n[UTCTime \"15:31:54\"]\\n[WhiteElo \"2497\"]\\n[BlackElo \"2907\"]\\n[TimeControl \"180\"]\\n[Termination \"Game drawn by repetition\"]\\n[StartTime \"15:31:54\"]\\n[EndDate \"2016.10.11\"]\\n[EndTime \"15:37:16\"]\\n[Link \"https://www.chess.com/game/live/1763967068\"]\\n\\n1. e4 {[%clk 0:02:56.7]} 1... e6 {[%clk 0:02:33.8]} 2. d4 {[%clk 0:02:43.5]} 2... d5 {[%clk 0:02:33.7]} 3. Nd2 {[%clk 0:02:42.3]} 3... Nf6 {[%clk 0:02:33.1]} 4. e5 {[%clk 0:02:39.3]} 4... Nfd7 {[%clk 0:02:32.7]} 5. Bd3 {[%clk 0:02:37.8]} 5... c5 {[%clk 0:02:32.6]} 6. c3 {[%clk 0:02:37.2]} 6... b6 {[%clk 0:02:24]} 7. Ngf3 {[%clk 0:02:32.4]} 7... Ba6 {[%clk 0:02:23]} 8. Bxa6 {[%clk 0:02:28]} 8... Nxa6 {[%clk 0:02:22.9]} 9. O-O {[%clk 0:02:27]} 9... Be7 {[%clk 0:02:20.5]} 10. Ne1 {[%clk 0:02:19.9]} 10... O-O {[%clk 0:02:15.3]} 11. Qg4 {[%clk 0:02:15.1]} 11... Nc7 {[%clk 0:02:13.1]} 12. Ndf3 {[%clk 0:02:13.8]} 12... f5 {[%clk 0:02:08.2]} 13. exf6 {[%clk 0:02:10.3]} 13... Nxf6 {[%clk 0:02:07.2]} 14. Qh3 {[%clk 0:02:07.1]} 14... Bd6 {[%clk 0:02:05.4]} 15. Bg5 {[%clk 0:02:02.2]} 15... Qe8 {[%clk 0:02:03.8]} 16. Bxf6 {[%clk 0:01:58.4]} 16... Rxf6 {[%clk 0:01:55.8]} 17. Nd3 {[%clk 0:01:57.5]} 17... Qg6 {[%clk 0:01:45.5]} 18. Nfe5 {[%clk 0:01:42.8]} 18... Bxe5 {[%clk 0:01:44.3]} 19. Nxe5 {[%clk 0:01:41.7]} 19... Qc2 {[%clk 0:01:44.2]} 20. Nd7 {[%clk 0:01:00.9]} 20... Rf5 {[%clk 0:01:32]} 21. dxc5 {[%clk 0:00:57.7]} 21... bxc5 {[%clk 0:01:31.9]} 22. Nxc5 {[%clk 0:00:56.2]} 22... Qxb2 {[%clk 0:01:31.6]} 23. Nxe6 {[%clk 0:00:55.4]} 23... Rf7 {[%clk 0:01:28.5]} 24. Nxc7 {[%clk 0:00:53.8]} 24... Rxc7 {[%clk 0:01:28.4]} 25. Qe6+ {[%clk 0:00:52.9]} 25... Kh8 {[%clk 0:01:27.9]} 26. Qxd5 {[%clk 0:00:52.8]} 26... Rac8 {[%clk 0:01:27.2]} 27. Rfd1 {[%clk 0:00:48.9]} 27... h6 {[%clk 0:01:26.7]} 28. Rac1 {[%clk 0:00:45.5]} 28... Rc5 {[%clk 0:01:21.4]} 29. Qd2 {[%clk 0:00:43.2]} 29... Qa3 {[%clk 0:01:21]} 30. c4 {[%clk 0:00:41]} 30... Rxc4 {[%clk 0:01:20.4]} 31. Rxc4 {[%clk 0:00:40.3]} 31... Rxc4 {[%clk 0:01:20.3]} 32. g3 {[%clk 0:00:39.5]} 32... Qc5 {[%clk 0:01:15.5]} 33. Qd8+ {[%clk 0:00:37.3]} 33... Kh7 {[%clk 0:01:15.1]} 34. Qd3+ {[%clk 0:00:36.8]} 34... Kh8 {[%clk 0:01:14.6]} 35. Qd8+ {[%clk 0:00:36.3]} 35... Kh7 {[%clk 0:01:13.6]} 36. Qd3+ {[%clk 0:00:36.2]} 36... Kh8 {[%clk 0:01:12.8]} 37. Qd8+ {[%clk 0:00:35.7]} 37... Kh7 {[%clk 0:01:12.1]} 38. Qd3+ {[%clk 0:00:35.6]} 38... Kg8 {[%clk 0:01:12]} 39. Qd8+ {[%clk 0:00:33.6]} 39... Qf8 {[%clk 0:01:11.3]} 40. Qd5+ {[%clk 0:00:32.3]} 40... Qf7 {[%clk 0:01:10.9]} 41. Qxf7+ {[%clk 0:00:32.2]} 41... Kxf7 {[%clk 0:01:10.8]} 42. Rd7+ {[%clk 0:00:31.5]} 42... Kf6 {[%clk 0:01:10.5]} 43. Rxa7 {[%clk 0:00:31.4]} 43... g5 {[%clk 0:01:10.2]} 44. a4 {[%clk 0:00:30.8]} 44... g4 {[%clk 0:01:09.5]} 45. a5 {[%clk 0:00:30.3]} 45... Ra4 {[%clk 0:01:08.7]} 46. Kg2 {[%clk 0:00:29.6]} 46... Ra2 {[%clk 0:01:08.1]} 47. a6 {[%clk 0:00:28.9]} 47... h5 {[%clk 0:01:07.7]} 48. Ra8 {[%clk 0:00:28.8]} 48... Kf7 {[%clk 0:01:07]} 49. a7 {[%clk 0:00:28.1]} 49... Kg7 {[%clk 0:01:06.6]} 50. h3 {[%clk 0:00:27.8]} 50... Kf7 {[%clk 0:01:04.9]} 51. hxg4 {[%clk 0:00:27.7]} 51... hxg4 {[%clk 0:01:04.8]} 52. Kf1 {[%clk 0:00:27.6]} 52... Kg7 {[%clk 0:01:04.3]} 53. Ke1 {[%clk 0:00:27.2]} 53... Kh7 {[%clk 0:01:03.2]} 54. Kd1 {[%clk 0:00:26.8]} 54... Kg7 {[%clk 0:01:03.1]} 55. Kc1 {[%clk 0:00:26.3]} 55... Kh7 {[%clk 0:01:02.8]} 56. Kb1 {[%clk 0:00:25.7]} 56... Ra6 {[%clk 0:01:02.7]} 57. Kc2 {[%clk 0:00:25.1]} 57... Kg7 {[%clk 0:01:02.6]} 58. Kd3 {[%clk 0:00:24.5]} 58... Ra4 {[%clk 0:01:02.2]} 59. Kc3 {[%clk 0:00:23.2]} 59... Kh7 {[%clk 0:01:02]} 60. Kb3 {[%clk 0:00:22.6]} 60... Ra1 {[%clk 0:01:01.7]} 61. Kc4 {[%clk 0:00:22.5]} 61... Kg7 {[%clk 0:01:01.6]} 62. Kd5 {[%clk 0:00:21.9]} 62... Ra2 {[%clk 0:01:01]} 63. Ke5 {[%clk 0:00:21.1]} 63... Kh7 {[%clk 0:01:00.5]} 64. Kf5 {[%clk 0:00:20.4]} 64... Ra4 {[%clk 0:01:00.2]} 65. Kg5 {[%clk 0:00:19.3]} 65... Kg7 {[%clk 0:00:59.8]} 66. Kf5 {[%clk 0:00:18.4]} 66... Kh7 {[%clk 0:00:58.6]} 67. Kg5 {[%clk 0:00:17.2]} 67... Kg7 {[%clk 0:00:57.9]} 68. Kf5 {[%clk 0:00:16.7]} 68... Kh7 {[%clk 0:00:57.6]} 69. Kg5 {[%clk 0:00:16.2]} 69... Kg7 {[%clk 0:00:57.2]} 1/2-1/2\\n'"
      ]
     },
     "execution_count": 57,
     "metadata": {},
     "output_type": "execute_result"
    }
   ],
   "source": [
    "one['pgn']"
   ]
  },
  {
   "cell_type": "code",
   "execution_count": 60,
   "id": "e04e0723-3d4c-4bdf-b0ff-e7e9a5f429f5",
   "metadata": {},
   "outputs": [
    {
     "data": {
      "text/plain": [
       "'11 October 2016 10:37:16'"
      ]
     },
     "execution_count": 60,
     "metadata": {},
     "output_type": "execute_result"
    }
   ],
   "source": [
    "datetime.fromtimestamp(one['end_time']).strftime(\"%d %B %Y %H:%M:%S\")"
   ]
  },
  {
   "cell_type": "code",
   "execution_count": 61,
   "id": "8ed32e83-827e-415a-91c9-f0248941fd37",
   "metadata": {},
   "outputs": [
    {
     "data": {
      "text/plain": [
       "datetime.datetime(2016, 10, 11, 10, 37, 16)"
      ]
     },
     "execution_count": 61,
     "metadata": {},
     "output_type": "execute_result"
    }
   ],
   "source": [
    "datetime.fromtimestamp(one['end_time'])"
   ]
  },
  {
   "cell_type": "code",
   "execution_count": null,
   "id": "e089403f-2160-4f25-92ae-1d79c278d244",
   "metadata": {},
   "outputs": [],
   "source": []
  },
  {
   "cell_type": "code",
   "execution_count": 32,
   "id": "233a1a42-f260-466f-8047-9caca13ae257",
   "metadata": {},
   "outputs": [
    {
     "data": {
      "text/plain": [
       "dict_keys(['url', 'pgn', 'time_control', 'end_time', 'rated', 'tcn', 'uuid', 'initial_setup', 'fen', 'time_class', 'rules', 'white', 'black', 'eco'])"
      ]
     },
     "execution_count": 32,
     "metadata": {},
     "output_type": "execute_result"
    }
   ],
   "source": [
    "no_parallel[2016][10][0].keys()"
   ]
  },
  {
   "cell_type": "code",
   "execution_count": 28,
   "id": "e3d774eb-7f48-49b7-80ea-419a454f8658",
   "metadata": {},
   "outputs": [
    {
     "data": {
      "text/plain": [
       "dict"
      ]
     },
     "execution_count": 28,
     "metadata": {},
     "output_type": "execute_result"
    }
   ],
   "source": [
    "type(no_parallel[2024][10][0])"
   ]
  },
  {
   "cell_type": "code",
   "execution_count": 33,
   "id": "dd672768-d56d-454a-8907-09b701957134",
   "metadata": {},
   "outputs": [
    {
     "data": {
      "text/plain": [
       "{'rating': 2907,\n",
       " 'result': 'repetition',\n",
       " '@id': 'https://api.chess.com/pub/player/hikaru',\n",
       " 'username': 'Hikaru',\n",
       " 'uuid': '6f4deb88-7718-11e3-8016-000000000000'}"
      ]
     },
     "execution_count": 33,
     "metadata": {},
     "output_type": "execute_result"
    }
   ],
   "source": [
    "no_parallel[2016][10][0]['black']"
   ]
  },
  {
   "cell_type": "code",
   "execution_count": 34,
   "id": "ee64fc60-f48b-46b2-8920-beae254bf153",
   "metadata": {},
   "outputs": [
    {
     "data": {
      "text/plain": [
       "{'rating': 2497,\n",
       " 'result': 'repetition',\n",
       " '@id': 'https://api.chess.com/pub/player/pierrebl',\n",
       " 'username': 'Pierrebl',\n",
       " 'uuid': 'd62a7b08-4314-11e6-8056-000000000000'}"
      ]
     },
     "execution_count": 34,
     "metadata": {},
     "output_type": "execute_result"
    }
   ],
   "source": [
    "no_parallel[2016][10][0]['white']"
   ]
  },
  {
   "cell_type": "code",
   "execution_count": null,
   "id": "f7d1c68d-46ec-401e-b53e-38b0991bafa7",
   "metadata": {},
   "outputs": [],
   "source": []
  },
  {
   "cell_type": "code",
   "execution_count": null,
   "id": "88063820-50b0-4bd3-a13c-f54e45ecdd81",
   "metadata": {},
   "outputs": [],
   "source": []
  },
  {
   "cell_type": "code",
   "execution_count": null,
   "id": "ad5167cd-5fd5-4295-a780-ff627413ba6a",
   "metadata": {},
   "outputs": [],
   "source": []
  },
  {
   "cell_type": "code",
   "execution_count": null,
   "id": "8b687708-a230-45c3-ab44-a03378d7dbcb",
   "metadata": {},
   "outputs": [],
   "source": []
  },
  {
   "cell_type": "code",
   "execution_count": 23,
   "id": "a675c22a-7a4d-4a71-a211-88d2ec4d9630",
   "metadata": {},
   "outputs": [],
   "source": [
    "import numpy as np"
   ]
  },
  {
   "cell_type": "code",
   "execution_count": 24,
   "id": "82ca9b31-935e-41b6-a58b-5019db18f9b2",
   "metadata": {},
   "outputs": [],
   "source": [
    "def get_pgn_item(game, item: str) -> str:\n",
    "    if item == \"Termination\":\n",
    "        return (\n",
    "            game.split(f\"{item}\")[1]\n",
    "            .split(\"\\n\")[0]\n",
    "            .replace('\"', \"\")\n",
    "            .replace(\"]\", \"\")\n",
    "            .lower()\n",
    "        )\n",
    "    return (\n",
    "        game.split(f\"{item}\")[1]\n",
    "        .split(\"\\n\")[0]\n",
    "        .replace('\"', \"\")\n",
    "        .replace(\"]\", \"\")\n",
    "        .replace(\" \", \"\")\n",
    "        .lower()\n",
    "    )"
   ]
  },
  {
   "cell_type": "code",
   "execution_count": 26,
   "id": "0cf7ac4d-d5df-4db4-bbe7-6829ccc32a1a",
   "metadata": {},
   "outputs": [
    {
     "ename": "AttributeError",
     "evalue": "'int' object has no attribute 'split'",
     "output_type": "error",
     "traceback": [
      "\u001b[31m---------------------------------------------------------------------------\u001b[39m",
      "\u001b[31mAttributeError\u001b[39m                            Traceback (most recent call last)",
      "\u001b[36mCell\u001b[39m\u001b[36m \u001b[39m\u001b[32mIn[26]\u001b[39m\u001b[32m, line 4\u001b[39m\n\u001b[32m      1\u001b[39m players_and_game_id = np.array(\n\u001b[32m      2\u001b[39m         [\n\u001b[32m      3\u001b[39m             [\n\u001b[32m----> \u001b[39m\u001b[32m4\u001b[39m                 get_pgn_item(game, \u001b[33m\"\u001b[39m\u001b[33mWhite\u001b[39m\u001b[33m\"\u001b[39m).lower(),\n\u001b[32m      5\u001b[39m                 get_pgn_item(game, \u001b[33m\"\u001b[39m\u001b[33mBlack\u001b[39m\u001b[33m\"\u001b[39m).lower(),\n\u001b[32m      6\u001b[39m                 \u001b[38;5;28mint\u001b[39m(get_pgn_item(game, \u001b[33m\"\u001b[39m\u001b[33m[Link\u001b[39m\u001b[33m\"\u001b[39m).split(\u001b[33m\"\u001b[39m\u001b[33m/\u001b[39m\u001b[33m\"\u001b[39m)[-\u001b[32m1\u001b[39m]),\n\u001b[32m      7\u001b[39m             ]\n\u001b[32m      8\u001b[39m             \u001b[38;5;28;01mfor\u001b[39;00m game \u001b[38;5;129;01min\u001b[39;00m no_parallel\n\u001b[32m      9\u001b[39m         ]\n\u001b[32m     10\u001b[39m     )\n",
      "\u001b[36mCell\u001b[39m\u001b[36m \u001b[39m\u001b[32mIn[24]\u001b[39m\u001b[32m, line 11\u001b[39m, in \u001b[36mget_pgn_item\u001b[39m\u001b[34m(game, item)\u001b[39m\n\u001b[32m      2\u001b[39m \u001b[38;5;28;01mif\u001b[39;00m item == \u001b[33m\"\u001b[39m\u001b[33mTermination\u001b[39m\u001b[33m\"\u001b[39m:\n\u001b[32m      3\u001b[39m     \u001b[38;5;28;01mreturn\u001b[39;00m (\n\u001b[32m      4\u001b[39m         game.split(\u001b[33mf\u001b[39m\u001b[33m\"\u001b[39m\u001b[38;5;132;01m{\u001b[39;00mitem\u001b[38;5;132;01m}\u001b[39;00m\u001b[33m\"\u001b[39m)[\u001b[32m1\u001b[39m]\n\u001b[32m      5\u001b[39m         .split(\u001b[33m\"\u001b[39m\u001b[38;5;130;01m\\n\u001b[39;00m\u001b[33m\"\u001b[39m)[\u001b[32m0\u001b[39m]\n\u001b[32m   (...)\u001b[39m\u001b[32m      8\u001b[39m         .lower()\n\u001b[32m      9\u001b[39m     )\n\u001b[32m     10\u001b[39m \u001b[38;5;28;01mreturn\u001b[39;00m (\n\u001b[32m---> \u001b[39m\u001b[32m11\u001b[39m     game.split(\u001b[33mf\u001b[39m\u001b[33m\"\u001b[39m\u001b[38;5;132;01m{\u001b[39;00mitem\u001b[38;5;132;01m}\u001b[39;00m\u001b[33m\"\u001b[39m)[\u001b[32m1\u001b[39m]\n\u001b[32m     12\u001b[39m     .split(\u001b[33m\"\u001b[39m\u001b[38;5;130;01m\\n\u001b[39;00m\u001b[33m\"\u001b[39m)[\u001b[32m0\u001b[39m]\n\u001b[32m     13\u001b[39m     .replace(\u001b[33m'\u001b[39m\u001b[33m\"\u001b[39m\u001b[33m'\u001b[39m, \u001b[33m\"\u001b[39m\u001b[33m\"\u001b[39m)\n\u001b[32m     14\u001b[39m     .replace(\u001b[33m\"\u001b[39m\u001b[33m]\u001b[39m\u001b[33m\"\u001b[39m, \u001b[33m\"\u001b[39m\u001b[33m\"\u001b[39m)\n\u001b[32m     15\u001b[39m     .replace(\u001b[33m\"\u001b[39m\u001b[33m \u001b[39m\u001b[33m\"\u001b[39m, \u001b[33m\"\u001b[39m\u001b[33m\"\u001b[39m)\n\u001b[32m     16\u001b[39m     .lower()\n\u001b[32m     17\u001b[39m )\n",
      "\u001b[31mAttributeError\u001b[39m: 'int' object has no attribute 'split'"
     ]
    }
   ],
   "source": [
    "players_and_game_id = np.array(\n",
    "        [\n",
    "            [\n",
    "                get_pgn_item(game, \"White\").lower(),\n",
    "                get_pgn_item(game, \"Black\").lower(),\n",
    "                int(get_pgn_item(game, \"[Link\").split(\"/\")[-1]),\n",
    "            ]\n",
    "            for game in no_parallel\n",
    "        ]\n",
    "    )"
   ]
  },
  {
   "cell_type": "code",
   "execution_count": null,
   "id": "c1cc14ab-e00d-4790-bc58-2b084fe42540",
   "metadata": {},
   "outputs": [],
   "source": []
  },
  {
   "cell_type": "code",
   "execution_count": null,
   "id": "853fda36-7770-436c-b62c-d3c45fb01600",
   "metadata": {},
   "outputs": [],
   "source": []
  },
  {
   "cell_type": "code",
   "execution_count": null,
   "id": "48097a5b-5ee7-4737-9557-ae21aa6d5a6b",
   "metadata": {},
   "outputs": [],
   "source": []
  },
  {
   "cell_type": "code",
   "execution_count": null,
   "id": "cdb8264f-e62b-48cc-8888-0e0eabbf2b6a",
   "metadata": {},
   "outputs": [],
   "source": []
  },
  {
   "cell_type": "code",
   "execution_count": null,
   "id": "990558bf-c27f-42e0-b1fc-8f43ab7f299a",
   "metadata": {},
   "outputs": [],
   "source": []
  },
  {
   "cell_type": "code",
   "execution_count": null,
   "id": "5786c54e-2a27-4e5d-abe9-4e35b4326d88",
   "metadata": {},
   "outputs": [],
   "source": []
  },
  {
   "cell_type": "code",
   "execution_count": null,
   "id": "a5111c5e-0b26-44af-9521-ed99d2db1ab8",
   "metadata": {},
   "outputs": [],
   "source": []
  },
  {
   "cell_type": "code",
   "execution_count": null,
   "id": "c4763bcf-3094-4410-82c3-d90b881d96c2",
   "metadata": {},
   "outputs": [],
   "source": [
    "validate_games(no_parallel)"
   ]
  },
  {
   "cell_type": "code",
   "execution_count": null,
   "id": "65793d4b-2458-4425-ad21-de50698ac498",
   "metadata": {},
   "outputs": [],
   "source": []
  },
  {
   "cell_type": "code",
   "execution_count": null,
   "id": "0bacff07-423b-4933-aa38-1c76c38905f2",
   "metadata": {},
   "outputs": [],
   "source": []
  },
  {
   "cell_type": "code",
   "execution_count": null,
   "id": "f664944c-a4c7-4c2e-a00e-3e5ee87a4abf",
   "metadata": {},
   "outputs": [],
   "source": []
  },
  {
   "cell_type": "code",
   "execution_count": 22,
   "id": "9957996e-21a5-4805-952e-67a59ec12aba",
   "metadata": {},
   "outputs": [
    {
     "data": {
      "text/plain": [
       "'\"2023.10.02\"'"
      ]
     },
     "execution_count": 22,
     "metadata": {},
     "output_type": "execute_result"
    }
   ],
   "source": [
    "q[0]['pgn'].split('[Date ')[1].split(']')[0]"
   ]
  },
  {
   "cell_type": "code",
   "execution_count": null,
   "id": "a32fb633-f046-47f7-81a2-bd73f2e0bb23",
   "metadata": {},
   "outputs": [],
   "source": []
  },
  {
   "cell_type": "code",
   "execution_count": null,
   "id": "638d4cb8-c662-496a-aa6f-219880335de1",
   "metadata": {},
   "outputs": [],
   "source": []
  },
  {
   "cell_type": "code",
   "execution_count": null,
   "id": "8f8a91e2-8a53-4341-88ac-0eaf7dd708c8",
   "metadata": {},
   "outputs": [],
   "source": []
  },
  {
   "cell_type": "code",
   "execution_count": null,
   "id": "5c48f4d0-0e2d-46f3-b05c-98f1b6b2e268",
   "metadata": {},
   "outputs": [],
   "source": []
  },
  {
   "cell_type": "code",
   "execution_count": 7,
   "id": "09377a61-a531-427b-8dd4-cfcd6dffb2ba",
   "metadata": {},
   "outputs": [
    {
     "data": {
      "text/plain": [
       "dict_keys([2024, 2023])"
      ]
     },
     "execution_count": 7,
     "metadata": {},
     "output_type": "execute_result"
    }
   ],
   "source": [
    "q.keys()"
   ]
  },
  {
   "cell_type": "code",
   "execution_count": 9,
   "id": "0539fc32-6682-4a7a-ac51-a7bb867504e6",
   "metadata": {},
   "outputs": [
    {
     "data": {
      "text/plain": [
       "dict_keys([10, 11])"
      ]
     },
     "execution_count": 9,
     "metadata": {},
     "output_type": "execute_result"
    }
   ],
   "source": [
    "q[2024].keys()"
   ]
  },
  {
   "cell_type": "code",
   "execution_count": 11,
   "id": "b38b5e05-304b-409c-8d8d-dae7a3f2ce1e",
   "metadata": {},
   "outputs": [
    {
     "data": {
      "text/plain": [
       "{'url': 'https://www.chess.com/game/live/121533668057',\n",
       " 'pgn': '[Event \"Live Chess\"]\\n[Site \"Chess.com\"]\\n[Date \"2024.10.01\"]\\n[Round \"-\"]\\n[White \"tetrix83\"]\\n[Black \"Hikaru\"]\\n[Result \"0-1\"]\\n[Tournament \"https://www.chess.com/tournament/live/early-titled-tuesday-blitz-october-01-2024-5099899\"]\\n[CurrentPosition \"5rk1/2q2bb1/1p5p/nPp1r3/2P4Q/4B1P1/5PBP/3RR1K1 w - -\"]\\n[Timezone \"UTC\"]\\n[ECO \"B40\"]\\n[ECOUrl \"https://www.chess.com/openings/Sicilian-Defense-French-Variation-3.g3\"]\\n[UTCDate \"2024.10.01\"]\\n[UTCTime \"15:00:00\"]\\n[WhiteElo \"2557\"]\\n[BlackElo \"3282\"]\\n[TimeControl \"180+1\"]\\n[Termination \"Hikaru won on time\"]\\n[StartTime \"15:00:00\"]\\n[EndDate \"2024.10.01\"]\\n[EndTime \"15:05:12\"]\\n[Link \"https://www.chess.com/game/live/121533668057\"]\\n\\n1. e4 {[%clk 0:02:17.6]} 1... c5 {[%clk 0:02:58.2]} 2. Nf3 {[%clk 0:02:17.5]} 2... e6 {[%clk 0:02:58.7]} 3. g3 {[%clk 0:02:17.5]} 3... g6 {[%clk 0:02:56.6]} 4. Bg2 {[%clk 0:02:16.8]} 4... Bg7 {[%clk 0:02:56.7]} 5. O-O {[%clk 0:02:17]} 5... Nc6 {[%clk 0:02:56.5]} 6. c3 {[%clk 0:02:16.9]} 6... e5 {[%clk 0:02:46.8]} 7. d3 {[%clk 0:02:08.7]} 7... d6 {[%clk 0:02:46.6]} 8. a3 {[%clk 0:02:08.3]} 8... Nge7 {[%clk 0:02:46.2]} 9. b4 {[%clk 0:02:08.5]} 9... O-O {[%clk 0:02:46.7]} 10. Be3 {[%clk 0:02:03.9]} 10... b6 {[%clk 0:02:46.5]} 11. Nbd2 {[%clk 0:02:02.7]} 11... h6 {[%clk 0:02:46.1]} 12. b5 {[%clk 0:01:46.8]} 12... Na5 {[%clk 0:02:44]} 13. d4 {[%clk 0:01:44.5]} 13... a6 {[%clk 0:02:41.8]} 14. a4 {[%clk 0:01:34.8]} 14... Qc7 {[%clk 0:02:34.6]} 15. dxe5 {[%clk 0:01:13]} 15... dxe5 {[%clk 0:02:35.5]} 16. c4 {[%clk 0:01:09.6]} 16... Be6 {[%clk 0:02:27.2]} 17. Qc2 {[%clk 0:01:03.4]} 17... axb5 {[%clk 0:02:25.5]} 18. axb5 {[%clk 0:01:00.1]} 18... f5 {[%clk 0:02:25.7]} 19. exf5 {[%clk 0:00:45]} 19... gxf5 {[%clk 0:02:26.6]} 20. Rfe1 {[%clk 0:00:39]} 20... Ng6 {[%clk 0:02:15.3]} 21. Rad1 {[%clk 0:00:05.6]} 21... e4 {[%clk 0:02:12.3]} 22. Nxe4 {[%clk 0:00:03.2]} 22... fxe4 {[%clk 0:02:12.1]} 23. Qxe4 {[%clk 0:00:03.7]} 23... Bf7 {[%clk 0:02:12.7]} 24. Nh4 {[%clk 0:00:02.8]} 24... Rae8 {[%clk 0:02:12.2]} 25. Qg4 {[%clk 0:00:01.9]} 25... Nxh4 {[%clk 0:02:12.5]} 26. Qxh4 {[%clk 0:00:01.9]} 26... Re5 {[%clk 0:01:51.5]} 0-1\\n',\n",
       " 'time_control': '180+1',\n",
       " 'end_time': 1727795112,\n",
       " 'rated': True,\n",
       " 'accuracies': {'white': 86.11, 'black': 88.98},\n",
       " 'tcn': 'mCYIgv0Sow2Ufo92eg5QksSKltZRiq!0jz8!cuXPbl3VzHQGtBWOqy7YBKRKsA6SdkOHyH1LCLULfe0UadKClCLCkCS1vF48CEUFEF8K',\n",
       " 'uuid': 'd4aaa6c8-8005-11ef-8a2a-6cfe544c0428',\n",
       " 'initial_setup': 'rnbqkbnr/pppppppp/8/8/8/8/PPPPPPPP/RNBQKBNR w KQkq - 0 1',\n",
       " 'fen': '5rk1/2q2bb1/1p5p/nPp1r3/2P4Q/4B1P1/5PBP/3RR1K1 w - -',\n",
       " 'time_class': 'blitz',\n",
       " 'rules': 'chess',\n",
       " 'white': {'rating': 2557,\n",
       "  'result': 'timeout',\n",
       "  '@id': 'https://api.chess.com/pub/player/tetrix83',\n",
       "  'username': 'tetrix83',\n",
       "  'uuid': '5fbbfd8e-c351-11e7-8014-000000000000'},\n",
       " 'black': {'rating': 3282,\n",
       "  'result': 'win',\n",
       "  '@id': 'https://api.chess.com/pub/player/hikaru',\n",
       "  'username': 'Hikaru',\n",
       "  'uuid': '6f4deb88-7718-11e3-8016-000000000000'},\n",
       " 'eco': 'https://www.chess.com/openings/Sicilian-Defense-French-Variation-3.g3',\n",
       " 'tournament': 'https://api.chess.com/pub/tournament/early-titled-tuesday-blitz-october-01-2024-5099899'}"
      ]
     },
     "execution_count": 11,
     "metadata": {},
     "output_type": "execute_result"
    }
   ],
   "source": [
    "q[2024][10][0]"
   ]
  },
  {
   "cell_type": "code",
   "execution_count": null,
   "id": "73ba67e6-aaf9-4748-8bf4-3145b35e53dc",
   "metadata": {},
   "outputs": [],
   "source": []
  },
  {
   "cell_type": "code",
   "execution_count": null,
   "id": "81c2614d-4c8a-44a6-88de-0a27764e6989",
   "metadata": {},
   "outputs": [],
   "source": []
  },
  {
   "cell_type": "code",
   "execution_count": 18,
   "id": "43038760-8c47-4803-903a-0b8103f879a2",
   "metadata": {},
   "outputs": [],
   "source": [
    "def ask_twice(player_name: str, year: int, month: int):\n",
    "    DOWNLOAD_MONTH = (\n",
    "        chess_com_endpoints.DOWNLOAD_MONTH\n",
    "        .replace(\"{player}\", player_name)\n",
    "        .replace(\"{year}\", str(year))\n",
    "        .replace(\"{month}\", str(month))\n",
    "    )\n",
    "    games = requests.get(DOWNLOAD_MONTH,\n",
    "                         allow_redirects=True,\n",
    "                         timeout=3,\n",
    "                         headers = {\"User-Agent\": USER_AGENT})\n",
    "    if len(games.content) == 0:\n",
    "        time.sleep(1)\n",
    "        games = requests.get(DOWNLOAD_MONTH,\n",
    "                             allow_redirects=True,\n",
    "                             timeout=10,\n",
    "                             headers = {\"User-Agent\": USER_AGENT})\n",
    "    if len(games.content) == 0:\n",
    "        return False\n",
    "    return games"
   ]
  },
  {
   "cell_type": "code",
   "execution_count": 36,
   "id": "bbedd1ee-2de9-4dbb-9531-e5840ec043da",
   "metadata": {},
   "outputs": [],
   "source": [
    "raw = ask_twice(player_name = \"hikaru\",\n",
    "              year= 2024, month =  11)"
   ]
  },
  {
   "cell_type": "code",
   "execution_count": 69,
   "id": "a2083110-b921-4fb4-adf4-a6297fba4cbc",
   "metadata": {},
   "outputs": [],
   "source": [
    "e = io.StringIO(raw.content.decode().replace(\"'\", '\"'))"
   ]
  },
  {
   "cell_type": "code",
   "execution_count": 70,
   "id": "8c4bd62a-3a79-410a-a45d-7d3ef057ad7b",
   "metadata": {},
   "outputs": [],
   "source": [
    "e = e.getvalue()"
   ]
  },
  {
   "cell_type": "code",
   "execution_count": 71,
   "id": "6253f18d-78ec-45f3-9ebe-e8437de1e18c",
   "metadata": {},
   "outputs": [
    {
     "data": {
      "text/plain": [
       "False"
      ]
     },
     "execution_count": 71,
     "metadata": {},
     "output_type": "execute_result"
    }
   ],
   "source": [
    "\"\\n\\n\\n\" in e"
   ]
  },
  {
   "cell_type": "code",
   "execution_count": 63,
   "id": "8c4aa58f-1bf1-4544-a0c8-b28dd47154d1",
   "metadata": {},
   "outputs": [],
   "source": [
    "e = json.loads(e)"
   ]
  },
  {
   "cell_type": "code",
   "execution_count": 64,
   "id": "cf42f724-bfb8-42d0-a639-9add9c811955",
   "metadata": {},
   "outputs": [
    {
     "data": {
      "text/plain": [
       "dict_keys(['games'])"
      ]
     },
     "execution_count": 64,
     "metadata": {},
     "output_type": "execute_result"
    }
   ],
   "source": [
    "e.keys()"
   ]
  },
  {
   "cell_type": "code",
   "execution_count": 67,
   "id": "03601c2c-9947-442b-a107-e0fd5d57bb12",
   "metadata": {},
   "outputs": [
    {
     "data": {
      "text/plain": [
       "876"
      ]
     },
     "execution_count": 67,
     "metadata": {},
     "output_type": "execute_result"
    }
   ],
   "source": [
    "len(e['games'])"
   ]
  },
  {
   "cell_type": "code",
   "execution_count": null,
   "id": "617e06f4-f2a2-4c96-b95f-ae87f72ca1cf",
   "metadata": {},
   "outputs": [],
   "source": [
    "e['games'][0]"
   ]
  },
  {
   "cell_type": "code",
   "execution_count": null,
   "id": "aabe89d4-7c86-4d9d-8901-23c5364c9330",
   "metadata": {},
   "outputs": [],
   "source": []
  },
  {
   "cell_type": "code",
   "execution_count": null,
   "id": "a4d48d2b-3759-4b8b-a355-dbe08380563d",
   "metadata": {},
   "outputs": [],
   "source": []
  },
  {
   "cell_type": "code",
   "execution_count": null,
   "id": "6ed25c79-2263-437d-982f-3d12f698cc1f",
   "metadata": {},
   "outputs": [],
   "source": []
  },
  {
   "cell_type": "code",
   "execution_count": null,
   "id": "d4b413e2-fe6a-4ee7-97c8-8c6505a1b664",
   "metadata": {},
   "outputs": [],
   "source": [
    "e.split()"
   ]
  },
  {
   "cell_type": "code",
   "execution_count": null,
   "id": "83c0c821-2ed7-4713-8057-8f3f96a057c6",
   "metadata": {},
   "outputs": [],
   "source": []
  },
  {
   "cell_type": "code",
   "execution_count": 59,
   "id": "51a97864-cac8-4a9e-b2c2-1cfb8edf63fc",
   "metadata": {},
   "outputs": [
    {
     "name": "stderr",
     "output_type": "stream",
     "text": [
      "IOPub data rate exceeded.\n",
      "The Jupyter server will temporarily stop sending output\n",
      "to the client in order to avoid crashing it.\n",
      "To change this limit, set the config variable\n",
      "`--ServerApp.iopub_data_rate_limit`.\n",
      "\n",
      "Current values:\n",
      "ServerApp.iopub_data_rate_limit=1000000.0 (bytes/sec)\n",
      "ServerApp.rate_limit_window=3.0 (secs)\n",
      "\n"
     ]
    }
   ],
   "source": [
    "#json_string = e.decode('utf-8')\n",
    "\n",
    "# 2. Parse the JSON string into a Python dictionary\n",
    "player_profile_dict = json.loads(e)\n",
    "\n",
    "# Now, player_profile_dict is a normal Python dictionary\n",
    "print(player_profile_dict)\n",
    "print(type(player_profile_dict))\n",
    "#print(player_profile_dict['name']) # You can a"
   ]
  },
  {
   "cell_type": "code",
   "execution_count": null,
   "id": "5830d0c1-da23-40f8-a1e8-6e5de0114387",
   "metadata": {},
   "outputs": [],
   "source": []
  },
  {
   "cell_type": "code",
   "execution_count": null,
   "id": "0fa5824d-27c6-41df-b809-b466411e0b1a",
   "metadata": {},
   "outputs": [],
   "source": []
  },
  {
   "cell_type": "code",
   "execution_count": null,
   "id": "c883f309-11a8-4289-879a-d9dbd3cc2a5b",
   "metadata": {},
   "outputs": [],
   "source": []
  },
  {
   "cell_type": "code",
   "execution_count": null,
   "id": "2addb914-2ccd-4bf0-8f00-e41c17e4bfdb",
   "metadata": {},
   "outputs": [],
   "source": []
  },
  {
   "cell_type": "code",
   "execution_count": null,
   "id": "d7164ff8-1f19-481a-bf7f-72a936af55a8",
   "metadata": {},
   "outputs": [],
   "source": []
  },
  {
   "cell_type": "code",
   "execution_count": null,
   "id": "00424850-b6f7-425d-8714-0da5b1f34974",
   "metadata": {},
   "outputs": [],
   "source": []
  },
  {
   "cell_type": "code",
   "execution_count": null,
   "id": "359cd8b6-7e27-403b-b232-f2c3e60d1a2a",
   "metadata": {},
   "outputs": [],
   "source": [
    "content = sio.getvalue()\n",
    "print(\"Using getvalue():\")\n",
    "print(content)\n",
    "\n",
    "# You can also read it like a file stream\n",
    "sio_stream = io.StringIO(\"Another way to read.\\nLine by line.\")\n",
    "\n",
    "print(\"\\nUsing read() and readline():\")\n",
    "print(sio_stream.readline(), end='') # Reads the first line\n",
    "print(sio_stream.read()) # Reads the rest\n",
    "\n",
    "# If you want to read all lines into a list\n",
    "sio_lines = io.StringIO(\"Line A\\nLine B\\nLine C\")\n",
    "all_lines = sio_lines.readlines()\n",
    "print(\"\\nUsing readlines():\")\n",
    "print(all_lines)"
   ]
  },
  {
   "cell_type": "code",
   "execution_count": null,
   "id": "8efa9e9d-c3eb-44e8-8981-6e97229e7600",
   "metadata": {},
   "outputs": [],
   "source": []
  },
  {
   "cell_type": "code",
   "execution_count": null,
   "id": "013f6ec7-3bf3-46e3-a9d5-7e92d37c821e",
   "metadata": {},
   "outputs": [],
   "source": []
  },
  {
   "cell_type": "code",
   "execution_count": null,
   "id": "8ee2ea00-20a6-49e5-af3c-1516820172ee",
   "metadata": {},
   "outputs": [],
   "source": []
  },
  {
   "cell_type": "code",
   "execution_count": null,
   "id": "787bc60f-95c4-404d-989d-a4d276b91cce",
   "metadata": {},
   "outputs": [],
   "source": []
  },
  {
   "cell_type": "code",
   "execution_count": null,
   "id": "a60102f5-41f6-426b-9ffa-0fa77026ad15",
   "metadata": {},
   "outputs": [],
   "source": []
  },
  {
   "cell_type": "code",
   "execution_count": null,
   "id": "80fe7a56-dc29-49f0-bea9-e498dac656f3",
   "metadata": {},
   "outputs": [],
   "source": []
  },
  {
   "cell_type": "code",
   "execution_count": null,
   "id": "cc565863-8c4a-40da-9a74-3598d5a2959b",
   "metadata": {},
   "outputs": [],
   "source": []
  },
  {
   "cell_type": "code",
   "execution_count": null,
   "id": "45788bc9-f050-4f93-a3cd-f998032f4d85",
   "metadata": {},
   "outputs": [],
   "source": []
  },
  {
   "cell_type": "code",
   "execution_count": null,
   "id": "b4f3a00d-2921-40a1-8756-478444c860b9",
   "metadata": {},
   "outputs": [],
   "source": []
  },
  {
   "cell_type": "code",
   "execution_count": null,
   "id": "31e5136a-0885-4c53-b1d7-1963c2dd4849",
   "metadata": {},
   "outputs": [],
   "source": [
    "def download_month(player_name: str, year: int, month: int) -> str:\n",
    "    \"\"\"It ask for a month of games of a particular player\n",
    "    the games package is a pgn_txt.\n",
    "    Returns:\n",
    "        io.str\n",
    "    \"\"\"\n",
    "    print(year, month)\n",
    "    games = ask_twice(player_name, year, month)\n",
    "    if games == False:\n",
    "        return False\n",
    "    pgn = io.StringIO(games.content.decode().replace(\"'\", '\"'))\n",
    "    return pgn"
   ]
  },
  {
   "cell_type": "code",
   "execution_count": null,
   "id": "c5cb63d4-d08f-47c2-bf3e-16e36c3637ff",
   "metadata": {},
   "outputs": [],
   "source": []
  },
  {
   "cell_type": "code",
   "execution_count": null,
   "id": "9860e60a-6729-4f88-83fa-0b8cb10f2aca",
   "metadata": {},
   "outputs": [],
   "source": []
  },
  {
   "cell_type": "code",
   "execution_count": null,
   "id": "8ee57da1-8220-40c2-b9a3-4f47d08d5964",
   "metadata": {},
   "outputs": [],
   "source": []
  },
  {
   "cell_type": "code",
   "execution_count": null,
   "id": "d12e9f99-ff5a-4f08-a626-792c75ace12f",
   "metadata": {},
   "outputs": [],
   "source": []
  },
  {
   "cell_type": "code",
   "execution_count": null,
   "id": "88feac34-4467-4b6b-b98e-7b3ad085cee2",
   "metadata": {},
   "outputs": [],
   "source": []
  },
  {
   "cell_type": "code",
   "execution_count": null,
   "id": "b73a3d84-b3d4-4e13-be48-cf2704a5bc17",
   "metadata": {},
   "outputs": [],
   "source": []
  },
  {
   "cell_type": "code",
   "execution_count": null,
   "id": "9184995a-8713-47eb-885f-3f5b0ebbcf8e",
   "metadata": {},
   "outputs": [],
   "source": []
  },
  {
   "cell_type": "code",
   "execution_count": null,
   "id": "9df676ec-09c8-4ebc-93cb-f6ec3cdf6646",
   "metadata": {},
   "outputs": [],
   "source": [
    "create_games({\"player_name\":\"hikaru\", \"dates\":\"full\"})"
   ]
  },
  {
   "cell_type": "code",
   "execution_count": null,
   "id": "b353d20c-e781-4047-a240-1796aeb70bb8",
   "metadata": {},
   "outputs": [],
   "source": [
    "open_request(\"select * from months\")"
   ]
  },
  {
   "cell_type": "code",
   "execution_count": 21,
   "id": "ba108590-5475-4948-bd59-32c4bb13b90b",
   "metadata": {},
   "outputs": [],
   "source": [
    "conn = get_ask_connection()\n",
    "conn.autocommit = True"
   ]
  },
  {
   "cell_type": "code",
   "execution_count": 22,
   "id": "350dee87-11f5-4635-ab6c-cde506e9bcbc",
   "metadata": {},
   "outputs": [],
   "source": [
    "with conn.cursor() as curs:\n",
    "    curs.execute(\n",
    "        f\"SELECT table_name FROM information_schema.tables WHERE table_schema='public'\"\n",
    "    )\n",
    "    result = curs.fetchall()"
   ]
  },
  {
   "cell_type": "code",
   "execution_count": 23,
   "id": "89ee59f7-23ce-4ad6-b0c6-cbb76f9bbc6b",
   "metadata": {},
   "outputs": [
    {
     "data": {
      "text/plain": [
       "[]"
      ]
     },
     "execution_count": 23,
     "metadata": {},
     "output_type": "execute_result"
    }
   ],
   "source": [
    "result"
   ]
  },
  {
   "cell_type": "code",
   "execution_count": 7,
   "id": "b7c77198-c60e-4ef2-98bd-287ddd65be00",
   "metadata": {},
   "outputs": [],
   "source": [
    "def delete_all_tables():\n",
    "    conn = get_ask_connection()\n",
    "    conn.autocommit = True\n",
    "    with conn.cursor() as curs:\n",
    "        curs.execute(\n",
    "            \"\"\"\n",
    "            SELECT table_name\n",
    "            FROM information_schema.tables\n",
    "            WHERE table_schema = 'public'\n",
    "            AND table_type = 'BASE TABLE';\n",
    "            \"\"\"\n",
    "        )\n",
    "        tables = curs.fetchall()\n",
    "    if not tables:\n",
    "        print(\"No tables found in 'public' schema to delete.\")\n",
    "        return\n",
    "    for table_row in tables:\n",
    "        conn = get_ask_connection()\n",
    "        conn.autocommit = True\n",
    "        table_name = table_row[0]\n",
    "        print(f\"Deleting table: {table_name}...\")\n",
    "        try:\n",
    "            with conn.cursor() as curs:\n",
    "                curs.execute(f\"DROP TABLE IF EXISTS \\\"{table_name}\\\" CASCADE;\")\n",
    "                print(f\"Successfully deleted table: {table_name}\")\n",
    "        except Exception as e:\n",
    "            print(f\"An unexpected error occurred: {e}\")\n",
    "        finally:\n",
    "            if conn:\n",
    "                conn.close()\n",
    "                print(\"Database connection closed.\")"
   ]
  },
  {
   "cell_type": "code",
   "execution_count": 8,
   "id": "23b57171-dae3-4d74-a647-a2e9b51ef236",
   "metadata": {},
   "outputs": [
    {
     "name": "stdout",
     "output_type": "stream",
     "text": [
      "Deleting table: game...\n",
      "Successfully deleted table: game\n",
      "Database connection closed.\n",
      "Deleting table: months...\n",
      "Successfully deleted table: months\n",
      "Database connection closed.\n",
      "Deleting table: player...\n",
      "Successfully deleted table: player\n",
      "Database connection closed.\n",
      "Deleting table: moves...\n",
      "Successfully deleted table: moves\n",
      "Database connection closed.\n"
     ]
    }
   ],
   "source": [
    "delete_all_tables()"
   ]
  },
  {
   "cell_type": "code",
   "execution_count": null,
   "id": "c90768f0-4c10-4e02-858f-4af22f15ea24",
   "metadata": {},
   "outputs": [],
   "source": []
  },
  {
   "cell_type": "code",
   "execution_count": 9,
   "id": "579859d2-9c10-47e3-958b-7896cd8e2621",
   "metadata": {},
   "outputs": [
    {
     "name": "stdout",
     "output_type": "stream",
     "text": [
      "[]\n"
     ]
    }
   ],
   "source": [
    "conn = get_ask_connection()\n",
    "conn.autocommit = True\n",
    "with conn.cursor() as curs:\n",
    "    curs.execute(\n",
    "        \"\"\"\n",
    "        SELECT table_name\n",
    "        FROM information_schema.tables\n",
    "        WHERE table_schema = 'public'\n",
    "        AND table_type = 'BASE TABLE';\n",
    "        \"\"\"\n",
    "    )\n",
    "    tables = curs.fetchall()\n",
    "print(tables)"
   ]
  },
  {
   "cell_type": "code",
   "execution_count": null,
   "id": "b7ba040f-0840-4ea5-8044-dc4a17d29237",
   "metadata": {},
   "outputs": [],
   "source": [
    " where player_name=\"takate20\""
   ]
  },
  {
   "cell_type": "code",
   "execution_count": null,
   "id": "7e41cd32-2ec5-41d4-b2ca-371dac64ca36",
   "metadata": {},
   "outputs": [],
   "source": [
    " where player_name='takate20'"
   ]
  },
  {
   "cell_type": "code",
   "execution_count": 12,
   "id": "6cca67ed-f584-46f6-a684-877455c5e85c",
   "metadata": {},
   "outputs": [
    {
     "ename": "UndefinedTable",
     "evalue": "relation \"player\" does not exist\nLINE 1: select * from player\n                      ^\n",
     "output_type": "error",
     "traceback": [
      "\u001b[31m---------------------------------------------------------------------------\u001b[39m",
      "\u001b[31mUndefinedTable\u001b[39m                            Traceback (most recent call last)",
      "\u001b[36mCell\u001b[39m\u001b[36m \u001b[39m\u001b[32mIn[12]\u001b[39m\u001b[32m, line 1\u001b[39m\n\u001b[32m----> \u001b[39m\u001b[32m1\u001b[39m open_request(\u001b[33m\"\u001b[39m\u001b[33mselect * from player\u001b[39m\u001b[33m\"\u001b[39m)\n",
      "\u001b[36mFile \u001b[39m\u001b[32m~/workshop/chessism/real_chessism/database/database/ask_db.py:26\u001b[39m, in \u001b[36mopen_request\u001b[39m\u001b[34m(sql_question)\u001b[39m\n\u001b[32m     24\u001b[39m conn = get_ask_connection()\n\u001b[32m     25\u001b[39m \u001b[38;5;28;01mwith\u001b[39;00m conn.cursor() \u001b[38;5;28;01mas\u001b[39;00m curs:\n\u001b[32m---> \u001b[39m\u001b[32m26\u001b[39m     curs.execute(\n\u001b[32m     27\u001b[39m         sql_question\n\u001b[32m     28\u001b[39m     )\n\u001b[32m     29\u001b[39m     result = curs.fetchall()\n\u001b[32m     30\u001b[39m \u001b[38;5;28;01mreturn\u001b[39;00m result\n",
      "\u001b[31mUndefinedTable\u001b[39m: relation \"player\" does not exist\nLINE 1: select * from player\n                      ^\n"
     ]
    }
   ],
   "source": [
    "open_request(\"select * from player\")"
   ]
  },
  {
   "cell_type": "code",
   "execution_count": null,
   "id": "1b15598f-480f-4f05-8fd4-3e88df03d081",
   "metadata": {},
   "outputs": [],
   "source": []
  }
 ],
 "metadata": {
  "kernelspec": {
   "display_name": "chessism",
   "language": "python",
   "name": "chessism"
  },
  "language_info": {
   "codemirror_mode": {
    "name": "ipython",
    "version": 3
   },
   "file_extension": ".py",
   "mimetype": "text/x-python",
   "name": "python",
   "nbconvert_exporter": "python",
   "pygments_lexer": "ipython3",
   "version": "3.13.5"
  }
 },
 "nbformat": 4,
 "nbformat_minor": 5
}
