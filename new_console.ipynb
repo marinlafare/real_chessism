{
 "cells": [
  {
   "cell_type": "code",
   "execution_count": 6,
   "id": "170a08a1-d403-4611-9c29-fc7426d85da2",
   "metadata": {},
   "outputs": [],
   "source": [
    "import os\n",
    "from dotenv import load_dotenv\n",
    "import json\n",
    "import requests\n",
    "import re\n",
    "from datetime import datetime\n",
    "import io\n",
    "from constants import *\n",
    "from database.operations.models import PlayerCreateData, GameCreateData, MoveCreateData,MonthCreateData\n",
    "from database.database.ask_db import open_request,get_ask_connection,delete_all_tables,get_games_already_in_db\n",
    "from database.operations.players import insert_player, read_player\n",
    "from database.operations.games import create_games\n",
    "from database.operations.format_dates import create_range\n",
    "import database.operations.chess_com_endpoints as chess_com_endpoints\n",
    "from database.operations.chess_com_api import download_months, download_month\n",
    "from database.operations.format_games import format_and_insert_games\n",
    "from database.operations.players import insert_player\n",
    "from database.operations.chess_com_api import get_profile"
   ]
  },
  {
   "cell_type": "code",
   "execution_count": 6,
   "id": "b92456f3-1e88-4ec8-be0d-ec31474f4b04",
   "metadata": {},
   "outputs": [],
   "source": [
    "from database.database.db_interface import DBInterface\n",
    "from database.database.models import Player, Game, Month, Move"
   ]
  },
  {
   "cell_type": "code",
   "execution_count": 7,
   "id": "f30741f9-77fa-49bc-a12d-bbc1d3324f15",
   "metadata": {},
   "outputs": [],
   "source": [
    "player_interface = DBInterface(Player)\n",
    "game_interface = DBInterface(Game)\n",
    "month_interface = DBInterface(Month)\n",
    "move_interface = DBInterface(Move)"
   ]
  },
  {
   "cell_type": "code",
   "execution_count": 4,
   "id": "ef04063e-73ae-4613-b1ed-9617a5c37a19",
   "metadata": {},
   "outputs": [
    {
     "data": {
      "text/plain": [
       "dict_keys(['link', 'year', 'month', 'day', 'hour', 'minute', 'second', 'white', 'black', 'white_elo', 'black_elo', 'white_result', 'black_result', 'white_str_result', 'black_str_result', 'time_control', 'eco', 'time_elapsed', 'n_moves'])"
      ]
     },
     "execution_count": 4,
     "metadata": {},
     "output_type": "execute_result"
    }
   ],
   "source": [
    "GameCreateData.__annotations__.keys()"
   ]
  },
  {
   "cell_type": "code",
   "execution_count": null,
   "id": "4915d6f5-498b-4c05-90b6-607010e4c723",
   "metadata": {},
   "outputs": [],
   "source": []
  },
  {
   "cell_type": "code",
   "execution_count": 1,
   "id": "99b8c40c-0758-468d-bbe1-0d541165fcd6",
   "metadata": {},
   "outputs": [],
   "source": [
    "from database.operations.chess_com_api import download_months \n",
    "\n",
    "from database.operations.format_games import format_and_insert_games,get_just_new_games\n",
    "from database.operations.players import insert_player\n",
    "from database.database.engine import init_db\n",
    "from constants import *\n",
    "from database.database.ask_db import (open_request,\n",
    "                                    get_ask_connection,\n",
    "                                    delete_all_tables,\n",
    "                                    get_players_already_in_db)\n",
    "\n",
    "init_db(CONN_STRING)"
   ]
  },
  {
   "cell_type": "code",
   "execution_count": 2,
   "id": "03494c43-007f-44aa-bdc3-3a5979d0edc0",
   "metadata": {},
   "outputs": [
    {
     "data": {
      "text/plain": [
       "'PLAYER ALREADY EXISTS AT DB'"
      ]
     },
     "execution_count": 2,
     "metadata": {},
     "output_type": "execute_result"
    }
   ],
   "source": [
    "insert_player({\"player_name\":\"Pat_Buchanan\".lower()})"
   ]
  },
  {
   "cell_type": "code",
   "execution_count": 3,
   "id": "0626e3f8-217e-4d27-80de-99e31c9e52da",
   "metadata": {},
   "outputs": [
    {
     "data": {
      "text/plain": [
       "{'hikaru'}"
      ]
     },
     "execution_count": 3,
     "metadata": {},
     "output_type": "execute_result"
    }
   ],
   "source": [
    "get_players_already_in_db(('hikaru','magnus'))"
   ]
  },
  {
   "cell_type": "code",
   "execution_count": 7,
   "id": "f14985a6-3c0a-4548-b91e-0dc71f298fca",
   "metadata": {},
   "outputs": [
    {
     "data": {
      "text/plain": [
       "True"
      ]
     },
     "execution_count": 7,
     "metadata": {},
     "output_type": "execute_result"
    }
   ],
   "source": [
    "load_dotenv('this_is_not_an_env.env')"
   ]
  },
  {
   "cell_type": "code",
   "execution_count": 10,
   "id": "07b5bf50-f2da-4127-bb48-f6a9f771d93d",
   "metadata": {},
   "outputs": [],
   "source": [
    "# parallel = download_months(\"mesielepush\", [(2024,10),\n",
    "#                            (2024,11),\n",
    "#                            (2023,10),\n",
    "#                            (2023,11)], parallel=True)\n",
    "# type(parallel)\n",
    "# len(parallel[2024][10])"
   ]
  },
  {
   "cell_type": "code",
   "execution_count": 3,
   "id": "16407f1f-985a-47cf-8160-534510818175",
   "metadata": {
    "scrolled": true
   },
   "outputs": [],
   "source": [
    "#pgn = download_month(\"Pat_Buchanan\".lower(), 2022,12)"
   ]
  },
  {
   "cell_type": "code",
   "execution_count": 4,
   "id": "811d29f3-c9be-4d32-867b-6df864c07e57",
   "metadata": {},
   "outputs": [
    {
     "name": "stdout",
     "output_type": "stream",
     "text": [
      "2024 09\n",
      "dict_keys(['games'])\n",
      "2023 09\n",
      "dict_keys(['games'])\n",
      "2022 09\n",
      "dict_keys(['games'])\n"
     ]
    }
   ],
   "source": [
    "player_name = \"Pat_Buchanan\".lower()\n",
    "no_parallel = download_months(player_name, [(2024,'09'),\n",
    "                                           (2023,'09'),\n",
    "                                           (2022,'09')], parallel=False)"
   ]
  },
  {
   "cell_type": "code",
   "execution_count": 4,
   "id": "4cfb7285-18bb-4d5f-817d-896ace1366a6",
   "metadata": {},
   "outputs": [
    {
     "ename": "NameError",
     "evalue": "name 'no_parallel' is not defined",
     "output_type": "error",
     "traceback": [
      "\u001b[31m---------------------------------------------------------------------------\u001b[39m",
      "\u001b[31mNameError\u001b[39m                                 Traceback (most recent call last)",
      "\u001b[36mCell\u001b[39m\u001b[36m \u001b[39m\u001b[32mIn[4]\u001b[39m\u001b[32m, line 1\u001b[39m\n\u001b[32m----> \u001b[39m\u001b[32m1\u001b[39m \u001b[38;5;28mtype\u001b[39m(no_parallel)\n",
      "\u001b[31mNameError\u001b[39m: name 'no_parallel' is not defined"
     ]
    }
   ],
   "source": [
    "type(no_parallel)"
   ]
  },
  {
   "cell_type": "code",
   "execution_count": 4,
   "id": "edf9eba4-dd06-4024-84da-997526678df3",
   "metadata": {},
   "outputs": [
    {
     "data": {
      "text/plain": [
       "0"
      ]
     },
     "execution_count": 4,
     "metadata": {},
     "output_type": "execute_result"
    }
   ],
   "source": [
    "len(no_parallel[2024][12])"
   ]
  },
  {
   "cell_type": "code",
   "execution_count": 8,
   "id": "9583a5cd-9e39-4455-bd8f-797655e34842",
   "metadata": {},
   "outputs": [
    {
     "data": {
      "text/plain": [
       "dict_keys([2024, 2017, 2023])"
      ]
     },
     "execution_count": 8,
     "metadata": {},
     "output_type": "execute_result"
    }
   ],
   "source": [
    "no_parallel.keys()"
   ]
  },
  {
   "cell_type": "code",
   "execution_count": 15,
   "id": "d07b2f36-8872-4c0a-82a7-d3b815304443",
   "metadata": {},
   "outputs": [
    {
     "data": {
      "text/plain": [
       "{2344607562, 2344641993, 126821380481}"
      ]
     },
     "execution_count": 15,
     "metadata": {},
     "output_type": "execute_result"
    }
   ],
   "source": [
    "get_games_already_in_db(tuple(['126821380481','2344607562', 2344641993,2344560420]))"
   ]
  },
  {
   "cell_type": "code",
   "execution_count": null,
   "id": "7d49e59a-2b12-494f-94d8-32dbe6a08b53",
   "metadata": {},
   "outputs": [],
   "source": []
  },
  {
   "cell_type": "code",
   "execution_count": 4,
   "id": "f8bad60b-c887-4c3d-a3bf-84ddcbfdee3f",
   "metadata": {},
   "outputs": [
    {
     "data": {
      "text/plain": [
       "[]"
      ]
     },
     "execution_count": 4,
     "metadata": {},
     "output_type": "execute_result"
    }
   ],
   "source": [
    "open_request(\"select * from months\")"
   ]
  },
  {
   "cell_type": "code",
   "execution_count": 5,
   "id": "19bacd09-520f-49a2-a3f0-6afba6a80753",
   "metadata": {},
   "outputs": [
    {
     "name": "stdout",
     "output_type": "stream",
     "text": [
      "one\n",
      "two\n",
      "tree\n",
      "300\n",
      "600\n",
      "900\n",
      "1200\n",
      "1500\n",
      "1800\n",
      "2100\n",
      "#####################\n",
      "#####################\n",
      "1820\n",
      "#####################\n",
      "#####################\n"
     ]
    },
    {
     "data": {
      "text/plain": [
       "'DONEEEEEEEEEEEEEEEEEEEEEEEEEEE'"
      ]
     },
     "execution_count": 5,
     "metadata": {},
     "output_type": "execute_result"
    }
   ],
   "source": [
    "format_and_insert_games(no_parallel,player_name)"
   ]
  },
  {
   "cell_type": "code",
   "execution_count": 45,
   "id": "3927a475-361a-49b8-a716-bb53fbdfe4bd",
   "metadata": {},
   "outputs": [
    {
     "data": {
      "text/plain": [
       "{'link': 121535498687,\n",
       " 'n_move': 3,\n",
       " 'white_move': 'exd5',\n",
       " 'black_move': 'cxd5',\n",
       " 'white_reaction_time': 1.0,\n",
       " 'black_reaction_time': 0.9,\n",
       " 'white_time_left': 181.0,\n",
       " 'black_time_left': 178.3}"
      ]
     },
     "execution_count": 45,
     "metadata": {},
     "output_type": "execute_result"
    }
   ],
   "source": [
    "moves_list[121]"
   ]
  },
  {
   "cell_type": "code",
   "execution_count": 46,
   "id": "80194923-3acc-4e49-9dc2-25af1f2f5629",
   "metadata": {},
   "outputs": [
    {
     "data": {
      "text/plain": [
       "[{'player_name': 'hikaru', 'year': 2024, 'month': 10, 'n_games': 344},\n",
       " {'player_name': 'hikaru', 'year': 2024, 'month': 11, 'n_games': 876},\n",
       " {'player_name': 'hikaru', 'year': 2017, 'month': 10, 'n_games': 622},\n",
       " {'player_name': 'hikaru', 'year': 2023, 'month': 10, 'n_games': 250}]"
      ]
     },
     "execution_count": 46,
     "metadata": {},
     "output_type": "execute_result"
    }
   ],
   "source": [
    "months_list"
   ]
  },
  {
   "cell_type": "code",
   "execution_count": null,
   "id": "a461dc07-995d-47f3-ba53-abb5283b2a5a",
   "metadata": {},
   "outputs": [],
   "source": []
  },
  {
   "cell_type": "code",
   "execution_count": null,
   "id": "844c02c1-2d94-46da-918d-7e68170de82e",
   "metadata": {},
   "outputs": [],
   "source": []
  },
  {
   "cell_type": "code",
   "execution_count": null,
   "id": "ccddfacf-21d3-4197-8782-e042df60d78d",
   "metadata": {},
   "outputs": [],
   "source": []
  },
  {
   "cell_type": "code",
   "execution_count": 29,
   "id": "c56784d7-16e8-4e81-a4ef-62f07130aa1c",
   "metadata": {},
   "outputs": [],
   "source": [
    "import math"
   ]
  },
  {
   "cell_type": "code",
   "execution_count": 12,
   "id": "b0d988bd-9504-4617-b8d8-2a7fd9ac65a1",
   "metadata": {},
   "outputs": [],
   "source": [
    "one_game_moves = [x for x in moves_list if x['link'] == 121533668057]"
   ]
  },
  {
   "cell_type": "code",
   "execution_count": 32,
   "id": "c933c443-6001-44a8-b1d1-b46a67c6ae65",
   "metadata": {},
   "outputs": [],
   "source": [
    "white_total = sum([x['white_reaction_time'] for x in one_game_moves if not math.isnan(x['white_reaction_time'])])"
   ]
  },
  {
   "cell_type": "code",
   "execution_count": 34,
   "id": "39470672-5289-4585-954f-25acfda92a2d",
   "metadata": {},
   "outputs": [],
   "source": [
    "black_total = sum([x['black_reaction_time'] for x in one_game_moves if not math.isnan(x['black_reaction_time'])])"
   ]
  },
  {
   "cell_type": "code",
   "execution_count": 37,
   "id": "c922ea51-e38d-48c2-9da1-805ac8c3e50d",
   "metadata": {},
   "outputs": [
    {
     "data": {
      "text/plain": [
       "91.7"
      ]
     },
     "execution_count": 37,
     "metadata": {},
     "output_type": "execute_result"
    }
   ],
   "source": [
    "black_total"
   ]
  },
  {
   "cell_type": "code",
   "execution_count": 38,
   "id": "00779140-4628-424f-9293-2708c170410a",
   "metadata": {},
   "outputs": [
    {
     "data": {
      "text/plain": [
       "160.7"
      ]
     },
     "execution_count": 38,
     "metadata": {},
     "output_type": "execute_result"
    }
   ],
   "source": [
    "white_total"
   ]
  },
  {
   "cell_type": "code",
   "execution_count": null,
   "id": "a5dcfa1a-efd4-4ce5-a894-3d1148ac7eb4",
   "metadata": {},
   "outputs": [],
   "source": []
  },
  {
   "cell_type": "code",
   "execution_count": null,
   "id": "a03aa1e1-efd6-4c33-899b-3f407200aeea",
   "metadata": {},
   "outputs": [],
   "source": []
  },
  {
   "cell_type": "code",
   "execution_count": 16,
   "id": "3882a4a7-f898-463f-bfc1-26e36c3ac9e1",
   "metadata": {},
   "outputs": [
    {
     "data": {
      "text/plain": [
       "1.1"
      ]
     },
     "execution_count": 16,
     "metadata": {},
     "output_type": "execute_result"
    }
   ],
   "source": [
    "one_game_moves[0]['white_reaction_time']"
   ]
  },
  {
   "cell_type": "code",
   "execution_count": 27,
   "id": "3757eb9b-3c5b-4bc3-81f8-c75c8fc05671",
   "metadata": {},
   "outputs": [
    {
     "data": {
      "text/plain": [
       "nan"
      ]
     },
     "execution_count": 27,
     "metadata": {},
     "output_type": "execute_result"
    }
   ],
   "source": [
    "one_game_moves[-1]['white_reaction_time']"
   ]
  },
  {
   "cell_type": "code",
   "execution_count": 26,
   "id": "53929d3d-75e6-465a-aa1b-d987ce2e5b43",
   "metadata": {},
   "outputs": [
    {
     "data": {
      "text/plain": [
       "float"
      ]
     },
     "execution_count": 26,
     "metadata": {},
     "output_type": "execute_result"
    }
   ],
   "source": [
    "type(one_game_moves[-1]['white_reaction_time'])"
   ]
  },
  {
   "cell_type": "code",
   "execution_count": null,
   "id": "3ef9c742-a673-48fe-ac71-e8b303be1317",
   "metadata": {},
   "outputs": [],
   "source": []
  },
  {
   "cell_type": "code",
   "execution_count": null,
   "id": "28a18b59-88be-4d1d-8e14-661eb2370d81",
   "metadata": {},
   "outputs": [],
   "source": []
  },
  {
   "cell_type": "code",
   "execution_count": 24,
   "id": "2802dac9-7f9d-4b91-a974-2b20d28edbc0",
   "metadata": {},
   "outputs": [],
   "source": [
    "import numpy as np"
   ]
  },
  {
   "cell_type": "code",
   "execution_count": null,
   "id": "22f0adde-3629-431e-901d-f63d9d8a5fbc",
   "metadata": {},
   "outputs": [],
   "source": []
  },
  {
   "cell_type": "code",
   "execution_count": null,
   "id": "882aac7e-1399-44fb-abb7-8062bc90be90",
   "metadata": {},
   "outputs": [],
   "source": [
    "[x['white_reaction_time'] for x in one_game_moves]"
   ]
  },
  {
   "cell_type": "code",
   "execution_count": null,
   "id": "7206b167-5ee6-4d26-9ac8-969f713d4fae",
   "metadata": {},
   "outputs": [],
   "source": []
  },
  {
   "cell_type": "code",
   "execution_count": null,
   "id": "22b38775-04aa-4b55-9686-8a5e799cbfb2",
   "metadata": {},
   "outputs": [],
   "source": []
  },
  {
   "cell_type": "code",
   "execution_count": null,
   "id": "5ad21cd6-68a8-43a1-ba82-a343a44075c5",
   "metadata": {},
   "outputs": [],
   "source": []
  },
  {
   "cell_type": "code",
   "execution_count": 8,
   "id": "a4ee19c6-a77e-42ca-8023-7da996c01146",
   "metadata": {},
   "outputs": [
    {
     "data": {
      "text/plain": [
       "True"
      ]
     },
     "execution_count": 8,
     "metadata": {},
     "output_type": "execute_result"
    }
   ],
   "source": [
    "game_interface.create_all(games_list)"
   ]
  },
  {
   "cell_type": "code",
   "execution_count": null,
   "id": "7d565e4b-f881-485e-9401-9b83544deca1",
   "metadata": {},
   "outputs": [],
   "source": []
  },
  {
   "cell_type": "code",
   "execution_count": null,
   "id": "bbc7317e-63d5-4f3d-9faa-17bf82fa7397",
   "metadata": {},
   "outputs": [],
   "source": [
    "game_interface.create(games_list[0])"
   ]
  },
  {
   "cell_type": "code",
   "execution_count": null,
   "id": "081e47ab-ac9d-46a2-a237-d54ac6d40d8e",
   "metadata": {},
   "outputs": [],
   "source": []
  },
  {
   "cell_type": "code",
   "execution_count": 8,
   "id": "e3d42c2d-a71f-4ed4-8f0c-02cfc120e152",
   "metadata": {},
   "outputs": [],
   "source": [
    "links = [x['link'] for x in games_list]"
   ]
  },
  {
   "cell_type": "code",
   "execution_count": 9,
   "id": "07134edb-bc9c-4047-be26-901b83d58de0",
   "metadata": {},
   "outputs": [
    {
     "data": {
      "text/plain": [
       "1763967068"
      ]
     },
     "execution_count": 9,
     "metadata": {},
     "output_type": "execute_result"
    }
   ],
   "source": [
    "links[0]"
   ]
  },
  {
   "cell_type": "code",
   "execution_count": null,
   "id": "e696360b-2927-49b5-bfd1-fc40bf5bb5fe",
   "metadata": {},
   "outputs": [],
   "source": []
  },
  {
   "cell_type": "code",
   "execution_count": 9,
   "id": "9d7915fe-2ad9-4580-83e5-bb6d49c2bed4",
   "metadata": {},
   "outputs": [
    {
     "data": {
      "text/plain": [
       "dict_keys(['player_name', 'year', 'month', 'n_games'])"
      ]
     },
     "execution_count": 9,
     "metadata": {},
     "output_type": "execute_result"
    }
   ],
   "source": [
    "MonthCreateData.__annotations__.keys()"
   ]
  },
  {
   "cell_type": "code",
   "execution_count": 11,
   "id": "e88c7c98-420a-4779-8454-b95865939ad9",
   "metadata": {},
   "outputs": [
    {
     "data": {
      "text/plain": [
       "dict_keys(['link', 'white_moves', 'white_reaction_times', 'white_time_left', 'black_moves', 'black_reaction_times', 'black_time_left'])"
      ]
     },
     "execution_count": 11,
     "metadata": {},
     "output_type": "execute_result"
    }
   ],
   "source": [
    "moves_list[0].keys()"
   ]
  },
  {
   "cell_type": "code",
   "execution_count": null,
   "id": "7d872705-0464-4387-8e94-e4f4eec9349d",
   "metadata": {},
   "outputs": [],
   "source": []
  },
  {
   "cell_type": "code",
   "execution_count": 17,
   "id": "ebd17379-2edb-43d3-96ff-9aa1e2c625f5",
   "metadata": {},
   "outputs": [
    {
     "data": {
      "text/plain": [
       "1763967068"
      ]
     },
     "execution_count": 17,
     "metadata": {},
     "output_type": "execute_result"
    }
   ],
   "source": [
    "int(games_list[0]['link'].split('/')[-1])"
   ]
  },
  {
   "cell_type": "code",
   "execution_count": 7,
   "id": "8386c6cc-bd4c-42d1-a216-bb0a7491acbb",
   "metadata": {},
   "outputs": [
    {
     "data": {
      "text/plain": [
       "dict_keys(['link', 'n_move', 'white_move', 'black_move', 'white_reaction_time', 'black_reaction_time', 'white_time_left', 'black_time_left'])"
      ]
     },
     "execution_count": 7,
     "metadata": {},
     "output_type": "execute_result"
    }
   ],
   "source": [
    "MoveCreateData.__annotations__.keys()"
   ]
  },
  {
   "cell_type": "code",
   "execution_count": 13,
   "id": "ba75c285-f77f-4149-9beb-491c4714cebd",
   "metadata": {},
   "outputs": [],
   "source": [
    "one_game_moves = moves_list[0]"
   ]
  },
  {
   "cell_type": "code",
   "execution_count": 14,
   "id": "1f2f75e6-28fa-4bf7-9739-52b34d539f98",
   "metadata": {},
   "outputs": [],
   "source": [
    "to_insert_moves = []"
   ]
  },
  {
   "cell_type": "code",
   "execution_count": 15,
   "id": "9ae8df7a-ce43-4b1d-9ab2-19e4d4e41609",
   "metadata": {},
   "outputs": [],
   "source": [
    "for ind, white_move in enumerate(one_game_moves['white_moves']):\n",
    "    data_dict = {}\n",
    "    data_dict['n_move'] = ind + 1\n",
    "    data_dict['link'] = one_game_moves['link']\n",
    "    data_dict['white_move'] = white_move\n",
    "    data_dict['black_move'] = one_game_moves['white_moves'][ind]\n",
    "    data_dict['white_reaction_time'] = round(one_game_moves['white_reaction_times'][ind],3)\n",
    "    data_dict['black_reaction_time'] = round(one_game_moves['black_reaction_times'][ind],3)\n",
    "    data_dict['white_time_left'] = round(one_game_moves['white_time_left'][ind],3)\n",
    "    data_dict['black_time_left'] = round(one_game_moves['black_time_left'][ind],3)\n",
    "    \n",
    "    MoveCreateData(**data_dict).model_dump()\n",
    "    "
   ]
  },
  {
   "cell_type": "code",
   "execution_count": null,
   "id": "028bc17d-ac4c-447b-bd03-80c11dbf93cd",
   "metadata": {},
   "outputs": [],
   "source": []
  },
  {
   "cell_type": "code",
   "execution_count": null,
   "id": "430fda92-c810-4934-94f1-55add2b2ff81",
   "metadata": {},
   "outputs": [],
   "source": []
  },
  {
   "cell_type": "code",
   "execution_count": null,
   "id": "7c15d59a-25bd-45f3-a725-5ee8e4fba933",
   "metadata": {},
   "outputs": [],
   "source": []
  },
  {
   "cell_type": "code",
   "execution_count": null,
   "id": "073273b9-76bb-4de0-bc63-f13db217c715",
   "metadata": {},
   "outputs": [],
   "source": []
  },
  {
   "cell_type": "code",
   "execution_count": null,
   "id": "e7999cf2-569d-4fa9-af35-57305fa476c2",
   "metadata": {},
   "outputs": [],
   "source": [
    "MonthCreateData(**moves_list[0]).model_dump()"
   ]
  },
  {
   "cell_type": "code",
   "execution_count": null,
   "id": "c0950226-5bed-4a2c-8d58-328bf6c0b61f",
   "metadata": {},
   "outputs": [],
   "source": []
  },
  {
   "cell_type": "code",
   "execution_count": 8,
   "id": "79216e6a-c862-439f-8d62-7c812f0506bc",
   "metadata": {},
   "outputs": [
    {
     "data": {
      "text/plain": [
       "{'link': 'https://www.chess.com/game/live/1763967068',\n",
       " 'time_control': '180',\n",
       " 'year': 2016,\n",
       " 'month': 10,\n",
       " 'day': 11,\n",
       " 'hour': 15,\n",
       " 'minute': 31,\n",
       " 'second': 54,\n",
       " 'end_year': 2016,\n",
       " 'end_month': 10,\n",
       " 'end_day': 11,\n",
       " 'end_hour': 15,\n",
       " 'end_minute': 37,\n",
       " 'end_second': 16,\n",
       " 'time_elapsed': 322,\n",
       " 'black': 'hikaru',\n",
       " 'black_elo': 2907,\n",
       " 'black_str_result': 'repetition',\n",
       " 'black_result': 0.0,\n",
       " 'white': 'pierrebl',\n",
       " 'white_elo': 2497,\n",
       " 'white_str_result': 'repetition',\n",
       " 'white_result': 0.0,\n",
       " 'n_moves': 69,\n",
       " 'eco': 'https://www.chess.com/openings/French-Defense-Tarrasch-Closed-Botvinnik-Variation'}"
      ]
     },
     "execution_count": 8,
     "metadata": {},
     "output_type": "execute_result"
    }
   ],
   "source": [
    "games_list[0]"
   ]
  },
  {
   "cell_type": "code",
   "execution_count": 11,
   "id": "d76653eb-5020-4ef3-9638-b7c8c6b23d46",
   "metadata": {},
   "outputs": [
    {
     "data": {
      "text/plain": [
       "2505"
      ]
     },
     "execution_count": 11,
     "metadata": {},
     "output_type": "execute_result"
    }
   ],
   "source": [
    "len(games_list)"
   ]
  },
  {
   "cell_type": "code",
   "execution_count": 12,
   "id": "40f67cb7-1c6a-4204-a849-a7433a873529",
   "metadata": {},
   "outputs": [
    {
     "name": "stdout",
     "output_type": "stream",
     "text": [
      "{'link': 'https://www.chess.com/game/live/1766900483', 'time_control': '180', 'black': 'hikaru', 'black_elo': 1999, 'black_str_result': 'resigned', 'black_result': -1.0, 'white': 'neoklassik', 'white_elo': 1734, 'white_str_result': 'win', 'white_result': 1.0, 'year': 0, 'month': 0, 'day': 0, 'hour': 0, 'minute': 0, 'second': 0, 'n_moves': 0, 'end_year': 0, 'end_month': 0, 'end_day': 0, 'end_hour': 0, 'end_minute': 0, 'end_second': 0, 'time_elapsed': 0, 'eco': 0}\n",
      "{'link': 'https://www.chess.com/game/live/1766951746', 'time_control': '180', 'black': 'hikaru', 'black_elo': 1999, 'black_str_result': 'resigned', 'black_result': -1.0, 'white': 'erikhozjan', 'white_elo': 2048, 'white_str_result': 'win', 'white_result': 1.0, 'year': 0, 'month': 0, 'day': 0, 'hour': 0, 'minute': 0, 'second': 0, 'n_moves': 0, 'end_year': 0, 'end_month': 0, 'end_day': 0, 'end_hour': 0, 'end_minute': 0, 'end_second': 0, 'time_elapsed': 0, 'eco': 0}\n"
     ]
    }
   ],
   "source": [
    "for game in games_list:\n",
    "    if game['year'] == 0:\n",
    "        print(game)"
   ]
  },
  {
   "cell_type": "code",
   "execution_count": null,
   "id": "d6e66353-ffc9-4c22-858c-9f58a79a4988",
   "metadata": {},
   "outputs": [],
   "source": []
  },
  {
   "cell_type": "code",
   "execution_count": null,
   "id": "bd28e606-6124-4c86-a4bb-af17ecb54d28",
   "metadata": {},
   "outputs": [],
   "source": []
  },
  {
   "cell_type": "code",
   "execution_count": null,
   "id": "0ca1c98c-a9a2-441d-a572-acfb637eff66",
   "metadata": {},
   "outputs": [],
   "source": []
  },
  {
   "cell_type": "code",
   "execution_count": null,
   "id": "7848a5ae-78ce-440e-9c9c-2f7add77c3a8",
   "metadata": {},
   "outputs": [],
   "source": []
  },
  {
   "cell_type": "code",
   "execution_count": 216,
   "id": "38121b44-ec05-41a5-bc9f-1610a250fef6",
   "metadata": {},
   "outputs": [],
   "source": [
    "def get_start_and_end_date(game,game_for_db):\n",
    "    game_date = get_pgn_item(game['pgn'], item='Date').split('.')\n",
    "    \n",
    "    game_for_db['year'] = int(game_date[0])\n",
    "    game_for_db['month'] = int(game_date[1])\n",
    "    game_for_db['day'] = int(game_date[2])\n",
    "    \n",
    "    game_start = get_pgn_item(game['pgn'], item='StartTime').split(':')\n",
    "    game_for_db['hour'] =  int(game_start[0])\n",
    "    game_for_db['minute'] = int(game_start[1])\n",
    "    game_for_db['second'] = int(game_start[2])\n",
    "\n",
    "    game_start = datetime(year = game_for_db['year'],\n",
    "                         month = game_for_db['month'],\n",
    "                         day = game_for_db['day'],\n",
    "                         hour = game_for_db['hour'],\n",
    "                         minute = game_for_db['minute'],\n",
    "                         second = game_for_db['second'])\n",
    "    \n",
    "    game_end_date = get_pgn_item(game['pgn'], item='EndDate').split('.')\n",
    "    game_for_db['end_year'] = int(game_end_date[0])\n",
    "    game_for_db['end_month'] = int(game_end_date[1])\n",
    "    game_for_db['end_day'] = int(game_end_date[2])\n",
    "    game_end_time = get_pgn_item(game['pgn'], item='EndTime').split(':')\n",
    "    game_for_db['end_hour'] = int(game_end_time[0])\n",
    "    game_for_db['end_minute'] = int(game_end_time[1])\n",
    "    game_for_db['end_second'] = int(game_end_time[2])\n",
    "\n",
    "    game_end = datetime(\n",
    "                year= game_for_db['end_year'],\n",
    "        month = game_for_db['end_month'],\n",
    "        day = game_for_db['end_day'],\n",
    "        hour = game_for_db['end_hour'],\n",
    "        minute = game_for_db['end_minute'],\n",
    "        second =game_for_db['end_second']\n",
    "    )\n",
    "\n",
    "    game_for_db['time_elapsed'] = (game_end - game_start).seconds\n",
    "    return game_for_db\n",
    "def get_black_and_white_data(game, game_for_db):\n",
    "    game_for_db['black'] = game['black']['username'].lower()\n",
    "    game_for_db['black_elo'] = int(game['black']['rating'])\n",
    "    game_for_db['black_result'] = game['black']['result'].lower()\n",
    "    \n",
    "    game_for_db['white'] = game['white']['username'].lower()\n",
    "    game_for_db['white_elo'] = int(game['white']['rating'])\n",
    "    game_for_db['white_result'] = game['white']['result'].lower()\n",
    "    return game_for_db\n",
    "def create_game_dict(game):\n",
    "    n_moves, moves_data = get_moves_data(game)\n",
    "    \n",
    "    game_for_db = dict()\n",
    "    game_for_db['link'] = game['url']   \n",
    "    \n",
    "    game_for_db = get_start_and_end_date(game, game_for_db)\n",
    "    game_for_db = get_black_and_white_data(game, game_for_db)\n",
    "    \n",
    "    \n",
    "    game_for_db['time_control']  = game['time_control']\n",
    "    game_for_db['eco']  = game['eco']\n",
    "    game_for_db['n_moves']  = n_moves\n",
    "    game_for_db['moves_data']  = moves_data\n",
    "    return game_for_db"
   ]
  },
  {
   "cell_type": "code",
   "execution_count": 220,
   "id": "932b62dc-046b-4b92-b4e6-5527fefa5a14",
   "metadata": {},
   "outputs": [],
   "source": [
    "def get_time_bonus(game):\n",
    "    time_control = game['time_control']\n",
    "    if \"+\" in time_control:\n",
    "        return int(time_control.split(\"+\")[-1])\n",
    "    return 0\n",
    "def get_n_moves(raw_moves):\n",
    "    return max(\n",
    "        [\n",
    "            int(x.replace(\".\", \"\"))\n",
    "            for x in raw_moves.split()\n",
    "            if x.replace(\".\", \"\").isnumeric()\n",
    "        ]\n",
    "    )\n",
    "def create_moves_table(\n",
    "                times: list,\n",
    "                clean_moves: list,\n",
    "                n_moves: int,\n",
    "                time_bonus: int) -> dict[str]:\n",
    "\n",
    "    ordered_times = np.array(times).reshape((-1, 2))\n",
    "    ordered_moves = np.array(clean_moves).reshape((-1, 2))\n",
    "    white_times = pd.Series(\n",
    "        [\n",
    "            pd.Timedelta(str(str_time)).total_seconds()\n",
    "            for str_time in ordered_times[:, 0]\n",
    "        ]\n",
    "    )\n",
    "    black_times = pd.Series(\n",
    "        [\n",
    "            pd.Timedelta(str(str_time)).total_seconds()\n",
    "            for str_time in ordered_times[:, 1]\n",
    "            if str_time != \"-\"\n",
    "        ]\n",
    "    )\n",
    "    white_cumsub = white_times.sub(white_times.shift(-1)) + time_bonus\n",
    "    black_cumsub = black_times.sub(black_times.shift(-1)) + time_bonus\n",
    "\n",
    "    result = {\n",
    "        \n",
    "        \"white_moves\": ordered_moves[:, 0],\n",
    "        \"white_reaction_times\": white_cumsub,\n",
    "        \"white_time_left\": white_times,\n",
    "        \"black_moves\": ordered_moves[:, 1],\n",
    "        \"black_reaction_times\": black_cumsub,\n",
    "        \"black_time_left\": black_times,\n",
    "\n",
    "        # \"moves\": \"\".join([str(x) + \" \" for x in range(1, n_moves + 1)])[:-1],\n",
    "        # \"white_moves\": \"\".join([str(x) + \" \" for x in ordered_moves[:, 0]])[:-1],\n",
    "        # \"white_reaction_times\": \"\".join([str(x) + \" \" for x in white_cumsub])[:-1],\n",
    "        # \"white_time_left\": \"\".join([str(x) + \" \" for x in white_times])[:-1],\n",
    "        # \"black_moves\": \"\".join([str(x) + \" \" for x in ordered_moves[:, 1]])[:-1],\n",
    "        # \"black_reaction_times\": \"\".join([str(x) + \" \" for x in black_cumsub])[:-1],\n",
    "        # \"black_time_left\": \"\".join([str(x) + \" \" for x in black_times])[:-1],\n",
    "    }\n",
    "    return result\n",
    "def get_moves_data(game: str) -> tuple:\n",
    "    time_bonus = get_time_bonus(game)\n",
    "    raw_moves = (\n",
    "        game['pgn'].split(\"\\n\\n\")[1]\n",
    "        .replace(\"1/2-1/2\", \"\")\n",
    "        .replace(\"1-0\", \"\")\n",
    "        .replace(\"0-1\", \"\")\n",
    "    )\n",
    "    n_moves = get_n_moves(raw_moves)\n",
    "    times = [x.replace(\"]\", \"\").replace(\"}\", \"\") for x in raw_moves.split() if \":\" in x]\n",
    "    just_moves = re.sub(r\"{[^}]*}*\", \"\", raw_moves)\n",
    "    clean_moves = [x for x in just_moves.split() if \".\" not in x]\n",
    "    if not f\"{n_moves}...\" in raw_moves:\n",
    "        clean_moves.append(\"-\")\n",
    "        times.append(\"-\")\n",
    "    moves_data = create_moves_table(times,\n",
    "                                    clean_moves,\n",
    "                                    n_moves,\n",
    "                                    time_bonus,\n",
    "                                    )\n",
    "    return n_moves, moves_data\n",
    "    #return times, clean_moves, n_moves, time_bonus, just_moves"
   ]
  },
  {
   "cell_type": "code",
   "execution_count": 223,
   "id": "b20b240f-207e-43dc-8065-4a2b2b4b2db9",
   "metadata": {},
   "outputs": [
    {
     "ename": "NameError",
     "evalue": "name 'format_and_insert_games' is not defined",
     "output_type": "error",
     "traceback": [
      "\u001b[31m---------------------------------------------------------------------------\u001b[39m",
      "\u001b[31mNameError\u001b[39m                                 Traceback (most recent call last)",
      "\u001b[36mCell\u001b[39m\u001b[36m \u001b[39m\u001b[32mIn[223]\u001b[39m\u001b[32m, line 1\u001b[39m\n\u001b[32m----> \u001b[39m\u001b[32m1\u001b[39m games_list, moves_list, months_list = format_and_insert_games(no_parallel)\n",
      "\u001b[31mNameError\u001b[39m: name 'format_and_insert_games' is not defined"
     ]
    }
   ],
   "source": [
    "games_list, moves_list, months_list = format_and_insert_games(no_parallel)"
   ]
  },
  {
   "cell_type": "code",
   "execution_count": null,
   "id": "625a6a0d-e7e2-4c7b-b0e0-e369d44566db",
   "metadata": {},
   "outputs": [],
   "source": []
  },
  {
   "cell_type": "code",
   "execution_count": null,
   "id": "ea312e94-8044-4c1b-807c-3d442c95df78",
   "metadata": {},
   "outputs": [],
   "source": []
  },
  {
   "cell_type": "code",
   "execution_count": null,
   "id": "9a75ae8b-7848-4daf-a70d-f77cf6d748a8",
   "metadata": {},
   "outputs": [],
   "source": []
  },
  {
   "cell_type": "code",
   "execution_count": 6,
   "id": "b7c77198-c60e-4ef2-98bd-287ddd65be00",
   "metadata": {},
   "outputs": [],
   "source": [
    "def delete_all_tables():\n",
    "    conn = get_ask_connection()\n",
    "    conn.autocommit = True\n",
    "    with conn.cursor() as curs:\n",
    "        curs.execute(\n",
    "            \"\"\"\n",
    "            SELECT table_name\n",
    "            FROM information_schema.tables\n",
    "            WHERE table_schema = 'public'\n",
    "            AND table_type = 'BASE TABLE';\n",
    "            \"\"\"\n",
    "        )\n",
    "        tables = curs.fetchall()\n",
    "        \n",
    "    if not tables:\n",
    "        print(\"No tables found in 'public' schema to delete.\")\n",
    "        return\n",
    "    for table_row in tables:\n",
    "        conn = get_ask_connection()\n",
    "        conn.autocommit = True\n",
    "        table_name = table_row[0]\n",
    "        print(f\"Deleting table: {table_name}...\")\n",
    "        try:\n",
    "            with conn.cursor() as curs:\n",
    "                curs.execute(f\"DROP TABLE IF EXISTS \\\"{table_name}\\\" CASCADE;\")\n",
    "                print(f\"Successfully deleted table: {table_name}\")\n",
    "        except Exception as e:\n",
    "            print(f\"An unexpected error occurred: {e}\")\n",
    "        finally:\n",
    "            if conn:\n",
    "                conn.close()\n",
    "                print(\"Database connection closed.\")"
   ]
  },
  {
   "cell_type": "code",
   "execution_count": 7,
   "id": "23b57171-dae3-4d74-a647-a2e9b51ef236",
   "metadata": {},
   "outputs": [
    {
     "name": "stdout",
     "output_type": "stream",
     "text": [
      "Deleting table: player...\n",
      "Successfully deleted table: player\n",
      "Database connection closed.\n",
      "Deleting table: game...\n",
      "Successfully deleted table: game\n",
      "Database connection closed.\n",
      "Deleting table: months...\n",
      "Successfully deleted table: months\n",
      "Database connection closed.\n",
      "Deleting table: moves...\n",
      "Successfully deleted table: moves\n",
      "Database connection closed.\n"
     ]
    }
   ],
   "source": [
    "delete_all_tables()"
   ]
  },
  {
   "cell_type": "code",
   "execution_count": null,
   "id": "c90768f0-4c10-4e02-858f-4af22f15ea24",
   "metadata": {},
   "outputs": [],
   "source": []
  },
  {
   "cell_type": "code",
   "execution_count": 6,
   "id": "579859d2-9c10-47e3-958b-7896cd8e2621",
   "metadata": {},
   "outputs": [
    {
     "name": "stdout",
     "output_type": "stream",
     "text": [
      "[]\n"
     ]
    }
   ],
   "source": [
    "conn = get_ask_connection()\n",
    "conn.autocommit = True\n",
    "with conn.cursor() as curs:\n",
    "    curs.execute(\n",
    "        \"\"\"\n",
    "        SELECT table_name\n",
    "        FROM information_schema.tables\n",
    "        WHERE table_schema = 'public'\n",
    "        AND table_type = 'BASE TABLE';\n",
    "        \"\"\"\n",
    "    )\n",
    "    tables = curs.fetchall()\n",
    "print(tables)"
   ]
  },
  {
   "cell_type": "code",
   "execution_count": null,
   "id": "b7ba040f-0840-4ea5-8044-dc4a17d29237",
   "metadata": {},
   "outputs": [],
   "source": [
    " where player_name=\"takate20\""
   ]
  },
  {
   "cell_type": "code",
   "execution_count": null,
   "id": "7e41cd32-2ec5-41d4-b2ca-371dac64ca36",
   "metadata": {},
   "outputs": [],
   "source": [
    " where player_name='takate20'"
   ]
  },
  {
   "cell_type": "code",
   "execution_count": 6,
   "id": "6cca67ed-f584-46f6-a684-877455c5e85c",
   "metadata": {},
   "outputs": [
    {
     "data": {
      "text/plain": [
       "[(1, 'pat_buchanan', 2024, 12, 35),\n",
       " (2, 'pat_buchanan', 2022, 12, 579),\n",
       " (3, 'pat_buchanan', 2023, 11, 1232),\n",
       " (4, 'pat_buchanan', 2024, 9, 0),\n",
       " (5, 'pat_buchanan', 2022, 9, 878),\n",
       " (6, 'pat_buchanan', 2023, 9, 1240)]"
      ]
     },
     "execution_count": 6,
     "metadata": {},
     "output_type": "execute_result"
    }
   ],
   "source": [
    "open_request(\"select * from months\")"
   ]
  },
  {
   "cell_type": "code",
   "execution_count": null,
   "id": "1b15598f-480f-4f05-8fd4-3e88df03d081",
   "metadata": {},
   "outputs": [],
   "source": []
  }
 ],
 "metadata": {
  "kernelspec": {
   "display_name": "chessism",
   "language": "python",
   "name": "chessism"
  },
  "language_info": {
   "codemirror_mode": {
    "name": "ipython",
    "version": 3
   },
   "file_extension": ".py",
   "mimetype": "text/x-python",
   "name": "python",
   "nbconvert_exporter": "python",
   "pygments_lexer": "ipython3",
   "version": "3.13.5"
  }
 },
 "nbformat": 4,
 "nbformat_minor": 5
}
