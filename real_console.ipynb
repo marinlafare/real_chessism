{
 "cells": [
  {
   "cell_type": "code",
   "execution_count": 1,
   "id": "4a335cd1-0c5f-4892-9bb6-2123a9a79b73",
   "metadata": {},
   "outputs": [
    {
     "name": "stdout",
     "output_type": "stream",
     "text": [
      "Format done in:  7.035706933339437\n"
     ]
    }
   ],
   "source": [
    "import pandas as pd\n",
    "import joblib\n",
    "import json\n",
    "player_name = 'nihalsarin'.lower()\n",
    "\n",
    "from database.operations.games import create_games\n",
    "\n",
    "from database.operations.chess_com_api import download_months \n",
    "\n",
    "from database.operations.format_games import format_and_insert_games,get_just_new_games,get_pgn_item\n",
    "from database.operations.players import insert_player\n",
    "from database.database.engine import init_db\n",
    "from constants import *\n",
    "from database.database.ask_db import (open_request,\n",
    "                                    get_ask_connection,\n",
    "                                    delete_all_tables,\n",
    "                                    get_players_already_in_db)\n",
    "\n",
    "init_db(CONN_STRING)\n",
    "\n",
    "result = create_games({\"player_name\":player_name})\n",
    "#joblib.dump(result,'result_hikaru_games.pkl')\n",
    "#result = joblib.load('result_hikaru.pkl')\n",
    "#result = joblib.load('result_hikaru_games.pkl')"
   ]
  },
  {
   "cell_type": "code",
   "execution_count": 4,
   "id": "ad8011f1-ca93-4d7d-955c-dcb785bbead2",
   "metadata": {},
   "outputs": [],
   "source": [
    "#delete_all_tables()"
   ]
  },
  {
   "cell_type": "code",
   "execution_count": 3,
   "id": "b6973f42-a045-4709-b00c-177e273dd69c",
   "metadata": {},
   "outputs": [
    {
     "data": {
      "text/plain": [
       "'DATA READY FOR nihalsarin'"
      ]
     },
     "execution_count": 3,
     "metadata": {},
     "output_type": "execute_result"
    }
   ],
   "source": [
    "result"
   ]
  },
  {
   "cell_type": "code",
   "execution_count": null,
   "id": "96e690c0-30db-4168-ba4c-97f7152af9d6",
   "metadata": {},
   "outputs": [],
   "source": []
  },
  {
   "cell_type": "code",
   "execution_count": null,
   "id": "bdccb029-a9f6-41cb-bf13-cab8ece15b78",
   "metadata": {},
   "outputs": [],
   "source": [
    "result[2016][1][0]"
   ]
  },
  {
   "cell_type": "code",
   "execution_count": null,
   "id": "d2849396-75ba-484c-a08c-752b545f5f21",
   "metadata": {},
   "outputs": [],
   "source": []
  },
  {
   "cell_type": "code",
   "execution_count": null,
   "id": "217f448a-45ed-496c-a254-d0934164d230",
   "metadata": {},
   "outputs": [],
   "source": []
  },
  {
   "cell_type": "code",
   "execution_count": null,
   "id": "ba9ce276-e2fe-4279-bd93-172a954288e8",
   "metadata": {},
   "outputs": [],
   "source": []
  },
  {
   "cell_type": "code",
   "execution_count": null,
   "id": "e1e14a27-e91b-41ef-8546-4ac42bca3bb8",
   "metadata": {},
   "outputs": [],
   "source": []
  },
  {
   "cell_type": "code",
   "execution_count": null,
   "id": "1969a0f6-0873-4ec9-a39d-f53b10f0bd6e",
   "metadata": {},
   "outputs": [],
   "source": []
  },
  {
   "cell_type": "code",
   "execution_count": null,
   "id": "41fbe561-1dba-41f3-905c-14cb2dec7d8d",
   "metadata": {},
   "outputs": [],
   "source": []
  },
  {
   "cell_type": "code",
   "execution_count": 7,
   "id": "b0c93174-7635-47f6-91d2-c37c6ceffe4f",
   "metadata": {},
   "outputs": [
    {
     "data": {
      "text/plain": [
       "[(113593243577,\n",
       "  'lafareto',\n",
       "  'tendaitainna',\n",
       "  2024,\n",
       "  7,\n",
       "  1,\n",
       "  17,\n",
       "  20,\n",
       "  17,\n",
       "  1176,\n",
       "  1142,\n",
       "  1.0,\n",
       "  -1.0,\n",
       "  'win',\n",
       "  'checkmated',\n",
       "  '60',\n",
       "  'https://www.chess.com/openings/Van-t-Kruijs-Opening',\n",
       "  105,\n",
       "  29)]"
      ]
     },
     "execution_count": 7,
     "metadata": {},
     "output_type": "execute_result"
    }
   ],
   "source": [
    "open_request('select * from game limit 1')"
   ]
  },
  {
   "cell_type": "code",
   "execution_count": 6,
   "id": "2583a714-afbb-4e6f-8015-d9ad2e4806d6",
   "metadata": {},
   "outputs": [
    {
     "data": {
      "text/plain": [
       "[(3760,)]"
      ]
     },
     "execution_count": 6,
     "metadata": {},
     "output_type": "execute_result"
    }
   ],
   "source": [
    "open_request(f\"SELECT COUNT(*) FROM game where white= '{player_name}';\")"
   ]
  },
  {
   "cell_type": "code",
   "execution_count": 7,
   "id": "3919b29b-46ab-48b9-97e8-5a8aeae2b103",
   "metadata": {},
   "outputs": [
    {
     "data": {
      "text/plain": [
       "[(1785430325,), (1785451568,), (1785470246,), (1785500213,), (1785532204,)]"
      ]
     },
     "execution_count": 7,
     "metadata": {},
     "output_type": "execute_result"
    }
   ],
   "source": [
    "open_request(f\"SELECT game.link FROM game where white = '{player_name}' LIMIT 5;\")"
   ]
  },
  {
   "cell_type": "code",
   "execution_count": 8,
   "id": "39de72ec-dbe0-48c8-a757-490fb274f117",
   "metadata": {},
   "outputs": [
    {
     "data": {
      "text/plain": [
       "[(1785500213,\n",
       "  'magnuscarlsen',\n",
       "  'hikaru',\n",
       "  2016,\n",
       "  10,\n",
       "  27,\n",
       "  18,\n",
       "  12,\n",
       "  13,\n",
       "  2909,\n",
       "  2946,\n",
       "  -1.0,\n",
       "  1.0,\n",
       "  'resigned',\n",
       "  'win',\n",
       "  '300+2',\n",
       "  'https://www.chess.com/openings/Kings-Indian-Attack-Double-Fianchetto-Pachman-System-6.Nbd2-O-O',\n",
       "  708,\n",
       "  51)]"
      ]
     },
     "execution_count": 8,
     "metadata": {},
     "output_type": "execute_result"
    }
   ],
   "source": [
    "open_request(\"SELECT * FROM game where game.link= '1785500213'\")"
   ]
  },
  {
   "cell_type": "code",
   "execution_count": 9,
   "id": "5314239f-6425-4158-9492-e351e6310174",
   "metadata": {},
   "outputs": [
    {
     "data": {
      "text/plain": [
       "[(525663, 1785500213, 1, 'Nf3', 'd5', 0.4, 0.4, 300.5, 300.0),\n",
       " (525664, 1785500213, 2, 'g3', 'g6', 0.4, 0.4, 302.1, 301.6),\n",
       " (525665, 1785500213, 3, 'Bg2', 'Bg7', 2.4, 7.1, 303.7, 303.2),\n",
       " (525666, 1785500213, 4, 'O-O', 'e5', 5.0, 1.5, 303.3, 298.1),\n",
       " (525667, 1785500213, 5, 'd3', 'Ne7', 2.6, 1.1, 300.3, 298.6),\n",
       " (525668, 1785500213, 6, 'Nbd2', 'O-O', 1.5, 0.9, 299.7, 299.5),\n",
       " (525669, 1785500213, 7, 'a3', 'c5', 3.9, 3.4, 300.2, 300.6),\n",
       " (525670, 1785500213, 8, 'e4', 'Nbc6', 1.5, 7.7, 298.3, 299.2),\n",
       " (525671, 1785500213, 9, 'Rb1', 'd4', 23.0, 4.8, 298.8, 293.5),\n",
       " (525672, 1785500213, 10, 'Nh4', 'Be6', 1.4, 0.9, 277.8, 290.7),\n",
       " (525673, 1785500213, 11, 'f4', 'exf4', 1.7, 0.5, 278.4, 291.8),\n",
       " (525674, 1785500213, 12, 'gxf4', 'f5', 4.3, 1.4, 278.7, 293.3),\n",
       " (525675, 1785500213, 13, 'b4', 'cxb4', 0.7, 16.5, 276.4, 293.9),\n",
       " (525676, 1785500213, 14, 'axb4', 'Qd7', 8.0, 1.3, 277.7, 279.4),\n",
       " (525677, 1785500213, 15, 'b5', 'Nd8', 1.7, 8.7, 271.7, 280.1),\n",
       " (525678, 1785500213, 16, 'Re1', 'Nf7', 2.9, 3.5, 272.0, 273.4),\n",
       " (525679, 1785500213, 17, 'Nhf3', 'Rac8', 6.5, 5.7, 271.1, 271.9),\n",
       " (525680, 1785500213, 18, 'e5', 'Nd5', 80.2, 12.0, 266.6, 268.2),\n",
       " (525681, 1785500213, 19, 'Bb2', 'Ne3', 23.1, 1.2, 188.4, 258.2),\n",
       " (525682, 1785500213, 20, 'Qe2', 'Nxc2', 3.5, 3.2, 167.3, 259.0),\n",
       " (525683, 1785500213, 21, 'Rec1', 'Ba2', 4.6, 34.1, 165.8, 257.8),\n",
       " (525684, 1785500213, 22, 'Nc4', 'Ne3', 25.8, 4.3, 163.2, 225.7),\n",
       " (525685, 1785500213, 23, 'Nxe3', 'dxe3', 3.2, 4.6, 139.4, 223.4),\n",
       " (525686, 1785500213, 24, 'Ra1', 'Bd5', 11.4, 27.7, 138.2, 220.8),\n",
       " (525687, 1785500213, 25, 'Qxe3', 'Rxc1+', 1.5, 11.1, 128.8, 195.1),\n",
       " (525688, 1785500213, 26, 'Rxc1', 'Re8', 17.5, 10.9, 129.3, 186.0),\n",
       " (525689, 1785500213, 27, 'Qd4', 'Rd8', 46.5, 45.8, 113.8, 177.1),\n",
       " (525690, 1785500213, 28, 'Ne1', 'Bf8', 24.7, 0.1, 69.3, 133.3),\n",
       " (525691, 1785500213, 29, 'Qxd5', 'Qxd5', 0.4, 0.9, 46.6, 135.2),\n",
       " (525692, 1785500213, 30, 'Bxd5', 'Rxd5', 0.5, 4.2, 48.2, 136.3),\n",
       " (525693, 1785500213, 31, 'Rc8', 'Nd8', 9.5, 6.9, 49.7, 134.1),\n",
       " (525694, 1785500213, 32, 'd4', 'Ne6', 3.2, 5.2, 42.2, 129.2),\n",
       " (525695, 1785500213, 33, 'Nc2', 'Kf7', 6.0, 16.6, 41.0, 126.0),\n",
       " (525696, 1785500213, 34, 'Ne3', 'Rxb5', 1.0, 6.8, 37.0, 111.4),\n",
       " (525697, 1785500213, 35, 'd5', 'Rxb2', 1.4, 0.3, 38.0, 106.6),\n",
       " (525698, 1785500213, 36, 'dxe6+', 'Ke7', 11.6, 6.5, 38.6, 108.3),\n",
       " (525699, 1785500213, 37, 'h4', 'Bh6', 17.3, 3.4, 29.0, 103.8),\n",
       " (525700, 1785500213, 38, 'Rh8', 'Kxe6', 0.2, 4.0, 13.7, 102.4),\n",
       " (525701, 1785500213, 39, 'Ng2', 'Rb4', 3.9, 7.2, 15.5, 100.4),\n",
       " (525702, 1785500213, 40, 'Re8+', 'Kf7', 1.2, 4.7, 13.6, 95.2),\n",
       " (525703, 1785500213, 41, 'Rh8', 'Bxf4', 0.7, 1.4, 14.4, 92.5),\n",
       " (525704, 1785500213, 42, 'Nxf4', 'Rxf4', 0.1, 0.4, 15.7, 93.1),\n",
       " (525705, 1785500213, 43, 'Rxh7+', 'Ke6', 0.4, 4.0, 17.6, 94.7),\n",
       " (525706, 1785500213, 44, 'h5', 'gxh5', 1.0, 0.5, 19.2, 92.7),\n",
       " (525707, 1785500213, 45, 'Rxb7', 'Ra4', 0.8, 1.9, 20.2, 94.2),\n",
       " (525708, 1785500213, 46, 'Rb5', 'Ra2', 1.6, 1.0, 21.4, 94.3),\n",
       " (525709, 1785500213, 47, 'Rc5', 'h4', 1.1, 1.0, 21.8, 95.3),\n",
       " (525710, 1785500213, 48, 'Rc4', 'h3', 1.8, 0.9, 22.7, 96.3),\n",
       " (525711, 1785500213, 49, 'Rh4', 'Kxe5', 1.3, 0.5, 22.9, 97.4),\n",
       " (525712, 1785500213, 50, 'Rxh3', 'a5', 1.6, 0.7, 23.6, 98.9),\n",
       " (525713, 1785500213, 51, 'Kf1', 'a4', nan, nan, 24.0, 100.2)]"
      ]
     },
     "execution_count": 9,
     "metadata": {},
     "output_type": "execute_result"
    }
   ],
   "source": [
    "open_request(\"SELECT * FROM moves where moves.link= '1785500213'\")"
   ]
  },
  {
   "cell_type": "code",
   "execution_count": null,
   "id": "5197b3c0-e308-4fb7-a8ae-33115038dd2a",
   "metadata": {},
   "outputs": [],
   "source": []
  },
  {
   "cell_type": "code",
   "execution_count": null,
   "id": "18beb665-7c35-4aec-af56-6f15a6ddb97b",
   "metadata": {},
   "outputs": [],
   "source": [
    "format_and_insert_games(result, player_name)"
   ]
  },
  {
   "cell_type": "code",
   "execution_count": null,
   "id": "891e5323-b58d-476d-a758-c3171f5082d9",
   "metadata": {},
   "outputs": [],
   "source": []
  },
  {
   "cell_type": "code",
   "execution_count": null,
   "id": "f0e5095e-c598-45bd-98ba-3d8610877d35",
   "metadata": {},
   "outputs": [],
   "source": []
  },
  {
   "cell_type": "code",
   "execution_count": null,
   "id": "cf8c2e94-1a93-4bd7-8d0d-c8969ee98304",
   "metadata": {},
   "outputs": [],
   "source": []
  },
  {
   "cell_type": "code",
   "execution_count": 10,
   "id": "d37e9529-2c32-457d-bfad-417510cb7d94",
   "metadata": {},
   "outputs": [],
   "source": [
    "errors = []\n",
    "for year in result.keys():\n",
    "    for month in result[year].keys():\n",
    "        for game in result[year][month]:\n",
    "            try:\n",
    "                text_games = game.getvalue()\n",
    "                text_games = text_games.replace(' \\\\\"Let\"s Play!','lets_play')\n",
    "                json.loads(text_games)\n",
    "            except:\n",
    "                errors.append(text_games)"
   ]
  },
  {
   "cell_type": "code",
   "execution_count": 11,
   "id": "1b442734-7a23-41a0-8899-454a8710bd6b",
   "metadata": {},
   "outputs": [
    {
     "data": {
      "text/plain": [
       "['{\"code\":0,\"message\":\"An internal error has occurred. Please contact Chess.com Developer\"s Forum for further help https://www.chess.com/club/chess-com-developer-community .\"}']"
      ]
     },
     "execution_count": 11,
     "metadata": {},
     "output_type": "execute_result"
    }
   ],
   "source": [
    "errors"
   ]
  },
  {
   "cell_type": "code",
   "execution_count": null,
   "id": "cc9cf50c-6762-4dd2-acba-2bbc0f29f72b",
   "metadata": {},
   "outputs": [],
   "source": [
    "text_games = pgn.getvalue()\n",
    "    #     text_games = text_games.replace(' \\\\\"Let\"s Play!','lets_play')\n",
    "    #     if text_games == False:\n",
    "    #         return False\n",
    "    #     try:\n",
    "    #         pgn = json.loads(text_games)"
   ]
  },
  {
   "cell_type": "code",
   "execution_count": null,
   "id": "e76df0a1-b377-4813-b630-d3fca7c89e1b",
   "metadata": {},
   "outputs": [],
   "source": [
    "result[2016][1][0]"
   ]
  },
  {
   "cell_type": "code",
   "execution_count": 12,
   "id": "3868387c-899d-4f41-867c-25e8cf08ef61",
   "metadata": {},
   "outputs": [
    {
     "data": {
      "text/plain": [
       "True"
      ]
     },
     "execution_count": 12,
     "metadata": {},
     "output_type": "execute_result"
    }
   ],
   "source": [
    "'code' in errors[0]"
   ]
  },
  {
   "cell_type": "code",
   "execution_count": 3,
   "id": "77c67d85-4be5-409e-b9ed-370844d2620f",
   "metadata": {},
   "outputs": [
    {
     "name": "stdout",
     "output_type": "stream",
     "text": [
      "two\n",
      "[]\n"
     ]
    },
    {
     "ename": "SyntaxError",
     "evalue": "syntax error at or near \")\"\nLINE 1: select link FROM game WHERE link in ()\n                                             ^\n",
     "output_type": "error",
     "traceback": [
      "\u001b[31m---------------------------------------------------------------------------\u001b[39m",
      "\u001b[31mSyntaxError\u001b[39m                               Traceback (most recent call last)",
      "\u001b[36mCell\u001b[39m\u001b[36m \u001b[39m\u001b[32mIn[3]\u001b[39m\u001b[32m, line 1\u001b[39m\n\u001b[32m----> \u001b[39m\u001b[32m1\u001b[39m format_and_insert_games(result, player_name)\n",
      "\u001b[36mFile \u001b[39m\u001b[32m~/workshop/chessism/real_chessism/database/operations/format_games.py:300\u001b[39m, in \u001b[36mformat_and_insert_games\u001b[39m\u001b[34m(games, player_name)\u001b[39m\n\u001b[32m    298\u001b[39m \u001b[38;5;28;01mdef\u001b[39;00m\u001b[38;5;250m \u001b[39m\u001b[34mformat_and_insert_games\u001b[39m(games, player_name):\n\u001b[32m    299\u001b[39m     \u001b[38;5;28mprint\u001b[39m(\u001b[33m'\u001b[39m\u001b[33mtwo\u001b[39m\u001b[33m'\u001b[39m)\n\u001b[32m--> \u001b[39m\u001b[32m300\u001b[39m     games = get_just_new_games(games)\n\u001b[32m    301\u001b[39m     \u001b[38;5;28mprint\u001b[39m(\u001b[33m'\u001b[39m\u001b[33mtree\u001b[39m\u001b[33m'\u001b[39m)\n\u001b[32m    302\u001b[39m     \u001b[38;5;28;01mif\u001b[39;00m \u001b[38;5;129;01mnot\u001b[39;00m games \u001b[38;5;129;01mor\u001b[39;00m \u001b[38;5;28mlen\u001b[39m(games)==\u001b[32m0\u001b[39m:\n",
      "\u001b[36mFile \u001b[39m\u001b[32m~/workshop/chessism/real_chessism/database/operations/format_games.py:270\u001b[39m, in \u001b[36mget_just_new_games\u001b[39m\u001b[34m(games)\u001b[39m\n\u001b[32m    268\u001b[39m                 \u001b[38;5;28;01mcontinue\u001b[39;00m\n\u001b[32m    269\u001b[39m \u001b[38;5;28mprint\u001b[39m(links)\n\u001b[32m--> \u001b[39m\u001b[32m270\u001b[39m in_db_games = get_games_already_in_db(\u001b[38;5;28mtuple\u001b[39m(links))\n\u001b[32m    271\u001b[39m to_insert_games = \u001b[38;5;28mset\u001b[39m([\u001b[38;5;28mint\u001b[39m(x) \u001b[38;5;28;01mfor\u001b[39;00m x \u001b[38;5;129;01min\u001b[39;00m links]) - in_db_games\n\u001b[32m    273\u001b[39m \u001b[38;5;28;01mif\u001b[39;00m \u001b[38;5;28mlen\u001b[39m(to_insert_games)==\u001b[32m0\u001b[39m:\n",
      "\u001b[36mFile \u001b[39m\u001b[32m~/workshop/chessism/real_chessism/database/database/ask_db.py:89\u001b[39m, in \u001b[36mget_games_already_in_db\u001b[39m\u001b[34m(tuple_of_links)\u001b[39m\n\u001b[32m     87\u001b[39m     placeholders = \u001b[33m'\u001b[39m\u001b[33m, \u001b[39m\u001b[33m'\u001b[39m.join([\u001b[33m'\u001b[39m\u001b[38;5;132;01m%s\u001b[39;00m\u001b[33m'\u001b[39m] * \u001b[38;5;28mlen\u001b[39m(tuple_of_links))\n\u001b[32m     88\u001b[39m     query = \u001b[33mf\u001b[39m\u001b[33m\"\u001b[39m\u001b[33mselect link FROM game WHERE link in (\u001b[39m\u001b[38;5;132;01m{\u001b[39;00mplaceholders\u001b[38;5;132;01m}\u001b[39;00m\u001b[33m)\u001b[39m\u001b[33m\"\u001b[39m\n\u001b[32m---> \u001b[39m\u001b[32m89\u001b[39m     curs.execute(query, tuple_of_links)\n\u001b[32m     90\u001b[39m     result = curs.fetchall()\n\u001b[32m     91\u001b[39m result = \u001b[38;5;28mset\u001b[39m(\u001b[38;5;28mlist\u001b[39m(chain.from_iterable(result)))\n",
      "\u001b[31mSyntaxError\u001b[39m: syntax error at or near \")\"\nLINE 1: select link FROM game WHERE link in ()\n                                             ^\n"
     ]
    }
   ],
   "source": [
    "format_and_insert_games(result, player_name)"
   ]
  },
  {
   "cell_type": "code",
   "execution_count": null,
   "id": "a847d310-e5c1-4115-9b42-e2e56dee35f3",
   "metadata": {},
   "outputs": [],
   "source": []
  },
  {
   "cell_type": "code",
   "execution_count": null,
   "id": "3fd2435f-0530-4cb5-bafb-077e8f6c3f6d",
   "metadata": {},
   "outputs": [],
   "source": []
  },
  {
   "cell_type": "code",
   "execution_count": null,
   "id": "215d9f24-8163-47f6-8e54-f7a8419c4c15",
   "metadata": {},
   "outputs": [],
   "source": []
  },
  {
   "cell_type": "code",
   "execution_count": null,
   "id": "5d14707d-cae6-4367-8bb7-039598d385a4",
   "metadata": {},
   "outputs": [],
   "source": []
  },
  {
   "cell_type": "code",
   "execution_count": null,
   "id": "085f1d75-b5fc-4ba1-a500-44bca6e766b2",
   "metadata": {},
   "outputs": [],
   "source": []
  },
  {
   "cell_type": "code",
   "execution_count": null,
   "id": "dddfa836-4b72-457b-b751-97d109898acc",
   "metadata": {},
   "outputs": [],
   "source": []
  },
  {
   "cell_type": "code",
   "execution_count": null,
   "id": "c1e45d19-d0bc-4dbf-ae10-b241b1c684c5",
   "metadata": {},
   "outputs": [],
   "source": []
  },
  {
   "cell_type": "code",
   "execution_count": null,
   "id": "2e7ba9db-fc11-4a9f-a311-dd60acfadd22",
   "metadata": {},
   "outputs": [],
   "source": [
    "result.keys()"
   ]
  },
  {
   "cell_type": "code",
   "execution_count": null,
   "id": "3b8c1d7c-4e4d-4951-87ae-c4c4e6ec94dc",
   "metadata": {},
   "outputs": [],
   "source": [
    "'popo'"
   ]
  },
  {
   "cell_type": "code",
   "execution_count": 4,
   "id": "0beef638-2cc3-45df-b2aa-fded582debbd",
   "metadata": {},
   "outputs": [],
   "source": [
    "#joblib.dump(result,'result_hikaru_game.pkl')"
   ]
  },
  {
   "cell_type": "code",
   "execution_count": null,
   "id": "f39d3625-05f8-4cbb-9c59-a2e2dd5721a1",
   "metadata": {},
   "outputs": [],
   "source": []
  },
  {
   "cell_type": "code",
   "execution_count": 40,
   "id": "fb69b196-edef-4b1c-8513-1a45a28d34b0",
   "metadata": {},
   "outputs": [
    {
     "name": "stdout",
     "output_type": "stream",
     "text": [
      "2024 7\n"
     ]
    }
   ],
   "source": [
    "filtered = {}\n",
    "for year in result.keys():\n",
    "    filtered[year] = {}\n",
    "    for month in result[year].keys():\n",
    "        \n",
    "        for game in result[year][month]:\n",
    "            filtered[year][month] = []\n",
    "            if game == False:\n",
    "                continue\n",
    "            try:\n",
    "                #game.getvalue()\n",
    "                text_games = game.getvalue()\n",
    "                text_games = text_games.replace(' \\\\\"Let\"s Play!','lets_play')\n",
    "                #event = text_game.split('Event')[1].split(']')[0]\n",
    "                json.loads(text_games)\n",
    "            except: print(year, month)"
   ]
  },
  {
   "cell_type": "code",
   "execution_count": 44,
   "id": "292ab7a7-bd37-4f4a-ab3e-07023595d2ac",
   "metadata": {},
   "outputs": [],
   "source": [
    "one_month = result[2024][7][0]"
   ]
  },
  {
   "cell_type": "code",
   "execution_count": 46,
   "id": "cbad0334-858d-477f-8123-3b1365c76a36",
   "metadata": {},
   "outputs": [
    {
     "data": {
      "text/plain": [
       "'{\"code\":0,\"message\":\"An internal error has occurred. Please contact Chess.com Developer\"s Forum for further help https://www.chess.com/club/chess-com-developer-community .\"}'"
      ]
     },
     "execution_count": 46,
     "metadata": {},
     "output_type": "execute_result"
    }
   ],
   "source": [
    "one_month.getvalue()"
   ]
  },
  {
   "cell_type": "code",
   "execution_count": 42,
   "id": "041bf480-669f-469c-aea9-c1e60ee0e160",
   "metadata": {},
   "outputs": [
    {
     "ename": "AttributeError",
     "evalue": "'bool' object has no attribute 'getvalue'",
     "output_type": "error",
     "traceback": [
      "\u001b[31m---------------------------------------------------------------------------\u001b[39m",
      "\u001b[31mAttributeError\u001b[39m                            Traceback (most recent call last)",
      "\u001b[36mCell\u001b[39m\u001b[36m \u001b[39m\u001b[32mIn[42]\u001b[39m\u001b[32m, line 1\u001b[39m\n\u001b[32m----> \u001b[39m\u001b[32m1\u001b[39m json.loads(one_month.getvalue())\n",
      "\u001b[31mAttributeError\u001b[39m: 'bool' object has no attribute 'getvalue'"
     ]
    }
   ],
   "source": [
    "json.loads(one_month.getvalue())"
   ]
  },
  {
   "cell_type": "code",
   "execution_count": 31,
   "id": "69119645-20b7-467f-bc1f-be20d6005661",
   "metadata": {},
   "outputs": [],
   "source": [
    "a = ' \\\\\"Let\"s Play!'"
   ]
  },
  {
   "cell_type": "code",
   "execution_count": 32,
   "id": "45a4c4d1-6cca-487a-ba10-e6e89c9c05ed",
   "metadata": {},
   "outputs": [
    {
     "data": {
      "text/plain": [
       "True"
      ]
     },
     "execution_count": 32,
     "metadata": {},
     "output_type": "execute_result"
    }
   ],
   "source": [
    "a in one_month.getvalue()"
   ]
  },
  {
   "cell_type": "code",
   "execution_count": 36,
   "id": "70528f8b-59e6-4a94-b28a-382cb1edef13",
   "metadata": {},
   "outputs": [
    {
     "data": {
      "text/plain": [
       "' \\\\\"Let\"s Play!'"
      ]
     },
     "execution_count": 36,
     "metadata": {},
     "output_type": "execute_result"
    }
   ],
   "source": [
    "one_month.getvalue()[1561594:1561608]"
   ]
  },
  {
   "cell_type": "code",
   "execution_count": 29,
   "id": "8fc19e48-f270-4f3b-bcf2-7cfa1d2b2ca5",
   "metadata": {},
   "outputs": [],
   "source": [
    "individual_games = re.split(r'\\n{2,}', one_month.getvalue().strip())"
   ]
  },
  {
   "cell_type": "code",
   "execution_count": 28,
   "id": "0afce6dd-894a-4120-82ab-a35b9c50179e",
   "metadata": {},
   "outputs": [],
   "source": [
    "import re"
   ]
  },
  {
   "cell_type": "code",
   "execution_count": null,
   "id": "a6fe6afc-2afb-45ba-b25b-80b2f912c5f8",
   "metadata": {},
   "outputs": [],
   "source": [
    "individual_games[0]"
   ]
  },
  {
   "cell_type": "code",
   "execution_count": null,
   "id": "b1af0265-7125-4f4e-b09d-a8c121a87502",
   "metadata": {},
   "outputs": [],
   "source": [
    "one_month.getvalue()"
   ]
  },
  {
   "cell_type": "code",
   "execution_count": null,
   "id": "cb225c60-36ec-4f5c-8aad-4b5783580ab4",
   "metadata": {},
   "outputs": [],
   "source": []
  },
  {
   "cell_type": "code",
   "execution_count": 23,
   "id": "d6b6578f-41ab-4e5b-b6f4-1f14f3c26a98",
   "metadata": {},
   "outputs": [],
   "source": [
    "first_line = one_month.getvalue().split('Event')[1].split(']')"
   ]
  },
  {
   "cell_type": "code",
   "execution_count": null,
   "id": "f46068ee-9d8c-4ca1-bc7a-8f015bac8cd7",
   "metadata": {},
   "outputs": [],
   "source": [
    "first_line"
   ]
  },
  {
   "cell_type": "code",
   "execution_count": null,
   "id": "ca8722b3-9103-4ea9-bee7-d2a6938f64a0",
   "metadata": {},
   "outputs": [],
   "source": []
  },
  {
   "cell_type": "code",
   "execution_count": 14,
   "id": "da97a56b-4a88-4825-a2b6-64f90b99cccc",
   "metadata": {},
   "outputs": [],
   "source": [
    "result_one = result[2016][1][0]"
   ]
  },
  {
   "cell_type": "code",
   "execution_count": null,
   "id": "83556f56-2629-4e02-b013-b44e6e869b41",
   "metadata": {},
   "outputs": [],
   "source": [
    "result_one.getvalue()"
   ]
  },
  {
   "cell_type": "code",
   "execution_count": null,
   "id": "c3fb1d4d-770e-4d25-bf1c-59470d45fec9",
   "metadata": {},
   "outputs": [],
   "source": []
  },
  {
   "cell_type": "code",
   "execution_count": null,
   "id": "60534693-245c-4c03-bf1f-d4de75ef5314",
   "metadata": {},
   "outputs": [],
   "source": []
  },
  {
   "cell_type": "code",
   "execution_count": null,
   "id": "e7cbd82b-9204-4654-b396-1f43e013d56d",
   "metadata": {},
   "outputs": [],
   "source": []
  },
  {
   "cell_type": "code",
   "execution_count": null,
   "id": "a47c0bcd-283e-402b-b26a-11d6eef185e3",
   "metadata": {},
   "outputs": [],
   "source": []
  },
  {
   "cell_type": "code",
   "execution_count": null,
   "id": "ed2c4652-8ea5-4b37-b4d0-ffab3621b100",
   "metadata": {},
   "outputs": [],
   "source": []
  },
  {
   "cell_type": "code",
   "execution_count": null,
   "id": "93b890c0-1108-4073-b5de-c04ca037ce05",
   "metadata": {},
   "outputs": [],
   "source": []
  },
  {
   "cell_type": "code",
   "execution_count": null,
   "id": "50ecae82-25f1-4074-8851-ca535ed2ffd7",
   "metadata": {},
   "outputs": [],
   "source": []
  },
  {
   "cell_type": "code",
   "execution_count": null,
   "id": "4ee7d1e7-9b1a-4e5e-adae-28d743c5d10a",
   "metadata": {},
   "outputs": [],
   "source": []
  },
  {
   "cell_type": "code",
   "execution_count": null,
   "id": "361b3adb-45bf-4258-af69-a3f96261ee6e",
   "metadata": {},
   "outputs": [],
   "source": []
  },
  {
   "cell_type": "code",
   "execution_count": null,
   "id": "c6cfef50-4680-4a10-9094-951120da6af0",
   "metadata": {},
   "outputs": [],
   "source": []
  },
  {
   "cell_type": "code",
   "execution_count": null,
   "id": "b6641eb7-1f3e-4606-8dfe-7dfc5b747685",
   "metadata": {},
   "outputs": [],
   "source": []
  },
  {
   "cell_type": "code",
   "execution_count": null,
   "id": "cb64de49-828c-480a-8261-c7b9832d9a97",
   "metadata": {},
   "outputs": [],
   "source": []
  },
  {
   "cell_type": "code",
   "execution_count": null,
   "id": "0e80ae41-341a-425d-a759-00532b3b886a",
   "metadata": {},
   "outputs": [],
   "source": []
  },
  {
   "cell_type": "code",
   "execution_count": null,
   "id": "270edd10-116a-486d-82c8-cf7b3a15aa01",
   "metadata": {},
   "outputs": [],
   "source": []
  },
  {
   "cell_type": "code",
   "execution_count": 2,
   "id": "c0060434-604e-4d51-a3ba-7d928f39aac6",
   "metadata": {},
   "outputs": [
    {
     "name": "stdout",
     "output_type": "stream",
     "text": [
      "Deleting table: player...\n",
      "Successfully deleted table: player\n",
      "Database connection closed.\n",
      "Deleting table: game...\n",
      "Successfully deleted table: game\n",
      "Database connection closed.\n",
      "Deleting table: months...\n",
      "Successfully deleted table: months\n",
      "Database connection closed.\n",
      "Deleting table: moves...\n",
      "Successfully deleted table: moves\n",
      "Database connection closed.\n"
     ]
    }
   ],
   "source": []
  },
  {
   "cell_type": "code",
   "execution_count": null,
   "id": "05d0541c-b109-4f97-aa3d-ab82a8fa497b",
   "metadata": {},
   "outputs": [],
   "source": []
  },
  {
   "cell_type": "code",
   "execution_count": 2,
   "id": "8b67a4ad-5d9d-4239-99f9-936f8f8642af",
   "metadata": {},
   "outputs": [
    {
     "data": {
      "text/plain": [
       "dict"
      ]
     },
     "execution_count": 2,
     "metadata": {},
     "output_type": "execute_result"
    }
   ],
   "source": [
    "type(result)"
   ]
  },
  {
   "cell_type": "code",
   "execution_count": 3,
   "id": "7c3cd4c9-6047-490a-8e69-86e091eff417",
   "metadata": {},
   "outputs": [
    {
     "data": {
      "text/plain": [
       "dict_keys([2016, 2017, 2018, 2019, 2020, 2021, 2022, 2023, 2024, 2025])"
      ]
     },
     "execution_count": 3,
     "metadata": {},
     "output_type": "execute_result"
    }
   ],
   "source": [
    "result.keys()"
   ]
  },
  {
   "cell_type": "code",
   "execution_count": null,
   "id": "6b1f58e8-208b-4041-8ca4-a8203695e715",
   "metadata": {},
   "outputs": [],
   "source": [
    "format_and_insert_games(result, player_name)"
   ]
  },
  {
   "cell_type": "code",
   "execution_count": 24,
   "id": "5787ae03-4908-44e7-a25b-631a439aae6e",
   "metadata": {},
   "outputs": [
    {
     "ename": "UndefinedTable",
     "evalue": "relation \"months\" does not exist\nLINE 1: select * from months\n                      ^\n",
     "output_type": "error",
     "traceback": [
      "\u001b[31m---------------------------------------------------------------------------\u001b[39m",
      "\u001b[31mUndefinedTable\u001b[39m                            Traceback (most recent call last)",
      "\u001b[36mCell\u001b[39m\u001b[36m \u001b[39m\u001b[32mIn[24]\u001b[39m\u001b[32m, line 1\u001b[39m\n\u001b[32m----> \u001b[39m\u001b[32m1\u001b[39m open_request(\u001b[33m'\u001b[39m\u001b[33mselect * from months\u001b[39m\u001b[33m'\u001b[39m)\n",
      "\u001b[36mFile \u001b[39m\u001b[32m~/workshop/chessism/real_chessism/database/database/ask_db.py:26\u001b[39m, in \u001b[36mopen_request\u001b[39m\u001b[34m(sql_question)\u001b[39m\n\u001b[32m     24\u001b[39m conn = get_ask_connection()\n\u001b[32m     25\u001b[39m \u001b[38;5;28;01mwith\u001b[39;00m conn.cursor() \u001b[38;5;28;01mas\u001b[39;00m curs:\n\u001b[32m---> \u001b[39m\u001b[32m26\u001b[39m     curs.execute(\n\u001b[32m     27\u001b[39m         sql_question\n\u001b[32m     28\u001b[39m     )\n\u001b[32m     29\u001b[39m     result = curs.fetchall()\n\u001b[32m     30\u001b[39m \u001b[38;5;28;01mreturn\u001b[39;00m result\n",
      "\u001b[31mUndefinedTable\u001b[39m: relation \"months\" does not exist\nLINE 1: select * from months\n                      ^\n"
     ]
    }
   ],
   "source": [
    "open_request('select * from months')"
   ]
  },
  {
   "cell_type": "code",
   "execution_count": null,
   "id": "f704a3db-c12c-46aa-aef9-f90a0bdabbf4",
   "metadata": {},
   "outputs": [],
   "source": []
  }
 ],
 "metadata": {
  "kernelspec": {
   "display_name": "chessism_gpu",
   "language": "python",
   "name": "chessism_gpu"
  },
  "language_info": {
   "codemirror_mode": {
    "name": "ipython",
    "version": 3
   },
   "file_extension": ".py",
   "mimetype": "text/x-python",
   "name": "python",
   "nbconvert_exporter": "python",
   "pygments_lexer": "ipython3",
   "version": "3.12.9"
  }
 },
 "nbformat": 4,
 "nbformat_minor": 5
}
