import os
from dotenv import load_dotenv
import json
import requests
import re
from datetime import datetime
import io
from constants import *
from database.operations.models import PlayerCreateData, GameCreateData, MoveCreateData,MonthCreateData
from database.database.ask_db import open_request,get_ask_connection,delete_all_tables,get_games_already_in_db
from database.operations.players import insert_player, read_player
from database.operations.games import create_games
from database.operations.format_dates import create_range
import database.operations.chess_com_endpoints as chess_com_endpoints
from database.operations.chess_com_api import download_months, download_month
from database.operations.format_games import format_and_insert_games
from database.operations.players import insert_player
from database.operations.chess_com_api import get_profile


from database.database.db_interface import DBInterface
from database.database.models import Player, Game, Month, Move


player_interface = DBInterface(Player)
game_interface = DBInterface(Game)
month_interface = DBInterface(Month)
move_interface = DBInterface(Move)


GameCreateData.__annotations__.keys()





from database.operations.chess_com_api import download_months 

from database.operations.format_games import format_and_insert_games,get_just_new_games
from database.operations.players import insert_player
from database.database.engine import init_db
from constants import *
from database.database.ask_db import (open_request,
                                    get_ask_connection,
                                    delete_all_tables,
                                    get_players_already_in_db)

init_db(CONN_STRING)


insert_player({"player_name":"Pat_Buchanan".lower()})


get_players_already_in_db(('hikaru','magnus'))


load_dotenv('this_is_not_an_env.env')


# parallel = download_months("mesielepush", [(2024,10),
#                            (2024,11),
#                            (2023,10),
#                            (2023,11)], parallel=True)
# type(parallel)
# len(parallel[2024][10])


#pgn = download_month("Pat_Buchanan".lower(), 2022,12)


player_name = "Pat_Buchanan".lower()
no_parallel = download_months(player_name, [(2024,'09'),
                                           (2023,'09'),
                                           (2022,'09')], parallel=False)


type(no_parallel)


len(no_parallel[2024][12])


no_parallel.keys()


get_games_already_in_db(tuple(['126821380481','2344607562', 2344641993,2344560420]))





open_request("select * from months")


format_and_insert_games(no_parallel,player_name)


moves_list[121]


months_list











import math


one_game_moves = [x for x in moves_list if x['link'] == 121533668057]


white_total = sum([x['white_reaction_time'] for x in one_game_moves if not math.isnan(x['white_reaction_time'])])


black_total = sum([x['black_reaction_time'] for x in one_game_moves if not math.isnan(x['black_reaction_time'])])


black_total


white_total








one_game_moves[0]['white_reaction_time']


one_game_moves[-1]['white_reaction_time']


type(one_game_moves[-1]['white_reaction_time'])








import numpy as np





[x['white_reaction_time'] for x in one_game_moves]











game_interface.create_all(games_list)





game_interface.create(games_list[0])





links = [x['link'] for x in games_list]


links[0]





MonthCreateData.__annotations__.keys()


moves_list[0].keys()





int(games_list[0]['link'].split('/')[-1])


MoveCreateData.__annotations__.keys()


one_game_moves = moves_list[0]


to_insert_moves = []


for ind, white_move in enumerate(one_game_moves['white_moves']):
    data_dict = {}
    data_dict['n_move'] = ind + 1
    data_dict['link'] = one_game_moves['link']
    data_dict['white_move'] = white_move
    data_dict['black_move'] = one_game_moves['white_moves'][ind]
    data_dict['white_reaction_time'] = round(one_game_moves['white_reaction_times'][ind],3)
    data_dict['black_reaction_time'] = round(one_game_moves['black_reaction_times'][ind],3)
    data_dict['white_time_left'] = round(one_game_moves['white_time_left'][ind],3)
    data_dict['black_time_left'] = round(one_game_moves['black_time_left'][ind],3)
    
    MoveCreateData(**data_dict).model_dump()
    














MonthCreateData(**moves_list[0]).model_dump()





games_list[0]


len(games_list)


for game in games_list:
    if game['year'] == 0:
        print(game)














def get_start_and_end_date(game,game_for_db):
    game_date = get_pgn_item(game['pgn'], item='Date').split('.')
    
    game_for_db['year'] = int(game_date[0])
    game_for_db['month'] = int(game_date[1])
    game_for_db['day'] = int(game_date[2])
    
    game_start = get_pgn_item(game['pgn'], item='StartTime').split(':')
    game_for_db['hour'] =  int(game_start[0])
    game_for_db['minute'] = int(game_start[1])
    game_for_db['second'] = int(game_start[2])

    game_start = datetime(year = game_for_db['year'],
                         month = game_for_db['month'],
                         day = game_for_db['day'],
                         hour = game_for_db['hour'],
                         minute = game_for_db['minute'],
                         second = game_for_db['second'])
    
    game_end_date = get_pgn_item(game['pgn'], item='EndDate').split('.')
    game_for_db['end_year'] = int(game_end_date[0])
    game_for_db['end_month'] = int(game_end_date[1])
    game_for_db['end_day'] = int(game_end_date[2])
    game_end_time = get_pgn_item(game['pgn'], item='EndTime').split(':')
    game_for_db['end_hour'] = int(game_end_time[0])
    game_for_db['end_minute'] = int(game_end_time[1])
    game_for_db['end_second'] = int(game_end_time[2])

    game_end = datetime(
                year= game_for_db['end_year'],
        month = game_for_db['end_month'],
        day = game_for_db['end_day'],
        hour = game_for_db['end_hour'],
        minute = game_for_db['end_minute'],
        second =game_for_db['end_second']
    )

    game_for_db['time_elapsed'] = (game_end - game_start).seconds
    return game_for_db
def get_black_and_white_data(game, game_for_db):
    game_for_db['black'] = game['black']['username'].lower()
    game_for_db['black_elo'] = int(game['black']['rating'])
    game_for_db['black_result'] = game['black']['result'].lower()
    
    game_for_db['white'] = game['white']['username'].lower()
    game_for_db['white_elo'] = int(game['white']['rating'])
    game_for_db['white_result'] = game['white']['result'].lower()
    return game_for_db
def create_game_dict(game):
    n_moves, moves_data = get_moves_data(game)
    
    game_for_db = dict()
    game_for_db['link'] = game['url']   
    
    game_for_db = get_start_and_end_date(game, game_for_db)
    game_for_db = get_black_and_white_data(game, game_for_db)
    
    
    game_for_db['time_control']  = game['time_control']
    game_for_db['eco']  = game['eco']
    game_for_db['n_moves']  = n_moves
    game_for_db['moves_data']  = moves_data
    return game_for_db


def get_time_bonus(game):
    time_control = game['time_control']
    if "+" in time_control:
        return int(time_control.split("+")[-1])
    return 0
def get_n_moves(raw_moves):
    return max(
        [
            int(x.replace(".", ""))
            for x in raw_moves.split()
            if x.replace(".", "").isnumeric()
        ]
    )
def create_moves_table(
                times: list,
                clean_moves: list,
                n_moves: int,
                time_bonus: int) -> dict[str]:

    ordered_times = np.array(times).reshape((-1, 2))
    ordered_moves = np.array(clean_moves).reshape((-1, 2))
    white_times = pd.Series(
        [
            pd.Timedelta(str(str_time)).total_seconds()
            for str_time in ordered_times[:, 0]
        ]
    )
    black_times = pd.Series(
        [
            pd.Timedelta(str(str_time)).total_seconds()
            for str_time in ordered_times[:, 1]
            if str_time != "-"
        ]
    )
    white_cumsub = white_times.sub(white_times.shift(-1)) + time_bonus
    black_cumsub = black_times.sub(black_times.shift(-1)) + time_bonus

    result = {
        
        "white_moves": ordered_moves[:, 0],
        "white_reaction_times": white_cumsub,
        "white_time_left": white_times,
        "black_moves": ordered_moves[:, 1],
        "black_reaction_times": black_cumsub,
        "black_time_left": black_times,

        # "moves": "".join([str(x) + " " for x in range(1, n_moves + 1)])[:-1],
        # "white_moves": "".join([str(x) + " " for x in ordered_moves[:, 0]])[:-1],
        # "white_reaction_times": "".join([str(x) + " " for x in white_cumsub])[:-1],
        # "white_time_left": "".join([str(x) + " " for x in white_times])[:-1],
        # "black_moves": "".join([str(x) + " " for x in ordered_moves[:, 1]])[:-1],
        # "black_reaction_times": "".join([str(x) + " " for x in black_cumsub])[:-1],
        # "black_time_left": "".join([str(x) + " " for x in black_times])[:-1],
    }
    return result
def get_moves_data(game: str) -> tuple:
    time_bonus = get_time_bonus(game)
    raw_moves = (
        game['pgn'].split("\n\n")[1]
        .replace("1/2-1/2", "")
        .replace("1-0", "")
        .replace("0-1", "")
    )
    n_moves = get_n_moves(raw_moves)
    times = [x.replace("]", "").replace("}", "") for x in raw_moves.split() if ":" in x]
    just_moves = re.sub(r"{[^}]*}*", "", raw_moves)
    clean_moves = [x for x in just_moves.split() if "." not in x]
    if not f"{n_moves}..." in raw_moves:
        clean_moves.append("-")
        times.append("-")
    moves_data = create_moves_table(times,
                                    clean_moves,
                                    n_moves,
                                    time_bonus,
                                    )
    return n_moves, moves_data
    #return times, clean_moves, n_moves, time_bonus, just_moves


games_list, moves_list, months_list = format_and_insert_games(no_parallel)











def delete_all_tables():
    conn = get_ask_connection()
    conn.autocommit = True
    with conn.cursor() as curs:
        curs.execute(
            """
            SELECT table_name
            FROM information_schema.tables
            WHERE table_schema = 'public'
            AND table_type = 'BASE TABLE';
            """
        )
        tables = curs.fetchall()
        
    if not tables:
        print("No tables found in 'public' schema to delete.")
        return
    for table_row in tables:
        conn = get_ask_connection()
        conn.autocommit = True
        table_name = table_row[0]
        print(f"Deleting table: {table_name}...")
        try:
            with conn.cursor() as curs:
                curs.execute(f"DROP TABLE IF EXISTS \"{table_name}\" CASCADE;")
                print(f"Successfully deleted table: {table_name}")
        except Exception as e:
            print(f"An unexpected error occurred: {e}")
        finally:
            if conn:
                conn.close()
                print("Database connection closed.")


delete_all_tables()





conn = get_ask_connection()
conn.autocommit = True
with conn.cursor() as curs:
    curs.execute(
        """
        SELECT table_name
        FROM information_schema.tables
        WHERE table_schema = 'public'
        AND table_type = 'BASE TABLE';
        """
    )
    tables = curs.fetchall()
print(tables)


 where player_name="takate20"


 where player_name='takate20'


o = open_request("select * from months where player_name = 'pat_buchanan'")


o


recorded_months = [(x[2],x[3]) for x in o]


date_range = create_range({"player_name":player_name})


data_range = set(date_range)


recorded_months = set(recorded_months)


valid = data_range - recorded_months


valid





player_name = "Pat_Buchanan".lower()

from database.operations.games import create_games

from database.operations.chess_com_api import download_months 

from database.operations.format_games import format_and_insert_games,get_just_new_games
from database.operations.players import insert_player
from database.database.engine import init_db
from constants import *
from database.database.ask_db import (open_request,
                                    get_ask_connection,
                                    delete_all_tables,
                                    get_players_already_in_db)

init_db(CONN_STRING)

result = create_games({"player_name":player_name})


result[0]


result


type(result)


result.keys()


short = result[2016]








from database.operations import chess_com_endpoints
 format_and_insert_games(games, player_name)


USER_AGENT = chess_com_endpoints.USER_AGENT
DOWNLOAD_MONTH = (
    chess_com_endpoints.DOWNLOAD_MONTH
    .replace("{player}", player_name)
    .replace("{year}", str(2020))
    .replace("{month}", str(07))
)


games = requests.get(DOWNLOAD_MONTH,
                         allow_redirects=True,
                         timeout=5,
                         headers = {"User-Agent": USER_AGENT})





















