{
 "cells": [
  {
   "cell_type": "code",
   "execution_count": 1,
   "id": "170a08a1-d403-4611-9c29-fc7426d85da2",
   "metadata": {},
   "outputs": [],
   "source": [
    "import os\n",
    "from dotenv import load_dotenv"
   ]
  },
  {
   "cell_type": "code",
   "execution_count": 2,
   "id": "44c62207-21af-4463-ad14-2742752df30a",
   "metadata": {},
   "outputs": [
    {
     "data": {
      "text/plain": [
       "True"
      ]
     },
     "execution_count": 2,
     "metadata": {},
     "output_type": "execute_result"
    }
   ],
   "source": [
    "import requests\n",
    "root = os.getcwd().split('/database')[0]\n",
    "load_dotenv(root + \"/this_is_not_an_env.env\")"
   ]
  },
  {
   "cell_type": "code",
   "execution_count": 3,
   "id": "0edd3992-2944-481f-a47f-ba3d0ca5d708",
   "metadata": {},
   "outputs": [],
   "source": [
    "url = \"https://api.chess.com/pub/player/hikaru\""
   ]
  },
  {
   "cell_type": "code",
   "execution_count": 4,
   "id": "cf49b9a4-6d31-4c60-8361-5fec90671be1",
   "metadata": {},
   "outputs": [],
   "source": [
    "#response = requests.get(url)"
   ]
  },
  {
   "cell_type": "code",
   "execution_count": null,
   "id": "6a09ce87-6fe6-43e7-bde3-1b1ef8e82d8e",
   "metadata": {},
   "outputs": [],
   "source": [
    "#response.__dict__"
   ]
  },
  {
   "cell_type": "code",
   "execution_count": 3,
   "id": "82deee36-86c4-42e5-9b9b-4f728f4caa1c",
   "metadata": {},
   "outputs": [],
   "source": [
    "player_name = 'hikaru'"
   ]
  },
  {
   "cell_type": "code",
   "execution_count": 4,
   "id": "78faa20f-ed7a-4673-a697-a6d4c092dad9",
   "metadata": {},
   "outputs": [],
   "source": [
    "PLAYER = os.getenv(\"PLAYER\")"
   ]
  },
  {
   "cell_type": "code",
   "execution_count": 5,
   "id": "5a5f055a-9d9d-415a-8e14-1cd2ddd9bd62",
   "metadata": {},
   "outputs": [
    {
     "data": {
      "text/plain": [
       "'https://api.chess.com/pub/player/{player_name}'"
      ]
     },
     "execution_count": 5,
     "metadata": {},
     "output_type": "execute_result"
    }
   ],
   "source": [
    "PLAYER"
   ]
  },
  {
   "cell_type": "code",
   "execution_count": null,
   "id": "6b9e3a81-88bc-4469-99e8-1f08b00e7b57",
   "metadata": {},
   "outputs": [],
   "source": []
  },
  {
   "cell_type": "code",
   "execution_count": 6,
   "id": "b73b9354-2044-4357-aeb0-114f212f6067",
   "metadata": {},
   "outputs": [],
   "source": [
    "PLAYER = os.getenv(\"PLAYER\").replace(\"{player_name}\", player_name)"
   ]
  },
  {
   "cell_type": "code",
   "execution_count": 7,
   "id": "4d9205a3-540b-4d89-9cf4-99aafb85de12",
   "metadata": {},
   "outputs": [],
   "source": [
    "USER_AGENT = os.getenv('USER_AGENT')"
   ]
  },
  {
   "cell_type": "code",
   "execution_count": 8,
   "id": "6a17c96e-4804-4100-a646-c2d718b6017d",
   "metadata": {},
   "outputs": [
    {
     "data": {
      "text/plain": [
       "'Mozilla/5.0 (Macintosh; Intel Mac OS X x.y; rv:42.0) Gecko/20100101 Firefox/42.0'"
      ]
     },
     "execution_count": 8,
     "metadata": {},
     "output_type": "execute_result"
    }
   ],
   "source": [
    "USER_AGENT"
   ]
  },
  {
   "cell_type": "code",
   "execution_count": null,
   "id": "21aeb1a2-7985-4a51-b15c-583a01dc8fdd",
   "metadata": {},
   "outputs": [],
   "source": []
  }
 ],
 "metadata": {
  "kernelspec": {
   "display_name": "chessism",
   "language": "python",
   "name": "chessism"
  },
  "language_info": {
   "codemirror_mode": {
    "name": "ipython",
    "version": 3
   },
   "file_extension": ".py",
   "mimetype": "text/x-python",
   "name": "python",
   "nbconvert_exporter": "python",
   "pygments_lexer": "ipython3",
   "version": "3.13.5"
  }
 },
 "nbformat": 4,
 "nbformat_minor": 5
}
